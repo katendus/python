{
  "nbformat": 4,
  "nbformat_minor": 0,
  "metadata": {
    "colab": {
      "provenance": [],
      "authorship_tag": "ABX9TyMjJt8aeb4SqSkrZJrbbCtH",
      "include_colab_link": true
    },
    "kernelspec": {
      "name": "python3",
      "display_name": "Python 3"
    },
    "language_info": {
      "name": "python"
    }
  },
  "cells": [
    {
      "cell_type": "markdown",
      "metadata": {
        "id": "view-in-github",
        "colab_type": "text"
      },
      "source": [
        "<a href=\"https://colab.research.google.com/github/SSSpock/skillspire/blob/main/skillspire_introtostats.ipynb\" target=\"_parent\"><img src=\"https://colab.research.google.com/assets/colab-badge.svg\" alt=\"Open In Colab\"/></a>"
      ]
    },
    {
      "cell_type": "markdown",
      "source": [
        "This week we are going to begin with the basics and explore populations, parameters, and estimates.  We are going to learn how to take an accurate sample from a population and compare it to other populations."
      ],
      "metadata": {
        "id": "JotuWmCuVONQ"
      }
    },
    {
      "cell_type": "markdown",
      "source": [
        "# Data Generation Processes"
      ],
      "metadata": {
        "id": "VM6rgIEGXFCp"
      }
    },
    {
      "cell_type": "code",
      "execution_count": null,
      "metadata": {
        "colab": {
          "base_uri": "https://localhost:8080/",
          "height": 295
        },
        "id": "3tKLszWvQrgG",
        "outputId": "c2bd906d-9560-4df8-e3b0-95d5bb9df1ef"
      },
      "outputs": [
        {
          "output_type": "display_data",
          "data": {
            "text/plain": [
              "<Figure size 432x288 with 1 Axes>"
            ],
            "image/png": "[encoded data removed]"
          },
          "metadata": {
            "needs_background": "light"
          }
        }
      ],
      "source": [
        "import matplotlib.pyplot as plt\n",
        "import numpy as np\n",
        "import pandas as pd\n",
        "import io\n",
        "import sqlite3\n",
        "from ast import literal_eval\n",
        "\n",
        "# !pip install ipython-sql\n",
        "\n",
        "# Set the size of the binomial sample\n",
        "n = 1000\n",
        "\n",
        "# Generate a binomial sample\n",
        "sample_binomial = np.random.binomial(1, .5, n)\n",
        "\n",
        "# Plot a histogram of the sample\n",
        "plt.hist(sample_binomial, density=True)\n",
        "\n",
        "# Label the plot\n",
        "plt.title('Binomial Distribution')\n",
        "plt.xlabel('Value')\n",
        "plt.ylabel('Probability')\n",
        "\n",
        "# Show the plot\n",
        "plt.show()"
      ]
    },
    {
      "cell_type": "code",
      "source": [
        "sample_binomial.mean()"
      ],
      "metadata": {
        "colab": {
          "base_uri": "https://localhost:8080/"
        },
        "id": "y_uovA00yvlb",
        "outputId": "03f2046e-45fa-4497-b92f-e667a953e234"
      },
      "execution_count": null,
      "outputs": [
        {
          "output_type": "execute_result",
          "data": {
            "text/plain": [
              "0.481"
            ]
          },
          "metadata": {},
          "execution_count": 100
        }
      ]
    },
    {
      "cell_type": "code",
      "source": [
        "# Generate a sample mean of the binomial sample 1000 times\n",
        "sample_means = [np.mean(np.random.choice(sample_binomial, 100)) for _ in range(10000)]\n",
        "\n",
        "# Plot a histogram of the sample\n",
        "plt.hist(sample_means, density=True, bins=20)\n",
        "\n",
        "# Label the plot\n",
        "plt.title('Normal Distribution')\n",
        "plt.xlabel('Value')\n",
        "plt.ylabel('Probability')\n",
        "\n",
        "# Show the plot\n",
        "plt.show()"
      ],
      "metadata": {
        "colab": {
          "base_uri": "https://localhost:8080/",
          "height": 295
        },
        "id": "bltYh0-aXX6K",
        "outputId": "d962b758-cb3d-489b-d190-0b7c00f241a7"
      },
      "execution_count": null,
      "outputs": [
        {
          "output_type": "display_data",
          "data": {
            "text/plain": [
              "<Figure size 432x288 with 1 Axes>"
            ],
            "image/png": "[encoded data removed]"
          },
          "metadata": {
            "needs_background": "light"
          }
        }
      ]
    },
    {
      "cell_type": "code",
      "source": [
        "# Poisson Example\n",
        "\n",
        "# Set the number of samples\n",
        "n = 10000\n",
        "\n",
        "# Set the lambda parameter\n",
        "lam = 1.5\n",
        "\n",
        "# Generate a poisson sample\n",
        "sample_poisson = np.random.poisson(lam, n)\n",
        "\n",
        "# Plot a histogram of the sample\n",
        "plt.hist(sample_poisson)\n",
        "\n",
        "# Label the plot\n",
        "plt.title('Poisson Distribution')\n",
        "plt.xlabel('Value')\n",
        "plt.ylabel('Probability')\n",
        "\n",
        "# Show the plot\n",
        "plt.show()"
      ],
      "metadata": {
        "colab": {
          "base_uri": "https://localhost:8080/",
          "height": 295
        },
        "id": "xWVogWD0YGT9",
        "outputId": "d813f433-79a7-43ed-b12d-b93ab1f639b6"
      },
      "execution_count": null,
      "outputs": [
        {
          "output_type": "display_data",
          "data": {
            "text/plain": [
              "<Figure size 432x288 with 1 Axes>"
            ],
            "image/png": "[encoded data removed]"
          },
          "metadata": {
            "needs_background": "light"
          }
        }
      ]
    },
    {
      "cell_type": "code",
      "source": [
        "# Generate a sample mean of the poisson sample 1000 times\n",
        "sample_means = [np.mean(np.random.choice(sample_poisson, 100)) for _ in range(1000)]\n",
        "\n",
        "# Plot a histogram of the sample\n",
        "plt.hist(sample_means)\n",
        "\n",
        "# Label the plot\n",
        "plt.title('Normal Distribution')\n",
        "plt.xlabel('Value')\n",
        "plt.ylabel('Probability')\n",
        "\n",
        "# Show the plot\n",
        "plt.show()"
      ],
      "metadata": {
        "colab": {
          "base_uri": "https://localhost:8080/",
          "height": 295
        },
        "id": "FXoKtdh7YrBm",
        "outputId": "1c12c4f4-43c9-401d-b31d-7d814c4d2806"
      },
      "execution_count": null,
      "outputs": [
        {
          "output_type": "display_data",
          "data": {
            "text/plain": [
              "<Figure size 432x288 with 1 Axes>"
            ],
            "image/png": "[encoded data removed]"
          },
          "metadata": {
            "needs_background": "light"
          }
        }
      ]
    },
    {
      "cell_type": "code",
      "source": [
        "# Exponentail Distributions\n",
        "\n",
        "# Set the number of samples\n",
        "n = 1000\n",
        "\n",
        "# Set the rate parameter\n",
        "rate = 0.5\n",
        "\n",
        "# Generate an exponential sample\n",
        "sample_exponential = np.random.exponential(1/rate, n)\n",
        "\n",
        "# Plot a histogram of the sample\n",
        "plt.hist(sample_exponential, density=True, bins=20)\n",
        "\n",
        "# Label the plot\n",
        "plt.title('Exponential Distribution')\n",
        "plt.xlabel('Value')\n",
        "plt.ylabel('Probability')\n",
        "\n",
        "# Show the plot\n",
        "plt.show()"
      ],
      "metadata": {
        "colab": {
          "base_uri": "https://localhost:8080/",
          "height": 295
        },
        "id": "HcxEBNWFZPri",
        "outputId": "30c17fde-e6dd-471e-cc48-c950c2d11a65"
      },
      "execution_count": null,
      "outputs": [
        {
          "output_type": "display_data",
          "data": {
            "text/plain": [
              "<Figure size 432x288 with 1 Axes>"
            ],
            "image/png": "[encoded data removed]"
          },
          "metadata": {
            "needs_background": "light"
          }
        }
      ]
    },
    {
      "cell_type": "code",
      "source": [
        "# Generate a sample mean of the exponential sample 1000 times\n",
        "sample_means = [np.mean(np.random.choice(sample_exponential, 100)) for _ in range(1000)]\n",
        "\n",
        "# Plot a histogram of the sample\n",
        "plt.hist(sample_means, density=True, bins=20)\n",
        "\n",
        "# Label the plot\n",
        "plt.title('Normal Distribution')\n",
        "plt.xlabel('Value')\n",
        "plt.ylabel('Probability')\n",
        "\n",
        "# Show the plot\n",
        "plt.show()"
      ],
      "metadata": {
        "colab": {
          "base_uri": "https://localhost:8080/",
          "height": 295
        },
        "id": "9bQk81AGZSoY",
        "outputId": "36d83561-ed98-4128-a534-1aed8a5ab605"
      },
      "execution_count": null,
      "outputs": [
        {
          "output_type": "display_data",
          "data": {
            "text/plain": [
              "<Figure size 432x288 with 1 Axes>"
            ],
            "image/png": "[encoded data removed]"
          },
          "metadata": {
            "needs_background": "light"
          }
        }
      ]
    },
    {
      "cell_type": "markdown",
      "source": [
        "Let's discuss the common distributions we see in the data we work with every day.  How does the data generation process impact how you would analyze this data ? Is mean the appropriate model ? "
      ],
      "metadata": {
        "id": "tAf8CQgdZbYn"
      }
    },
    {
      "cell_type": "code",
      "source": [
        "# Generate a sample mean of the exponential sample 1000 times\n",
        "sample_means = [np.mean(np.random.choice(sample_exponential, 50)) for _ in range(1000)]\n",
        "\n",
        "# Plot a histogram of the sample\n",
        "plt.hist(sample_means)\n",
        "\n",
        "# Add vertical lines to mark the mean, median and rate parameter\n",
        "plt.axvline(np.mean(sample_means), color='k', linestyle='dashed', linewidth=1)\n",
        "plt.axvline(np.median(sample_means), color='y', linestyle='dotted', linewidth=1)\n",
        "plt.axvline(1/rate, color='r', linestyle='solid', linewidth=1)\n",
        "\n",
        "# Label the plot\n",
        "plt.title('Normal Distribution')"
      ],
      "metadata": {
        "colab": {
          "base_uri": "https://localhost:8080/",
          "height": 299
        },
        "id": "HQpgMGNZaNgP",
        "outputId": "dddb7a3f-01bc-4e0f-e197-aa8f8f1e8ba1"
      },
      "execution_count": null,
      "outputs": [
        {
          "output_type": "execute_result",
          "data": {
            "text/plain": [
              "Text(0.5, 1.0, 'Normal Distribution')"
            ]
          },
          "metadata": {},
          "execution_count": 129
        },
        {
          "output_type": "display_data",
          "data": {
            "text/plain": [
              "<Figure size 432x288 with 1 Axes>"
            ],
            "image/png": "[encoded data removed]"
          },
          "metadata": {
            "needs_background": "light"
          }
        }
      ]
    },
    {
      "cell_type": "code",
      "source": [
        "\n",
        "# Set the number of samples\n",
        "n = 1000\n",
        "\n",
        "# Set the probability of success\n",
        "p = 0.5\n",
        "\n",
        "# Generate a binomial sample\n",
        "sample_binomial = np.random.binomial(1, p, n)\n",
        "\n",
        "# Calculate the sample mean\n",
        "sample_mean = np.mean(np.random.choice(sample_binomial, 100))\n",
        "\n",
        "# Calculate the theoretical mean\n",
        "theoretical_mean = p\n",
        "\n",
        "# Print the results\n",
        "print('Sample Mean:', sample_mean)\n",
        "print('Theoretical Mean:', theoretical_mean)\n",
        "\n",
        "# Plot a histogram of the sample\n",
        "plt.hist(sample_binomial)\n",
        "\n",
        "# Add vertical lines to mark the sample mean and theoretical mean\n",
        "plt.axvline(sample_mean, color='k', linestyle='dashed', linewidth=1)\n",
        "plt.axvline(theoretical_mean, color='r', linestyle='solid', linewidth=1)\n",
        "\n",
        "# Label the plot\n",
        "plt.title('Binomial Distribution')\n",
        "plt.xlabel('Value')\n",
        "plt.ylabel('Probability')\n",
        "\n",
        "# Show the plot\n",
        "plt.show()"
      ],
      "metadata": {
        "colab": {
          "base_uri": "https://localhost:8080/",
          "height": 331
        },
        "id": "SDBEBZUMbQRu",
        "outputId": "174ed31f-5197-42bc-f984-266d6bfe2165"
      },
      "execution_count": null,
      "outputs": [
        {
          "output_type": "stream",
          "name": "stdout",
          "text": [
            "Sample Mean: 0.56\n",
            "Theoretical Mean: 0.5\n"
          ]
        },
        {
          "output_type": "display_data",
          "data": {
            "text/plain": [
              "<Figure size 432x288 with 1 Axes>"
            ],
            "image/png": "[encoded data removed]"
          },
          "metadata": {
            "needs_background": "light"
          }
        }
      ]
    },
    {
      "cell_type": "markdown",
      "source": [
        "# Customer Data\n",
        "Now lets think about how some of our customer data is generated.\n",
        "What are the various types of data present?  How does that change the type of model you use to evaluate a population?"
      ],
      "metadata": {
        "id": "dU5-f76oc4yr"
      }
    },
    {
      "cell_type": "code",
      "source": [
        "# customer data\n",
        "url = 'https://raw.githubusercontent.com/SSSpock/skillspire/main/customers.csv'\n",
        "customer_df = pd.read_csv(url, index_col=0)\n",
        "\n",
        "# transactiondata\n",
        "url = 'https://raw.githubusercontent.com/SSSpock/skillspire/main/transactions.csv'\n",
        "transaction_df = pd.read_csv(url, index_col=0)\n",
        "\n",
        "# product data\n",
        "url = 'https://raw.githubusercontent.com/SSSpock/skillspire/main/products.csv'\n",
        "product_df = pd.read_csv(url, index_col=0)"
      ],
      "metadata": {
        "id": "25tfO617b7rk"
      },
      "execution_count": null,
      "outputs": []
    },
    {
      "cell_type": "markdown",
      "source": [
        "# Univariate and Bivariate Analysis\n",
        "\n",
        "In this section, we will cover the basics of univariate and bivariate analysis. Univariate analysis is the analysis of a single variable, while bivariate analysis is the analysis of two variables to understand their relationship. We will go through a brief explanation of each, followed by coded examples demonstrating key principles."
      ],
      "metadata": {
        "id": "QZMFE_O6TJHk"
      }
    },
    {
      "cell_type": "markdown",
      "source": [
        "# Measures of Variance and Standard Deviation\n",
        "Measures of variance, such as standard deviation, describe the spread or dispersion of data within a distribution. In a normal distribution, standard deviation plays a crucial role in determining the proportion of values that lie within specific ranges.\n",
        "\n",
        "The normal distribution, also known as the Gaussian distribution, is a bell-shaped curve that is symmetrical around the mean. In a normal distribution, the mean, median, and mode are equal. The standard deviation (σ) determines the spread of the distribution.\n",
        "\n",
        "For a normal distribution:\n",
        "\n",
        "About 68% of the values lie within one standard deviation (±1σ) from the mean (μ).\n",
        "About 95% of the values lie within two standard deviations (±2σ) from the mean (μ).\n",
        "About 99.7% of the values lie within three standard deviations (±3σ) from the mean (μ).\n",
        "Let's visualize this relationship through a coding example."
      ],
      "metadata": {
        "id": "vhuR2Cjbj5MI"
      }
    },
    {
      "cell_type": "code",
      "source": [
        "import numpy as np\n",
        "import matplotlib.pyplot as plt\n",
        "\n",
        "# Generate a normal distribution with a mean and standard deviation\n",
        "mean = 50\n",
        "std_dev = 20\n",
        "num_samples = 10000\n",
        "data = np.random.normal(mean, std_dev, num_samples)\n",
        "\n",
        "# Plot the histogram and add vertical lines for standard deviations\n",
        "plt.hist(data, bins=50, alpha=0.5, color='blue', density=True)\n",
        "plt.axvline(mean, color='red', linestyle='-', linewidth=2, label='Mean (μ)')\n",
        "plt.axvline(mean + std_dev, color='green', linestyle='--', linewidth=2, label='+1σ')\n",
        "plt.axvline(mean - std_dev, color='green', linestyle='--', linewidth=2, label='-1σ')\n",
        "plt.axvline(mean + 2 * std_dev, color='purple', linestyle='--', linewidth=2, label='+2σ')\n",
        "plt.axvline(mean - 2 * std_dev, color='purple', linestyle='--', linewidth=2, label='-2σ')\n",
        "plt.axvline(mean + 3 * std_dev, color='orange', linestyle='--', linewidth=2, label='+3σ')\n",
        "plt.axvline(mean - 3 * std_dev, color='orange', linestyle='--', linewidth=2, label='-3σ')\n",
        "plt.legend()\n",
        "plt.xlabel('Value')\n",
        "plt.ylabel('Frequency')\n",
        "plt.title('Normal Distribution and Standard Deviation')\n",
        "plt.show()\n"
      ],
      "metadata": {
        "colab": {
          "base_uri": "https://localhost:8080/",
          "height": 295
        },
        "id": "ROwcNp3Uj7F4",
        "outputId": "df74c20c-e51d-4e5b-b14c-6c6a37d3347e"
      },
      "execution_count": null,
      "outputs": [
        {
          "output_type": "display_data",
          "data": {
            "text/plain": [
              "<Figure size 432x288 with 1 Axes>"
            ],
            "image/png": "[encoded data removed]"
          },
          "metadata": {
            "needs_background": "light"
          }
        }
      ]
    },
    {
      "cell_type": "markdown",
      "source": [
        "In this example, we generated a normal distribution with a mean of 0 and a standard deviation of 1. The vertical lines show the mean and standard deviations from the mean. As expected, most of the values are concentrated within the first standard deviation (±1σ) from the mean.\n",
        "\n",
        "Understanding the relationship between standard deviation and the normal distribution is crucial for interpreting and analyzing data. It allows us to estimate the probability of certain values occurring and helps in making informed decisions based on the distribution of the data.\n",
        "\n",
        "\n",
        "\n"
      ],
      "metadata": {
        "id": "TEbLzYD1kEsi"
      }
    },
    {
      "cell_type": "markdown",
      "source": [
        "# Univariate Analysis\n",
        "Univariate analysis involves examining a single variable to understand its distribution, central tendency, and dispersion. Some common techniques used in univariate analysis include histograms, box plots, and probability density functions.\n",
        "\n",
        "Let's create a histogram and a box plot for a dataset using Python"
      ],
      "metadata": {
        "id": "KtT_fsTPTUVy"
      }
    },
    {
      "cell_type": "code",
      "source": [
        "import numpy as np\n",
        "import matplotlib.pyplot as plt\n",
        "import seaborn as sns\n",
        "import pandas as pd\n",
        "\n",
        "# Generate a normal distribution\n",
        "mu = 0\n",
        "sigma = 2\n",
        "num_samples = 1000\n",
        "data = np.random.normal(mu, sigma, num_samples)\n",
        "\n",
        "# Plot a histogram\n",
        "plt.hist(data, bins=50, alpha=0.5, color='blue', density=True)\n",
        "plt.title('Histogram')\n",
        "plt.xlabel('Value')\n",
        "plt.ylabel('Frequency')\n",
        "plt.show()\n",
        "\n",
        "# Plot a box plot\n",
        "sns.boxplot(data)\n",
        "plt.title('Box Plot')\n",
        "plt.xlabel('Variable')\n",
        "plt.show()\n"
      ],
      "metadata": {
        "colab": {
          "base_uri": "https://localhost:8080/",
          "height": 573
        },
        "id": "G6NG-71kTWva",
        "outputId": "8f15fa46-bf63-4c19-a8a6-2f2f79b2793d"
      },
      "execution_count": null,
      "outputs": [
        {
          "output_type": "display_data",
          "data": {
            "text/plain": [
              "<Figure size 432x288 with 1 Axes>"
            ],
            "image/png": "[encoded data removed]"
          },
          "metadata": {
            "needs_background": "light"
          }
        },
        {
          "output_type": "display_data",
          "data": {
            "text/plain": [
              "<Figure size 432x288 with 1 Axes>"
            ],
            "image/png": "[encoded data removed]"
          },
          "metadata": {
            "needs_background": "light"
          }
        }
      ]
    },
    {
      "cell_type": "markdown",
      "source": [
        "# Percentiles and Binning Methods for Skewed Data\n",
        "When data is skewed, it is not symmetrically distributed around the mean, and standard measures of central tendency such as the mean or standard deviation might not accurately describe the data. In these cases, percentiles and binning methods can be helpful for quantifying and analyzing skewed data.\n",
        "\n",
        "Percentiles\n",
        "Percentiles are a measure of relative standing that indicates the percentage of data points below a specific value. For example, the 25th percentile (also known as the first quartile) is the value below which 25% of the data points fall. Percentiles are particularly useful for understanding the distribution of skewed data, as they are less sensitive to extreme values.\n",
        "\n",
        "To calculate percentiles in Python, we can use the numpy.percentile() function:"
      ],
      "metadata": {
        "id": "QUm3dsfzpkGq"
      }
    },
    {
      "cell_type": "code",
      "source": [
        "import numpy as np\n",
        "\n",
        "# Generate skewed data\n",
        "data = np.random.exponential(scale=1, size=1000)\n",
        "\n",
        "# Calculate percentiles\n",
        "p25 = np.percentile(data, 25)\n",
        "p50 = np.percentile(data, 50)\n",
        "p95 = np.percentile(data, 95)\n",
        "\n",
        "print(f'25th percentile: {p25:.2f}')\n",
        "print(f'50th percentile (median): {p50:.2f}')\n",
        "print(f'95th percentile: {p95:.2f}')\n"
      ],
      "metadata": {
        "colab": {
          "base_uri": "https://localhost:8080/"
        },
        "id": "bjvt7Re-pmYA",
        "outputId": "430159b3-6afb-484b-9251-e1853c304e2d"
      },
      "execution_count": null,
      "outputs": [
        {
          "output_type": "stream",
          "name": "stdout",
          "text": [
            "25th percentile: 0.30\n",
            "50th percentile (median): 0.70\n",
            "95th percentile: 2.97\n"
          ]
        }
      ]
    },
    {
      "cell_type": "code",
      "source": [
        "plt.hist(data)"
      ],
      "metadata": {
        "colab": {
          "base_uri": "https://localhost:8080/",
          "height": 354
        },
        "id": "YzuSqGLn4DzU",
        "outputId": "96a323c3-f353-45b6-d961-b67fcba84aa4"
      },
      "execution_count": null,
      "outputs": [
        {
          "output_type": "execute_result",
          "data": {
            "text/plain": [
              "(array([538., 273., 103.,  47.,  24.,  10.,   3.,   0.,   1.,   1.]),\n",
              " array([7.65058905e-04, 7.96313336e-01, 1.59186161e+00, 2.38740989e+00,\n",
              "        3.18295817e+00, 3.97850645e+00, 4.77405472e+00, 5.56960300e+00,\n",
              "        6.36515128e+00, 7.16069955e+00, 7.95624783e+00]),\n",
              " <BarContainer object of 10 artists>)"
            ]
          },
          "metadata": {},
          "execution_count": 36
        },
        {
          "output_type": "display_data",
          "data": {
            "text/plain": [
              "<Figure size 432x288 with 1 Axes>"
            ],
            "image/png": "[encoded data removed]"
          },
          "metadata": {
            "needs_background": "light"
          }
        }
      ]
    },
    {
      "cell_type": "markdown",
      "source": [
        "# Binning Methods\n",
        "Binning methods involve dividing the data into intervals (bins) and counting the number of data points that fall into each bin. This helps to visualize and analyze the distribution of skewed data.\n",
        "\n",
        "Histograms and box plots are two common binning methods for skewed data:\n",
        "\n",
        "Histogram: A histogram is a bar chart that represents the frequency distribution of a dataset. The data is divided into a set of intervals (bins), and the height of each bar corresponds to the number of data points within that interval."
      ],
      "metadata": {
        "id": "c-7u8I_VpujW"
      }
    },
    {
      "cell_type": "code",
      "source": [
        "import numpy as np\n",
        "import matplotlib.pyplot as plt\n",
        "\n",
        "# Generate skewed data\n",
        "data = np.random.exponential(scale=1, size=1000)\n",
        "\n",
        "# Create a histogram\n",
        "plt.hist(data, bins=10)\n",
        "plt.xlabel('Value')\n",
        "plt.ylabel('Frequency')\n",
        "plt.title('Histogram of Skewed Data')\n",
        "plt.show()\n"
      ],
      "metadata": {
        "colab": {
          "base_uri": "https://localhost:8080/",
          "height": 295
        },
        "id": "z2OGuzoMpwRm",
        "outputId": "ea24e3e0-1454-4899-d98b-d4a6fadf010b"
      },
      "execution_count": null,
      "outputs": [
        {
          "output_type": "display_data",
          "data": {
            "text/plain": [
              "<Figure size 432x288 with 1 Axes>"
            ],
            "image/png": "[encoded data removed]"
          },
          "metadata": {
            "needs_background": "light"
          }
        }
      ]
    },
    {
      "cell_type": "markdown",
      "source": [
        "# Box Plot: \n",
        "A box plot is a graphical representation of the distribution of a dataset based on quartiles. It displays the median, first quartile (Q1), and third quartile (Q3) as a box, with whiskers extending to the minimum and maximum values within 1.5 times the interquartile range (IQR). Outliers are represented as individual points outside the whiskers."
      ],
      "metadata": {
        "id": "Y6UsjPL9pzIL"
      }
    },
    {
      "cell_type": "code",
      "source": [
        "# Generate skewed data\n",
        "data = np.random.exponential(scale=1, size=1000)\n",
        "\n",
        "# Create a box plot\n",
        "plt.boxplot(data)\n",
        "plt.ylabel('Value')\n",
        "plt.title('Box Plot of Skewed Data')\n",
        "plt.show()\n"
      ],
      "metadata": {
        "colab": {
          "base_uri": "https://localhost:8080/",
          "height": 281
        },
        "id": "DZt3LfXhp5nw",
        "outputId": "fca12e32-df8d-48e7-e080-b661f94845ae"
      },
      "execution_count": null,
      "outputs": [
        {
          "output_type": "display_data",
          "data": {
            "text/plain": [
              "<Figure size 432x288 with 1 Axes>"
            ],
            "image/png": "[encoded data removed]"
          },
          "metadata": {
            "needs_background": "light"
          }
        }
      ]
    },
    {
      "cell_type": "markdown",
      "source": [
        "By using percentiles and binning methods like histograms and box plots, you can effectively analyze and quantify skewed data, providing better insights into the underlying distribution and potential outliers."
      ],
      "metadata": {
        "id": "lR2yAgHEp_Ry"
      }
    },
    {
      "cell_type": "markdown",
      "source": [
        "# Bivariate Analysis\n",
        "Bivariate analysis involves examining the relationship between two variables. Some common techniques used in bivariate analysis include scatter plots, correlation coefficients, and cross-tabulation.\n",
        "\n",
        "Let's create a scatter plot and compute the correlation coefficient for two variables using Python."
      ],
      "metadata": {
        "id": "_q58LOYMTnpe"
      }
    },
    {
      "cell_type": "code",
      "source": [
        "# Generate two correlated datasets\n",
        "np.random.seed(42)\n",
        "data_x = np.random.normal(0, 2, 1000)\n",
        "data_y = data_x * 1.5 + np.random.normal(0, 2, 1000)\n",
        "\n",
        "# Plot a scatter plot\n",
        "plt.scatter(data_x, data_y, alpha=0.5, color='blue')\n",
        "plt.title('Scatter Plot')\n",
        "plt.xlabel('Data X')\n",
        "plt.ylabel('Data Y')\n",
        "plt.show()\n",
        "\n",
        "# Compute the correlation coefficient\n",
        "correlation = np.corrcoef(data_x, data_y)[0, 1]\n",
        "print(f'Correlation Coefficient: {correlation:.2f}')"
      ],
      "metadata": {
        "colab": {
          "base_uri": "https://localhost:8080/",
          "height": 313
        },
        "id": "VJFEKVpdTcVH",
        "outputId": "7964a74d-0a6b-48a1-fd32-565f8c61d8c7"
      },
      "execution_count": null,
      "outputs": [
        {
          "output_type": "display_data",
          "data": {
            "text/plain": [
              "<Figure size 432x288 with 1 Axes>"
            ],
            "image/png": "[encoded data removed]"
          },
          "metadata": {
            "needs_background": "light"
          }
        },
        {
          "output_type": "stream",
          "name": "stdout",
          "text": [
            "Correlation Coefficient: 0.82\n"
          ]
        }
      ]
    },
    {
      "cell_type": "code",
      "source": [
        "# Create a sample dataset\n",
        "data = {\n",
        "    'Gender': ['M', 'F', 'M', 'F', 'F', 'M', 'M', 'F', 'F', 'M'],\n",
        "    'Product': ['A', 'A', 'B', 'B', 'A', 'A', 'B', 'A', 'B', 'B']\n",
        "}\n",
        "\n",
        "df = pd.DataFrame(data)\n",
        "\n",
        "# Cross-tabulation\n",
        "cross_tab = pd.crosstab(df['Gender'], df['Product'])\n",
        "print('Cross-tabulation:')\n",
        "print(cross_tab)\n"
      ],
      "metadata": {
        "colab": {
          "base_uri": "https://localhost:8080/"
        },
        "id": "SQt9LNY2UDz7",
        "outputId": "4d9cc0b2-d36f-4cba-b3e8-0d0929a02e1f"
      },
      "execution_count": null,
      "outputs": [
        {
          "output_type": "stream",
          "name": "stdout",
          "text": [
            "Cross-tabulation:\n",
            "Product  A  B\n",
            "Gender       \n",
            "F        3  2\n",
            "M        2  3\n"
          ]
        }
      ]
    },
    {
      "cell_type": "markdown",
      "source": [
        "In this section, you have learned about univariate and bivariate analysis. You should now be able to perform basic analyses on single variables as well as understand the relationships between two variables.\n",
        "\n",
        "Question\n",
        "Given two datasets data_a and data_b, write code to create a scatter plot, compute the correlation coefficient, and perform cross-tabulation if the data is categorical."
      ],
      "metadata": {
        "id": "C98Dq-rZUPjz"
      }
    },
    {
      "cell_type": "markdown",
      "source": [
        "# Harmonic, Geometric, and Arithmetic Means\n",
        "The harmonic, geometric, and arithmetic means are different ways of calculating the average of a set of numbers. Each mean is appropriate for different types of data or situations. Let's briefly describe each mean and then illustrate their differences through a coding example.\n",
        "\n",
        "## Arithmetic Mean: \n",
        "The arithmetic mean is the most common type of mean. It is calculated by summing all the numbers in a dataset and dividing by the count of the numbers. The arithmetic mean is appropriate for situations where the data is evenly distributed and does not have extreme values.\n",
        "\n",
        "## Geometric Mean: \n",
        "The geometric mean is calculated by multiplying all the numbers in a dataset and then taking the nth root, where n is the count of the numbers. The geometric mean is appropriate for situations where the data is not evenly distributed or has a multiplicative relationship, for example exponential distributions.\n",
        "\n",
        "## Harmonic Mean: \n",
        "The harmonic mean is calculated by taking the reciprocal of the arithmetic mean of the reciprocals of the numbers in a dataset. The harmonic mean is appropriate for situations where the data has a harmonic or reciprocal relationship, such as rates or ratios.\n",
        "\n",
        "Now, let's create a coding example to demonstrate the differences between harmonic, geometric, and arithmetic means."
      ],
      "metadata": {
        "id": "GZ-j3cbgVQ0Y"
      }
    },
    {
      "cell_type": "code",
      "source": [
        "import numpy as np\n",
        "from scipy.stats import hmean, gmean\n",
        "\n",
        "# Create a dataset\n",
        "data = np.array([1, 2, 4, 8, 12, 14])\n",
        "ratio = np.array([1/4, 1/2, 1/4, 1/6, 1/8, 1/12, 1/3])\n",
        "\n",
        "# Calculate the arithmetic mean\n",
        "arithmetic_mean = np.mean(ratio)\n",
        "print(f'Arithmetic Mean: {arithmetic_mean:.2f}')\n",
        "\n",
        "# Calculate the geometric mean\n",
        "geometric_mean = gmean(ratio)\n",
        "print(f'Geometric Mean: {geometric_mean:.2f}')\n",
        "\n",
        "# Calculate the harmonic mean\n",
        "harmonic_mean = hmean(ratio)\n",
        "print(f'Harmonic Mean: {harmonic_mean:.2f}')\n"
      ],
      "metadata": {
        "colab": {
          "base_uri": "https://localhost:8080/"
        },
        "id": "cWL-WYkgV9jw",
        "outputId": "8b0c72f7-4b88-400a-ad59-964f83f4a217"
      },
      "execution_count": null,
      "outputs": [
        {
          "output_type": "stream",
          "name": "stdout",
          "text": [
            "Arithmetic Mean: 0.24\n",
            "Geometric Mean: 0.21\n",
            "Harmonic Mean: 0.18\n"
          ]
        }
      ]
    },
    {
      "cell_type": "markdown",
      "source": [
        "In this example, we used a dataset with an exponential growth pattern. As expected, the arithmetic mean is the largest, followed by the geometric mean, and finally the harmonic mean, which is the smallest. The geometric mean is a more appropriate measure of central tendency for this dataset due to its multiplicative relationship.\n",
        "\n",
        "Remember to choose the appropriate mean based on the characteristics of your dataset and the relationships between the data points."
      ],
      "metadata": {
        "id": "UwmtAteLWIUJ"
      }
    },
    {
      "cell_type": "markdown",
      "source": [
        "# Continuous vs. Discrete Data\n",
        "Continuous and discrete data are two types of data that require different methods for summarization and analysis. Continuous data can take any value within a specific range, while discrete data can only take distinct or separate values. Using incorrect methods for summarization may lead to incorrect interpretations of the data. Let's explore these differences through examples.\n",
        "\n",
        "Continuous Data\n",
        "Continuous data can take any value within a range, and it often involves measurements or quantities, such as height, weight, or temperature. When analyzing continuous data, we typically use methods that account for the continuous nature of the data, such as histograms, probability density functions, and measures of central tendency like the mean or median."
      ],
      "metadata": {
        "id": "JucnhIDtiDbt"
      }
    },
    {
      "cell_type": "code",
      "source": [
        "import numpy as np\n",
        "import matplotlib.pyplot as plt\n",
        "\n",
        "# Generate continuous data (heights in centimeters)\n",
        "heights = np.random.normal(170, 10, 1000)\n",
        "\n",
        "# Correct method: Using a histogram\n",
        "plt.subplot(1, 2, 1)\n",
        "plt.hist(heights, bins=10)\n",
        "plt.title('Correct: Histogram')\n",
        "plt.xlabel('Height (cm)')\n",
        "plt.ylabel('Frequency')\n",
        "\n",
        "# Incorrect method: Using a bar chart\n",
        "unique_heights, counts = np.unique(heights.astype(int), return_counts=True)\n",
        "plt.subplot(1, 2, 2)\n",
        "plt.bar(unique_heights, counts)\n",
        "plt.title('Incorrect: Bar Chart')\n",
        "plt.xlabel('Height (cm)')\n",
        "plt.ylabel('Frequency')\n",
        "\n",
        "plt.tight_layout()\n",
        "plt.show()\n"
      ],
      "metadata": {
        "colab": {
          "base_uri": "https://localhost:8080/",
          "height": 297
        },
        "id": "b9K8MsNhWFT1",
        "outputId": "28869364-edb1-4b3a-c600-81c00c40fc05"
      },
      "execution_count": null,
      "outputs": [
        {
          "output_type": "display_data",
          "data": {
            "text/plain": [
              "<Figure size 432x288 with 2 Axes>"
            ],
            "image/png": "[encoded data removed]"
          },
          "metadata": {
            "needs_background": "light"
          }
        }
      ]
    },
    {
      "cell_type": "markdown",
      "source": [
        "In this example, using a histogram is the correct method for visualizing the continuous data (heights), while using a bar chart leads to an incorrect representation of the data.\n",
        "\n",
        "Discrete Data\n",
        "Discrete data can only take distinct or separate values, and it often involves counts or categories, such as the number of siblings or the type of pets owned. When analyzing discrete data, we typically use methods that account for the discrete nature of the data, such as bar charts, pie charts, and measures of central tendency like the mode."
      ],
      "metadata": {
        "id": "_lXL4O2PihTl"
      }
    },
    {
      "cell_type": "code",
      "source": [
        "# Generate discrete data (number of siblings)\n",
        "siblings = np.random.randint(0, 6, 1000)\n",
        "\n",
        "# Incorrect method: Using a histogram\n",
        "plt.subplot(1, 2, 1)\n",
        "plt.hist(siblings, bins=np.arange(-0.5, 6.5, 1), rwidth=0.8)\n",
        "plt.title('Incorrect: Histogram')\n",
        "plt.xlabel('Number of Siblings')\n",
        "plt.ylabel('Frequency')\n",
        "\n",
        "# Correct method: Using a bar chart\n",
        "plt.subplot(1, 2, 2)\n",
        "plt.bar(np.unique(siblings), np.bincount(siblings))\n",
        "plt.title('Correct: Bar Chart')\n",
        "plt.xlabel('Number of Siblings')\n",
        "plt.ylabel('Frequency')\n",
        "\n",
        "plt.tight_layout()\n",
        "plt.show()\n"
      ],
      "metadata": {
        "colab": {
          "base_uri": "https://localhost:8080/",
          "height": 297
        },
        "id": "_PFru7Caiiiz",
        "outputId": "30370c1c-4ca6-4286-81e4-b69969ffa2b5"
      },
      "execution_count": null,
      "outputs": [
        {
          "output_type": "display_data",
          "data": {
            "text/plain": [
              "<Figure size 432x288 with 2 Axes>"
            ],
            "image/png": "[encoded data removed]"
          },
          "metadata": {
            "needs_background": "light"
          }
        }
      ]
    },
    {
      "cell_type": "markdown",
      "source": [
        "# Statistical Inference: Point Estimates and Confidence Intervals\n",
        "Statistical inference is the process of drawing conclusions about a population based on a sample from that population. In this context, we often use point estimates and confidence intervals to make inferences about population parameters.\n",
        "\n",
        "# Point Estimates\n",
        "A point estimate is a single value that serves as our best guess for the true value of a population parameter. Common point estimates include the sample mean (for estimating the population mean) and the sample proportion (for estimating the population proportion).\n",
        "\n",
        "However, point estimates are subject to sampling variance, which means that different samples from the same population might produce different point estimates. Sampling variance arises because a sample is only a subset of the population, and it might not perfectly represent the entire population.\n",
        "\n",
        "# Confidence Intervals\n",
        "To account for sampling variance, we use confidence intervals. A confidence interval is a range of values within which we believe the true population parameter is likely to fall, with a certain level of confidence. The level of confidence, often expressed as a percentage (e.g., 95%), represents the probability that the confidence interval will contain the population parameter if the sampling process were repeated many times.\n",
        "\n",
        "A confidence interval consists of two parts:\n",
        "\n",
        "The point estimate (e.g., sample mean or sample proportion)\n",
        "The margin of error, which depends on the desired level of confidence and the sampling variability (usually represented by the standard error)\n",
        "Calculating a confidence interval involves using the point estimate and adding/subtracting the margin of error. For example, for a 95% confidence interval for a population mean, we would calculate it as follows:"
      ],
      "metadata": {
        "id": "n8wMe1gNr5vk"
      }
    },
    {
      "cell_type": "code",
      "source": [
        "import numpy as np\n",
        "\n",
        "# Generate a sample from a population\n",
        "population = np.random.normal(50, 5, 10000)\n",
        "sample = np.random.choice(population, size=100)\n",
        "\n",
        "# Calculate the point estimate (sample mean)\n",
        "point_estimate = np.mean(sample)\n",
        "\n",
        "# Calculate the standard error\n",
        "standard_error = np.std(sample, ddof=1) / np.sqrt(len(sample))\n",
        "\n",
        "# Calculate the 95% confidence interval\n",
        "margin_of_error = 1.96 * standard_error\n",
        "confidence_interval = (point_estimate - margin_of_error, point_estimate + margin_of_error)\n",
        "\n",
        "print(f'Point Estimate: {point_estimate:.2f}')\n",
        "print(f'95% Confidence Interval: ({confidence_interval[0]:.2f}, {confidence_interval[1]:.2f})')\n"
      ],
      "metadata": {
        "colab": {
          "base_uri": "https://localhost:8080/"
        },
        "id": "QDg4Yoyqr_VS",
        "outputId": "8a1c2838-d016-4098-aca0-3e997bb0625e"
      },
      "execution_count": null,
      "outputs": [
        {
          "output_type": "stream",
          "name": "stdout",
          "text": [
            "Point Estimate: 49.98\n",
            "95% Confidence Interval: (49.10, 50.85)\n"
          ]
        }
      ]
    },
    {
      "cell_type": "markdown",
      "source": [
        "\n",
        "In this example, we generated a sample from a population and calculated the point estimate (sample mean) and the 95% confidence interval for the population mean. The confidence interval provides a range of values that likely contains the true population mean with a 95% level of confidence.\n",
        "\n",
        "Understanding the difference between point estimates and confidence intervals is crucial in statistical inference, as it allows you to make more informed decisions and account for sampling variance when drawing conclusions about a population based on a sample."
      ],
      "metadata": {
        "id": "WAgPCaVcsRav"
      }
    },
    {
      "cell_type": "markdown",
      "source": [
        "# Bootstrapped Confidence Intervals\n",
        "Bootstrapping is a resampling technique used to estimate the sampling distribution of a statistic by repeatedly resampling from the original sample with replacement. Bootstrapped confidence intervals are an alternative to traditional parametric confidence intervals and can be particularly useful when the underlying distribution is not known or not normally distributed.\n",
        "\n",
        "# Bootstrapped confidence intervals follow these steps:\n",
        "\n",
        "Draw a random sample of size n from the original sample with replacement (called a bootstrap sample).\n",
        "Calculate the statistic of interest (e.g., mean, median, proportion) for the bootstrap sample.\n",
        "Repeat steps 1 and 2 a large number of times (e.g., 1000 or 10000) to generate a distribution of the statistic of interest.\n",
        "Calculate the confidence interval based on the desired level of confidence (e.g., 95%) using the distribution of the statistic obtained in step 3.\n",
        "Let's demonstrate how to create bootstrapped confidence intervals using Python"
      ],
      "metadata": {
        "id": "kBFS57nzs9lW"
      }
    },
    {
      "cell_type": "code",
      "source": [
        "import numpy as np\n",
        "\n",
        "def bootstrap(sample, statistic, num_iterations=1000, ci=95):\n",
        "    \"\"\"\n",
        "    Calculate bootstrapped confidence interval for a given sample and statistic.\n",
        "    \n",
        "    Args:\n",
        "        sample (array-like): The original sample data.\n",
        "        statistic (function): The statistic function to apply on each bootstrap sample.\n",
        "        num_iterations (int): The number of bootstrap iterations.\n",
        "        ci (float): The desired confidence level (in percentage).\n",
        "\n",
        "    Returns:\n",
        "        tuple: Lower and upper bounds of the bootstrapped confidence interval.\n",
        "    \"\"\"\n",
        "    bootstrap_samples = np.random.choice(sample, size=(num_iterations, len(sample)), replace=True)\n",
        "    bootstrap_statistics = np.apply_along_axis(statistic, 1, bootstrap_samples)\n",
        "    \n",
        "    lower_bound = np.percentile(bootstrap_statistics, (100 - ci) / 2)\n",
        "    upper_bound = np.percentile(bootstrap_statistics, 100 - (100 - ci) / 2)\n",
        "    \n",
        "    return lower_bound, upper_bound\n",
        "\n",
        "# Generate a sample from a population\n",
        "population = np.random.normal(50, 5, 10000)\n",
        "sample = np.random.choice(population, size=100)\n",
        "\n",
        "# Calculate bootstrapped 95% confidence interval for the mean\n",
        "ci_lower, ci_upper = bootstrap(sample, np.mean, num_iterations=1000, ci=95)\n",
        "\n",
        "print(f'Bootstrapped 95% Confidence Interval for the Mean: ({ci_lower:.2f}, {ci_upper:.2f})')\n"
      ],
      "metadata": {
        "colab": {
          "base_uri": "https://localhost:8080/"
        },
        "id": "PRSHJFVStDjc",
        "outputId": "1ebac2df-33a8-4ecb-f099-0b48b1390261"
      },
      "execution_count": null,
      "outputs": [
        {
          "output_type": "stream",
          "name": "stdout",
          "text": [
            "Bootstrapped 95% Confidence Interval for the Mean: (49.22, 52.12)\n"
          ]
        }
      ]
    },
    {
      "cell_type": "markdown",
      "source": [
        "In this example, we generated a sample from a population and calculated a bootstrapped 95% confidence interval for the population mean. The bootstrap function takes the original sample, the statistic of interest, the number of bootstrap iterations, and the desired confidence level as input and returns the bootstrapped confidence interval.\n",
        "\n",
        "Bootstrapped confidence intervals can be a powerful tool for statistical inference, especially when the underlying distribution is not known or not normally distributed, as they make fewer assumptions about the data and rely on the empirical distribution of the sample."
      ],
      "metadata": {
        "id": "epzJAaswtLYJ"
      }
    },
    {
      "cell_type": "markdown",
      "source": [
        "# Inferential Statistical Models"
      ],
      "metadata": {
        "id": "dCKSfkN0tnzw"
      }
    },
    {
      "cell_type": "markdown",
      "source": [
        "# Statistical Inference: Degree of Models/Assumptions\n",
        "When performing statistical inference, we often have to make assumptions about the underlying distribution of the data or the relationships between variables. The degree of assumptions we make varies depending on the model or method we choose. In general, there are three classes of models based on their assumptions: fully parametric, non-parametric, and semi-parametric.\n",
        "\n",
        "# Fully Parametric Models\n",
        "Fully parametric models assume that the data follow a specific distribution, such as the normal distribution, and that the relationships between variables can be described by a set of parameters. Examples of fully parametric models include linear regression, logistic regression, and analysis of variance (ANOVA).\n",
        "\n",
        "# Example: Linear Regression\n",
        "\n",
        "In linear regression, we assume that the relationship between the response variable (Y) and the predictor variable(s) (X) can be described by a linear function, and that the errors are normally distributed with constant variance."
      ],
      "metadata": {
        "id": "5Wx9BhpQuWvW"
      }
    },
    {
      "cell_type": "code",
      "source": [
        "from sklearn.linear_model import LinearRegression\n",
        "\n",
        "# Generate synthetic data\n",
        "np.random.seed(42)\n",
        "X = np.random.rand(50)\n",
        "Y = 2 * X + 1 + np.random.normal(0, 0.1, 50)\n",
        "\n",
        "# Fit a linear regression model\n",
        "model = LinearRegression()\n",
        "model.fit(X.reshape(-1, 1), Y)\n",
        "\n",
        "# Predict and plot\n",
        "predictions = model.predict(X.reshape(-1, 1))\n",
        "plt.scatter(X, Y)\n",
        "plt.plot(X, predictions, color='red')\n",
        "plt.xlabel('X')\n",
        "plt.ylabel('Y')\n",
        "plt.show()\n"
      ],
      "metadata": {
        "colab": {
          "base_uri": "https://localhost:8080/",
          "height": 279
        },
        "id": "OHD2NM0PuVqg",
        "outputId": "f767a0b7-eda1-4e0f-e207-fb73d470a89b"
      },
      "execution_count": null,
      "outputs": [
        {
          "output_type": "display_data",
          "data": {
            "text/plain": [
              "<Figure size 432x288 with 1 Axes>"
            ],
            "image/png": "[encoded data removed]"
          },
          "metadata": {
            "needs_background": "light"
          }
        }
      ]
    },
    {
      "cell_type": "markdown",
      "source": [
        "# Non-Parametric Models\n",
        "Non-parametric models do not make any assumptions about the underlying distribution of the data or the functional form of the relationships between variables. They are more flexible than parametric models and can adapt to a wide range of data patterns. Examples of non-parametric models include k-nearest neighbors, kernel density estimation, and decision trees.\n",
        "\n",
        "# Example: k-Nearest Neighbors\n",
        "\n",
        "In k-nearest neighbors (k-NN) classification, we predict the class of a new data point based on the majority class of its k-nearest neighbors in the training data."
      ],
      "metadata": {
        "id": "ezVX3nuNul73"
      }
    },
    {
      "cell_type": "code",
      "source": [
        "from sklearn.datasets import make_classification\n",
        "from sklearn.neighbors import KNeighborsClassifier\n",
        "\n",
        "# Generate synthetic data\n",
        "X, y = make_classification(n_samples=100, n_features=2, n_informative=2, n_redundant=0, random_state=42)\n",
        "\n",
        "# Fit a k-NN classifier with k=3\n",
        "knn = KNeighborsClassifier(n_neighbors=3)\n",
        "knn.fit(X, y)\n",
        "\n",
        "# Predict and plot\n",
        "predictions = knn.predict(X)\n",
        "plt.scatter(X[:, 0], X[:, 1], c=predictions, cmap=plt.cm.Set1)\n",
        "plt.xlabel('X1')\n",
        "plt.ylabel('X2')\n",
        "plt.show()\n"
      ],
      "metadata": {
        "colab": {
          "base_uri": "https://localhost:8080/",
          "height": 279
        },
        "id": "Elk5uMitupRR",
        "outputId": "0e37206e-c014-4adb-db6d-e0c1c90d6352"
      },
      "execution_count": null,
      "outputs": [
        {
          "output_type": "display_data",
          "data": {
            "text/plain": [
              "<Figure size 432x288 with 1 Axes>"
            ],
            "image/png": "[encoded data removed]"
          },
          "metadata": {
            "needs_background": "light"
          }
        }
      ]
    },
    {
      "cell_type": "markdown",
      "source": [
        "# Semi-Parametric Models\n",
        "Semi-parametric models make some assumptions about the data or relationships between variables but are more flexible than fully parametric models. They combine parametric and non-parametric techniques to strike a balance between the simplicity of parametric models and the flexibility of non-parametric models. Examples of semi-parametric models include generalized additive models (GAMs) and Cox proportional hazards models.\n",
        "\n",
        "# Example: Generalized Additive Model (GAM)\n",
        "\n",
        "In generalized additive models, we assume that the relationship between the response variable (Y) and the predictor variable(s) (X) can be described by a sum of smooth functions, allowing for more flexibility than linear regression."
      ],
      "metadata": {
        "id": "EXShjSSHuyxq"
      }
    },
    {
      "cell_type": "code",
      "source": [
        "import numpy as np\n",
        "import pandas as pd\n",
        "import matplotlib.pyplot as plt\n",
        "from pygam import LinearGAM\n",
        "from pygam.datasets import wage\n",
        "\n",
        "# Load the wage dataset\n",
        "X, y = wage()\n",
        "\n",
        "# Fit a GAM with a spline term for the first predictor variable (age)\n",
        "gam = LinearGAM(n_splines=10).gridsearch(X, y)\n",
        "\n",
        "# Generate a grid of values for the predictor variable (age)\n",
        "X_grid = gam.generate_X_grid(term=0)\n",
        "\n",
        "# Calculate the partial dependence and confidence intervals\n",
        "partial_dep, confidence_intervals = gam.partial_dependence(term=0, X=X_grid, width=0.95)\n",
        "\n",
        "# Plot the partial dependence of the response variable on the first predictor variable\n",
        "plt.figure()\n",
        "plt.plot(X_grid[:, 0], partial_dep, label=\"Partial dependence\")\n",
        "plt.fill_between(X_grid[:, 0], confidence_intervals[:, 0], confidence_intervals[:, 1], alpha=0.25, label=\"95% CI\")\n",
        "plt.xlabel('Age')\n",
        "plt.ylabel('Partial dependence')\n",
        "plt.legend()\n",
        "plt.show()\n"
      ],
      "metadata": {
        "colab": {
          "base_uri": "https://localhost:8080/",
          "height": 299
        },
        "id": "8v4MWNowuyNC",
        "outputId": "14ce4279-f4e7-4bc3-b851-c9cc9a8bdd86"
      },
      "execution_count": null,
      "outputs": [
        {
          "output_type": "stream",
          "name": "stderr",
          "text": [
            "100% (11 of 11) |########################| Elapsed Time: 0:00:00 Time:  0:00:00\n"
          ]
        },
        {
          "output_type": "display_data",
          "data": {
            "text/plain": [
              "<Figure size 432x288 with 1 Axes>"
            ],
            "image/png": "[encoded data removed]"
          },
          "metadata": {
            "needs_background": "light"
          }
        }
      ]
    },
    {
      "cell_type": "markdown",
      "source": [
        "In this example, we used the pygam library to fit a generalized additive model (GAM) to the wage dataset, which contains information about people's wages and their characteristics. We included a spline term for the first predictor variable, allowing for a flexible, smooth relationship between the response variable (wage) and the predictor variable. The plot shows the partial dependence of the wage on the first predictor variable.\n",
        "\n",
        "In summary, fully parametric models make strong assumptions about the data and the relationships between variables, non-parametric models make few or no assumptions, and semi-parametric models strike a balance between the two. The choice of model depends on the specific problem, the data at hand, and the desired balance between simplicity and flexibility."
      ],
      "metadata": {
        "id": "L67iNxxtvnar"
      }
    },
    {
      "cell_type": "markdown",
      "source": [
        "# Statistical Testing"
      ],
      "metadata": {
        "id": "X9qFDQfxZiGN"
      }
    },
    {
      "cell_type": "markdown",
      "source": [
        "# Type I and Type II Errors\n",
        "\n",
        "When performing a statistical hypothesis test, there are two types of errors that can occur: Type I errors and Type II errors.\n",
        "\n",
        "A Type I error occurs when we reject the null hypothesis even though it is actually true. This means that we have falsely concluded that there is a significant difference or relationship when there really isn't one. The probability of making a Type I error is denoted by the symbol alpha (α), and is usually set at 0.05 or 0.01, depending on the level of significance desired.\n",
        "\n",
        "A Type II error occurs when we fail to reject the null hypothesis even though it is actually false. This means that we have failed to detect a significant difference or relationship when there really is one. The probability of making a Type II error is denoted by the symbol beta (β), and is influenced by the sample size, effect size, and level of significance.\n",
        "\n",
        "The relationship between Type I and Type II errors can be visualized using a power curve, which shows the probability of correctly rejecting the null hypothesis (power) as a function of the effect size and sample size. As the effect size or sample size increases, the power of the test increases, and the probability of making a Type II error decreases. However, increasing the sample size or effect size also increases the probability of making a Type I error.\n",
        "\n",
        "In general, the trade-off between Type I and Type II errors depends on the context and the consequences of each type of error. For example, in medical testing, a Type I error (false positive) can lead to unnecessary treatment or surgery, while a Type II error (false negative) can lead to a missed diagnosis or delayed treatment. Therefore, it is important to carefully consider the level of significance and the consequences of each type of error when designing and interpreting a statistical hypothesis test.\n",
        "\n",
        "In summary, Type I and Type II errors are important concepts to understand when performing statistical hypothesis testing. Type I errors occur when we falsely reject the null hypothesis, while Type II errors occur when we fail to reject the null hypothesis when it is actually false. The trade-off between these two types of errors depends on the context and the consequences of each type of error."
      ],
      "metadata": {
        "id": "_NsuZuGPfNFw"
      }
    },
    {
      "cell_type": "markdown",
      "source": [
        "## Using tests correctly\n",
        "\n",
        "## Sample size determination: \n",
        "Sample size is an important consideration in statistical testing because it affects the power of the test and the precision of the estimates. A sample size that is too small may not be representative of the population and may lead to inaccurate results, while a sample size that is too large may be wasteful and unnecessary. Determining the appropriate sample size requires a balance between these factors and depends on the context of the study.\n",
        "\n",
        "## Assumptions of the statistical test:\n",
        " Many statistical tests have specific assumptions that must be met in order for the test to be valid. These assumptions include things like normality of the data, equal variances, independence of observations, and linearity of relationships. Violating these assumptions can lead to inaccurate results and incorrect conclusions.\n",
        "\n",
        "## Choosing the appropriate statistical test: \n",
        "There are many different statistical tests available, each with its own strengths and weaknesses. Choosing the appropriate test requires consideration of the study design, the research question, and the data being analyzed. Using the wrong test can lead to inaccurate results and incorrect conclusions.\n",
        "\n",
        "## Interpreting the results of the statistical test: \n",
        "Finally, it is important to understand how to interpret the results of the statistical test in the context of the research question. This involves understanding the meaning of statistical significance, effect sizes, confidence intervals, and other measures of uncertainty. Misinterpreting the results of a statistical test can lead to incorrect conclusions and inappropriate actions.\n",
        "\n",
        "In summary, correctly using statistical tests requires consideration of sample size determination, assumptions of the test, choosing the appropriate test, and interpreting the results. Understanding these foundational topics is essential for conducting valid and reliable statistical analyses."
      ],
      "metadata": {
        "id": "TghW-JA5fauF"
      }
    },
    {
      "cell_type": "markdown",
      "source": [
        "# Power Analysis\n",
        "\n",
        "Power analysis is a statistical technique used to determine the sample size needed for a statistical test to detect a significant effect, given a certain level of significance and effect size. It helps to ensure that the test has sufficient power to detect a significant effect if one exists, and to avoid unnecessary or underpowered studies.\n",
        "\n",
        "The power of a statistical test is the probability of correctly rejecting the null hypothesis when it is actually false. It is influenced by several factors, including the sample size, level of significance, effect size, and variability of the data. A power analysis can be used to determine the sample size needed to achieve a desired level of power, given the other factors.\n",
        "\n",
        "Here's an example visualization of a power analysis:"
      ],
      "metadata": {
        "id": "nybqrqpJgHH_"
      }
    },
    {
      "cell_type": "code",
      "source": [
        "import numpy as np\n",
        "import seaborn as sns\n",
        "import matplotlib.pyplot as plt\n",
        "from statsmodels.stats.power import TTestIndPower\n",
        "\n",
        "# Set the parameters for the power analysis\n",
        "effect_sizes = np.arange(0.2, 2.2, 0.2)\n",
        "sample_sizes = np.arange(10, 210, 10)\n",
        "alpha = 0.05\n",
        "power = 0.8\n",
        "\n",
        "# Initialize the TTestIndPower object\n",
        "power_analysis = TTestIndPower()\n",
        "\n",
        "# Calculate the power for different effect sizes and sample sizes\n",
        "powers = []\n",
        "for effect_size in effect_sizes:\n",
        "    power_row = []\n",
        "    for sample_size in sample_sizes:\n",
        "        power_val = power_analysis.solve_power(None, effect_size, sample_size, alpha, power)\n",
        "        power_row.append(power_val)\n",
        "    powers.append(power_row)\n",
        "\n",
        "# Convert the power values to a numpy array for plotting\n",
        "powers = np.array(powers)\n",
        "\n",
        "# Create a heatmap of the power values\n",
        "fig, ax = plt.subplots(figsize=(10, 7))\n",
        "sns.heatmap(powers, cmap='YlGnBu', annot=True, xticklabels=sample_sizes, yticklabels=effect_sizes, fmt='.2f', cbar_kws={'label': 'Power'})\n",
        "ax.set_xlabel('Sample Size')\n",
        "ax.set_ylabel('Effect Size (Cohen\\'s d)')\n",
        "ax.set_title(f'Power Analysis (alpha={alpha}, power={power})')\n",
        "plt.show()\n"
      ],
      "metadata": {
        "id": "-WaNktsVgZ0m"
      },
      "execution_count": null,
      "outputs": []
    },
    {
      "cell_type": "markdown",
      "source": [
        "# Chi squared goodness of fit\n",
        "The chi-squared goodness of fit test is a statistical test used to determine whether a sample of categorical data fits a theoretical distribution. It is used to compare one variable to a theoretical distribution when the form of the data is a frequency. The test is used to determine whether the observed data differs significantly from what would be expected under the null hypothesis, which is that the sample comes from a population with the specified theoretical distribution.\n",
        "\n",
        "The test involves calculating a test statistic called the chi-squared statistic, which measures the difference between the observed and expected frequencies. The expected frequencies are calculated based on the theoretical distribution being tested. If the chi-squared statistic is large enough, it indicates that the observed data differs significantly from what would be expected under the null hypothesis, and the null hypothesis is rejected.\n",
        "\n",
        "Here's an example Python code that demonstrates how to perform a chi-squared goodness of fit test:"
      ],
      "metadata": {
        "id": "qxgnoZpyZlwa"
      }
    },
    {
      "cell_type": "code",
      "source": [
        "import numpy as np\n",
        "from scipy.stats import chi2_contingency\n",
        "import matplotlib.pyplot as plt\n",
        "\n",
        "# Generate some categorical data with random frequencies\n",
        "data = np.array([30, 20, 50, 40, 60])\n",
        "\n",
        "# Define the theoretical distribution to test against (normal distribution)\n",
        "theoretical_dist = np.array([0.1, 0.2, 0.3, 0.2, 0.1])\n",
        "\n",
        "# Calculate the expected frequencies based on the theoretical distribution\n",
        "expected_freq = theoretical_dist * data.sum()\n",
        "\n",
        "# Perform the chi-squared goodness of fit test\n",
        "chi2, pval = chi2_contingency([data, expected_freq])[0:2]\n",
        "\n",
        "# Print the test results\n",
        "print('Chi-squared statistic:', chi2)\n",
        "print('p-value:', pval)\n",
        "\n",
        "# Visualize the observed and expected frequencies\n",
        "fig, ax = plt.subplots()\n",
        "x = np.arange(len(data))\n",
        "ax.bar(x, data, width=0.35, label='Observed')\n",
        "ax.bar(x+0.35, expected_freq, width=0.35, label='Expected')\n",
        "ax.legend()\n",
        "plt.show()\n"
      ],
      "metadata": {
        "colab": {
          "base_uri": "https://localhost:8080/",
          "height": 300
        },
        "id": "BxIoKJPZZ2Nn",
        "outputId": "0e8b733e-8dbf-421f-e29e-44c3f1222353"
      },
      "execution_count": 9,
      "outputs": [
        {
          "output_type": "stream",
          "name": "stdout",
          "text": [
            "Chi-squared statistic: 28.602356902356895\n",
            "p-value: 9.41460263006302e-06\n"
          ]
        },
        {
          "output_type": "display_data",
          "data": {
            "text/plain": [
              "<Figure size 432x288 with 1 Axes>"
            ],
            "image/png": "[encoded data removed]"
          },
          "metadata": {
            "needs_background": "light"
          }
        }
      ]
    },
    {
      "cell_type": "markdown",
      "source": [
        "## Chi-squared test for association\n",
        "\n",
        "The chi-squared test for association is a statistical test used to determine whether there is a relationship between two categorical variables. It is used to test whether the observed frequencies in a contingency table are significantly different from what would be expected under the null hypothesis, which is that the two variables are independent.\n",
        "\n",
        "The test involves calculating a test statistic called the chi-squared statistic, which measures the difference between the observed frequencies and the expected frequencies under the null hypothesis. The expected frequencies are calculated based on the assumption that the two variables are independent. If the chi-squared statistic is large enough, it indicates that the observed data differs significantly from what would be expected under the null hypothesis, and the null hypothesis is rejected.\n",
        "\n",
        "Here's an example Python code that demonstrates how to perform a chi-squared test for association:"
      ],
      "metadata": {
        "id": "C9ksalbpbFI8"
      }
    },
    {
      "cell_type": "code",
      "source": [
        "import numpy as np\n",
        "from scipy.stats import chi2_contingency\n",
        "\n",
        "# Generate some categorical data with random frequencies\n",
        "data = np.array([[20, 30, 50], [40, 60, 80], [10, 20, 30]])\n",
        "\n",
        "# Perform the chi-squared test for association\n",
        "chi2, pval, dof, expected_freq = chi2_contingency(data)\n",
        "\n",
        "# Print the test results\n",
        "print('Chi-squared statistic:', chi2)\n",
        "print('p-value:', pval)\n",
        "print('Degrees of freedom:', dof)\n",
        "print('Expected frequencies:', expected_freq)\n"
      ],
      "metadata": {
        "colab": {
          "base_uri": "https://localhost:8080/"
        },
        "id": "prCCynzbbWV7",
        "outputId": "4e5cfe6a-3912-4e80-db74-94f10f280eed"
      },
      "execution_count": 10,
      "outputs": [
        {
          "output_type": "stream",
          "name": "stdout",
          "text": [
            "Chi-squared statistic: 1.4963924963924955\n",
            "p-value: 0.8272802986281522\n",
            "Degrees of freedom: 4\n",
            "Expected frequencies: [[20.58823529 32.35294118 47.05882353]\n",
            " [37.05882353 58.23529412 84.70588235]\n",
            " [12.35294118 19.41176471 28.23529412]]\n"
          ]
        }
      ]
    },
    {
      "cell_type": "markdown",
      "source": [
        "In this example, we have generated a contingency table with some categorical data, and we want to test whether there is a relationship between the two variables. We perform the chi-squared test for association using the chi2_contingency function from the SciPy library. This function returns the chi-squared statistic, p-value, degrees of freedom, and expected frequencies for the test. We print these results to see whether there is a significant relationship between the two variables.\n",
        "\n",
        "The chi-squared test for association can also be visualized using a heatmap to show the observed and expected frequencies. Here's an example Python code that demonstrates how to create a heatmap:"
      ],
      "metadata": {
        "id": "izB_lAsxbbJI"
      }
    },
    {
      "cell_type": "code",
      "source": [
        "import seaborn as sns\n",
        "\n",
        "# Create a heatmap of the contingency table\n",
        "sns.heatmap(data, annot=True, cmap='Blues')\n",
        "plt.show()\n"
      ],
      "metadata": {
        "colab": {
          "base_uri": "https://localhost:8080/",
          "height": 269
        },
        "id": "_4mn1rfabcRR",
        "outputId": "33241661-532e-4b0b-8f69-bb31d91225d0"
      },
      "execution_count": 11,
      "outputs": [
        {
          "output_type": "display_data",
          "data": {
            "text/plain": [
              "<Figure size 432x288 with 2 Axes>"
            ],
            "image/png": "[encoded data removed]"
          },
          "metadata": {
            "needs_background": "light"
          }
        }
      ]
    },
    {
      "cell_type": "markdown",
      "source": [
        "In this code, we use the heatmap function from the Seaborn library to create a heatmap of the contingency table. The annot parameter is set to True to display the observed frequencies, and the cmap parameter is set to 'Blues' to use a blue color scheme. The resulting heatmap helps to visualize the relationship between the two variables and whether there are any significant deviations from what would be expected under the null hypothesis."
      ],
      "metadata": {
        "id": "V0EcBCkBbiZV"
      }
    },
    {
      "cell_type": "markdown",
      "source": [
        "## Spearman's rank correlation coefficient\n",
        "\n",
        "Spearman's rank correlation coefficient is a statistical test used to measure the strength and direction of a relationship between two variables. Unlike Pearson's correlation coefficient, which measures the strength of a linear relationship between two continuous variables, Spearman's rank correlation coefficient measures the strength of a monotonic relationship between two variables, which may be continuous or discrete.\n",
        "\n",
        "The test involves ranking the values of each variable and calculating the difference between the ranks for each pair of observations. The test statistic is then calculated as the correlation between the ranks. The correlation coefficient ranges from -1 to 1, where -1 indicates a perfect negative relationship, 0 indicates no relationship, and 1 indicates a perfect positive relationship.\n",
        "\n",
        "Here's an example Python code that demonstrates how to calculate Spearman's rank correlation coefficient:"
      ],
      "metadata": {
        "id": "xwxUS2kibk31"
      }
    },
    {
      "cell_type": "code",
      "source": [
        "import numpy as np\n",
        "from scipy.stats import spearmanr\n",
        "import matplotlib.pyplot as plt\n",
        "\n",
        "# Generate some random data with a monotonic relationship\n",
        "x = np.random.normal(0, 1, 100)\n",
        "y = x + np.random.normal(0, 0.5, 100)\n",
        "\n",
        "# Calculate Spearman's rank correlation coefficient\n",
        "rho, pval = spearmanr(x, y)\n",
        "\n",
        "# Print the correlation coefficient and p-value\n",
        "print('Spearman correlation coefficient:', rho)\n",
        "print('p-value:', pval)\n",
        "\n",
        "# Visualize the relationship between the two variables\n",
        "fig, ax = plt.subplots()\n",
        "ax.scatter(x, y)\n",
        "ax.set_xlabel('X')\n",
        "ax.set_ylabel('Y')\n",
        "plt.show()\n"
      ],
      "metadata": {
        "colab": {
          "base_uri": "https://localhost:8080/",
          "height": 314
        },
        "id": "yQo3FPZpcF79",
        "outputId": "8ba3136e-90dc-47d9-e861-81b350089813"
      },
      "execution_count": 12,
      "outputs": [
        {
          "output_type": "stream",
          "name": "stdout",
          "text": [
            "Spearman correlation coefficient: 0.922112211221122\n",
            "p-value: 3.3638101948597485e-42\n"
          ]
        },
        {
          "output_type": "display_data",
          "data": {
            "text/plain": [
              "<Figure size 432x288 with 1 Axes>"
            ],
            "image/png": "[encoded data removed]"
          },
          "metadata": {
            "needs_background": "light"
          }
        }
      ]
    },
    {
      "cell_type": "markdown",
      "source": [
        "In this example, we have generated some random data with a monotonic relationship, where the values of y increase with the values of x. We calculate Spearman's rank correlation coefficient using the spearmanr function from the SciPy library. This function returns the correlation coefficient and p-value for the test. We print these results to see the strength and direction of the relationship between the two variables.\n",
        "\n",
        "Finally, we visualize the relationship between the two variables using a scatter plot. The scatter plot helps to demonstrate the underlying mechanism of Spearman's rank correlation coefficient, which is to measure the strength of a monotonic relationship between two variables.\n",
        "\n",
        "If the correlation coefficient is close to -1 or 1, it indicates a strong monotonic relationship between the two variables. If the correlation coefficient is close to 0, it indicates no monotonic relationship between the two variables."
      ],
      "metadata": {
        "id": "REJnqk0JcK0q"
      }
    },
    {
      "cell_type": "markdown",
      "source": [
        "# Multiple regression\n",
        "\n",
        "Multiple regression is a statistical test used to analyze the relationship between a dependent variable and two or more independent variables. It is used to model the relationship between the dependent variable and the independent variables, and to identify which independent variables have a significant impact on the dependent variable. The model is typically represented as:\n",
        "\n",
        "y = b0 + b1x1 + b2x2 + ... + bnxn + e\n",
        "\n",
        "where y is the dependent variable, x1, x2, ..., xn are the independent variables, b0, b1, b2, ..., bn are the coefficients of the independent variables, and e is the error term.\n",
        "\n",
        "The coefficients of the independent variables represent the change in the dependent variable for each unit change in the independent variable, holding all other independent variables constant. The coefficients can be used to make predictions about the dependent variable based on the values of the independent variables.\n",
        "\n",
        "Here's an example Python code that demonstrates how to perform multiple regression:"
      ],
      "metadata": {
        "id": "zAthCDbwcawv"
      }
    },
    {
      "cell_type": "code",
      "source": [
        "import numpy as np\n",
        "import pandas as pd\n",
        "import statsmodels.api as sm\n",
        "\n",
        "# Generate some random data with two independent variables and one dependent variable\n",
        "x1 = np.random.normal(0, 1, 100)\n",
        "x2 = np.random.normal(0, 1, 100)\n",
        "y = 2*x1 - 3*x2 + np.random.normal(0, 1, 100)\n",
        "\n",
        "# Create a pandas dataframe with the data\n",
        "data = pd.DataFrame({'x1': x1, 'x2': x2, 'y': y})\n",
        "\n",
        "# Fit a multiple regression model\n",
        "model = sm.formula.ols('y ~ x1 + x2', data=data).fit()\n",
        "\n",
        "# Print the model summary\n",
        "print(model.summary())\n"
      ],
      "metadata": {
        "colab": {
          "base_uri": "https://localhost:8080/"
        },
        "id": "ZZDm6t2jcJ4j",
        "outputId": "654d1140-ec59-49e3-dc78-c7a49fe919e5"
      },
      "execution_count": 13,
      "outputs": [
        {
          "output_type": "stream",
          "name": "stdout",
          "text": [
            "                            OLS Regression Results                            \n",
            "==============================================================================\n",
            "Dep. Variable:                      y   R-squared:                       0.902\n",
            "Model:                            OLS   Adj. R-squared:                  0.900\n",
            "Method:                 Least Squares   F-statistic:                     446.5\n",
            "Date:                Sat, 25 Mar 2023   Prob (F-statistic):           1.17e-49\n",
            "Time:                        15:45:12   Log-Likelihood:                -149.16\n",
            "No. Observations:                 100   AIC:                             304.3\n",
            "Df Residuals:                      97   BIC:                             312.1\n",
            "Df Model:                           2                                         \n",
            "Covariance Type:            nonrobust                                         \n",
            "==============================================================================\n",
            "                 coef    std err          t      P>|t|      [0.025      0.975]\n",
            "------------------------------------------------------------------------------\n",
            "Intercept     -0.3198      0.109     -2.923      0.004      -0.537      -0.103\n",
            "x1             2.0629      0.109     18.897      0.000       1.846       2.280\n",
            "x2            -3.0537      0.122    -25.023      0.000      -3.296      -2.812\n",
            "==============================================================================\n",
            "Omnibus:                        0.835   Durbin-Watson:                   1.938\n",
            "Prob(Omnibus):                  0.659   Jarque-Bera (JB):                0.464\n",
            "Skew:                           0.144   Prob(JB):                        0.793\n",
            "Kurtosis:                       3.168   Cond. No.                         1.17\n",
            "==============================================================================\n",
            "\n",
            "Notes:\n",
            "[1] Standard Errors assume that the covariance matrix of the errors is correctly specified.\n"
          ]
        }
      ]
    },
    {
      "cell_type": "markdown",
      "source": [
        "In this example, we have generated some random data with two independent variables (x1 and x2) and one dependent variable (y), where the values of y depend on the values of x1 and x2. We create a pandas dataframe with the data and fit a multiple regression model using the ols function from the statsmodels library.\n",
        "\n",
        "The ols function takes a formula as input, which specifies the dependent variable and independent variables to include in the model. The formula uses a syntax similar to R, where y ~ x1 + x2 specifies that y is the dependent variable and x1 and x2 are the independent variables.\n",
        "\n",
        "We then print the summary of the model using the summary method. The model summary includes information about the coefficients of the independent variables, the R-squared value (which measures the proportion of variance in the dependent variable explained by the independent variables), and other statistics.\n",
        "\n",
        "The coefficients of the independent variables indicate the change in the dependent variable for each unit change in the independent variable, holding all other independent variables constant. In this example, the coefficient for x1 is 2, indicating that a one-unit increase in x1 is associated with a two-unit increase in y, holding x2 constant. The coefficient for x2 is -3, indicating that a one-unit increase in x2 is associated with a three-unit decrease in y, holding x1 constant."
      ],
      "metadata": {
        "id": "6addxhlackbc"
      }
    },
    {
      "cell_type": "markdown",
      "source": [
        "# Independent samples t-test\n",
        "\n",
        "The independent samples t-test is a statistical test used to compare the means of two independent groups. It is used to determine whether there is a significant difference between the means of the two groups, and to estimate the size of the difference. The test assumes that the two groups are normally distributed and have equal variances.\n",
        "\n",
        "The test involves calculating a test statistic called the t-statistic, which measures the difference between the means of the two groups relative to the variability within each group. The test statistic is then compared to a t-distribution with a certain number of degrees of freedom, which depends on the sample sizes and the assumed equality of variances. If the t-statistic is large enough, it indicates that the difference between the means of the two groups is significant, and the null hypothesis of equal means is rejected.\n",
        "\n",
        "Here's an example Python code that demonstrates how to perform an independent samples t-test:"
      ],
      "metadata": {
        "id": "oUIfJeS_dDg5"
      }
    },
    {
      "cell_type": "code",
      "source": [
        "import numpy as np\n",
        "from scipy.stats import ttest_ind\n",
        "import matplotlib.pyplot as plt\n",
        "\n",
        "# Generate some random data for two independent groups\n",
        "group1 = np.random.normal(10, 2, 50)\n",
        "group2 = np.random.normal(12, 2, 50)\n",
        "\n",
        "# Perform an independent samples t-test\n",
        "t, pval = ttest_ind(group1, group2)\n",
        "\n",
        "# Print the test results\n",
        "print('t-statistic:', t)\n",
        "print('p-value:', pval)\n",
        "\n",
        "# Visualize the data for the two groups\n",
        "fig, ax = plt.subplots()\n",
        "ax.hist(group1, alpha=0.5, label='Group 1')\n",
        "ax.hist(group2, alpha=0.5, label='Group 2')\n",
        "ax.legend()\n",
        "plt.show()\n"
      ],
      "metadata": {
        "colab": {
          "base_uri": "https://localhost:8080/",
          "height": 300
        },
        "id": "I68eSHFBcjcm",
        "outputId": "4cec319a-9d7c-4e4e-afc5-37dc155046f3"
      },
      "execution_count": 14,
      "outputs": [
        {
          "output_type": "stream",
          "name": "stdout",
          "text": [
            "t-statistic: -4.421382386266779\n",
            "p-value: 2.5386399745228395e-05\n"
          ]
        },
        {
          "output_type": "display_data",
          "data": {
            "text/plain": [
              "<Figure size 432x288 with 1 Axes>"
            ],
            "image/png": "[encoded data removed]"
          },
          "metadata": {
            "needs_background": "light"
          }
        }
      ]
    },
    {
      "cell_type": "markdown",
      "source": [
        "In this example, we have generated some random data for two independent groups (group1 and group2) with different means and equal variances. We perform an independent samples t-test using the ttest_ind function from the SciPy library. This function returns the t-statistic and p-value for the test. We print these results to see whether there is a significant difference between the means of the two groups.\n",
        "\n",
        "Finally, we visualize the data for the two groups using a histogram to see how the distributions compare. The visualization helps to demonstrate the underlying mechanism of the independent samples t-test, which is to compare the means of the two groups and estimate the size of the difference.\n",
        "\n",
        "If the p-value is less than the significance level (usually set at 0.05), it indicates that the difference between the means of the two groups is significant, and the null hypothesis of equal means is rejected. If the p-value is greater than the significance level, it indicates that the difference between the means of the two groups is not significant, and the null hypothesis cannot be rejected."
      ],
      "metadata": {
        "id": "JHQfdvfedK_g"
      }
    },
    {
      "cell_type": "markdown",
      "source": [
        "# Paired samples t-test\n",
        "\n",
        "The paired samples t-test is a statistical test used to compare the means of two related groups. It is used to determine whether there is a significant difference between the means of the two groups, and to estimate the size of the difference. The test assumes that the two groups are paired and have equal variances.\n",
        "\n",
        "The test involves calculating a test statistic called the t-statistic, which measures the difference between the means of the two groups relative to the variability within each group. The test statistic is then compared to a t-distribution with a certain number of degrees of freedom, which depends on the sample size and the assumed equality of variances. If the t-statistic is large enough, it indicates that the difference between the means of the two groups is significant, and the null hypothesis of equal means is rejected.\n",
        "\n",
        "Here's an example Python code that demonstrates how to perform a paired samples t-test:"
      ],
      "metadata": {
        "id": "BdA2c6todiT-"
      }
    },
    {
      "cell_type": "code",
      "source": [
        "import numpy as np\n",
        "from scipy.stats import ttest_rel\n",
        "\n",
        "# Generate some random data for two related groups\n",
        "before = np.random.normal(10, 2, 50)\n",
        "after = before + np.random.normal(2, 1, 50)\n",
        "\n",
        "# Perform a paired samples t-test\n",
        "t, pval = ttest_rel(before, after)\n",
        "\n",
        "# Print the test results\n",
        "print('t-statistic:', t)\n",
        "print('p-value:', pval)\n"
      ],
      "metadata": {
        "colab": {
          "base_uri": "https://localhost:8080/"
        },
        "id": "m21f-oZydkYw",
        "outputId": "c7d6dd07-d372-47dc-ff7b-ac0fd3f7d085"
      },
      "execution_count": 15,
      "outputs": [
        {
          "output_type": "stream",
          "name": "stdout",
          "text": [
            "t-statistic: -14.154886987355859\n",
            "p-value: 6.131789836087369e-19\n"
          ]
        }
      ]
    },
    {
      "cell_type": "markdown",
      "source": [
        "In this example, we have generated some random data for two related groups (before and after), where the values of after are related to the values of before through the addition of some random noise. We perform a paired samples t-test using the ttest_rel function from the SciPy library. This function returns the t-statistic and p-value for the test. We print these results to see whether there is a significant difference between the means of the two groups.\n",
        "\n",
        "If the p-value is less than the significance level (usually set at 0.05), it indicates that the difference between the means of the two groups is significant, and the null hypothesis of equal means is rejected. If the p-value is greater than the significance level, it indicates that the difference between the means of the two groups is not significant, and the null hypothesis cannot be rejected.\n",
        "\n",
        "The paired samples t-test is useful when we want to compare the means of two related groups, such as before-and-after measurements in a clinical trial, or matched pairs of individuals. It helps to control for individual differences and reduce variability between the groups, leading to a more sensitive test."
      ],
      "metadata": {
        "id": "6SoI4niudqOF"
      }
    },
    {
      "cell_type": "markdown",
      "source": [
        "# One-way ANOVA\n",
        "\n",
        "One-way ANOVA (analysis of variance) is a statistical test used to compare the means of three or more independent groups. It is used to determine whether there is a significant difference between the means of the groups, and to estimate the size of the difference. The test assumes that the groups are independent and normally distributed with equal variances.\n",
        "\n",
        "The test involves calculating a test statistic called the F-statistic, which measures the ratio of the between-group variability to the within-group variability. The F-statistic is then compared to an F-distribution with a certain number of degrees of freedom, which depend on the number of groups and the sample size. If the F-statistic is large enough, it indicates that the difference between the means of the groups is significant, and the null hypothesis of equal means is rejected.\n",
        "\n",
        "Here's an example Python code that demonstrates how to perform a one-way ANOVA:"
      ],
      "metadata": {
        "id": "CQo1J5RHeIKt"
      }
    },
    {
      "cell_type": "code",
      "source": [
        "import numpy as np\n",
        "from scipy.stats import f_oneway\n",
        "import matplotlib.pyplot as plt\n",
        "\n",
        "# Generate some random data for three independent groups\n",
        "group1 = np.random.normal(10, 2, 50)\n",
        "group2 = np.random.normal(12, 2, 50)\n",
        "group3 = np.random.normal(15, 2, 50)\n",
        "\n",
        "# Perform a one-way ANOVA\n",
        "f, pval = f_oneway(group1, group2, group3)\n",
        "\n",
        "# Print the test results\n",
        "print('F-statistic:', f)\n",
        "print('p-value:', pval)\n",
        "\n",
        "# Visualize the data for the three groups\n",
        "fig, ax = plt.subplots()\n",
        "ax.boxplot([group1, group2, group3])\n",
        "ax.set_xticklabels(['Group 1', 'Group 2', 'Group 3'])\n",
        "ax.set_ylabel('Value')\n",
        "plt.show()\n"
      ],
      "metadata": {
        "colab": {
          "base_uri": "https://localhost:8080/",
          "height": 300
        },
        "id": "b2kvuq6BdmbP",
        "outputId": "86ddf4a2-2165-45a5-ee57-9c6ff7a7593c"
      },
      "execution_count": 16,
      "outputs": [
        {
          "output_type": "stream",
          "name": "stdout",
          "text": [
            "F-statistic: 81.84203868389132\n",
            "p-value: 1.2953224374060466e-24\n"
          ]
        },
        {
          "output_type": "display_data",
          "data": {
            "text/plain": [
              "<Figure size 432x288 with 1 Axes>"
            ],
            "image/png": "[encoded data removed]"
          },
          "metadata": {
            "needs_background": "light"
          }
        }
      ]
    },
    {
      "cell_type": "markdown",
      "source": [
        "In this example, we have generated some random data for three independent groups (group1, group2, and group3) with different means and equal variances. We perform a one-way ANOVA using the f_oneway function from the SciPy library. This function returns the F-statistic and p-value for the test. We print these results to see whether there is a significant difference between the means of the three groups.\n",
        "\n",
        "Finally, we visualize the data for the three groups using a boxplot to see how the distributions compare. The visualization helps to demonstrate the underlying mechanism of the one-way ANOVA, which is to compare the means of the three groups and estimate the size of the difference.\n",
        "\n",
        "If the p-value is less than the significance level (usually set at 0.05), it indicates that the difference between the means of the groups is significant, and the null hypothesis of equal means is rejected. If the p-value is greater than the significance level, it indicates that the difference between the means of the groups is not significant, and the null hypothesis cannot be rejected.\n",
        "\n",
        "The one-way ANOVA is useful when we want to compare the means of three or more independent groups, such as different treatment groups in a clinical trial, or different groups of students in an educational study. It helps to identify which group(s) differ significantly from the others, and to estimate the size of the difference."
      ],
      "metadata": {
        "id": "umW_Kq9yeQar"
      }
    },
    {
      "cell_type": "markdown",
      "source": [
        "# Repeated measures ANOVA\n",
        "\n",
        "Repeated measures ANOVA is a statistical test used to compare the means of three or more related groups. It is used to determine whether there is a significant difference between the means of the groups, and to estimate the size of the difference. The test assumes that the groups are related and normally distributed with equal variances.\n",
        "\n",
        "The test involves calculating a test statistic called the F-statistic, which measures the ratio of the between-group variability to the within-group variability. The F-statistic is then compared to an F-distribution with a certain number of degrees of freedom, which depend on the number of groups and the sample size. If the F-statistic is large enough, it indicates that the difference between the means of the groups is significant, and the null hypothesis of equal means is rejected.\n",
        "\n",
        "Here's an example Python code that demonstrates how to perform a repeated measures ANOVA:"
      ],
      "metadata": {
        "id": "tHgIAvqeedoC"
      }
    },
    {
      "cell_type": "code",
      "source": [
        "import numpy as np\n",
        "from scipy.stats import f_oneway, f\n",
        "import matplotlib.pyplot as plt\n",
        "\n",
        "# Generate some random data for three related groups\n",
        "group1 = np.random.normal(10, 2, 50)\n",
        "group2 = group1 + np.random.normal(2, 1, 50)\n",
        "group3 = group2 + np.random.normal(2, 1, 50)\n",
        "\n",
        "# Reshape the data for repeated measures ANOVA\n",
        "data = np.vstack((group1, group2, group3)).T\n",
        "\n",
        "# Perform a repeated measures ANOVA\n",
        "fval, pval = f_oneway(*data)\n",
        "\n",
        "# Print the test results\n",
        "print('F-statistic:', fval)\n",
        "print('p-value:', pval)\n",
        "\n",
        "# Visualize the data for the three groups\n",
        "fig, ax = plt.subplots()\n",
        "ax.plot(group1, label='Group 1')\n",
        "ax.plot(group2, label='Group 2')\n",
        "ax.plot(group3, label='Group 3')\n",
        "ax.legend()\n",
        "ax.set_ylabel('Value')\n",
        "plt.show()\n"
      ],
      "metadata": {
        "colab": {
          "base_uri": "https://localhost:8080/",
          "height": 300
        },
        "id": "JroPGb4jePzA",
        "outputId": "e903b350-c70f-4516-dce1-d8a759f3290e"
      },
      "execution_count": 17,
      "outputs": [
        {
          "output_type": "stream",
          "name": "stdout",
          "text": [
            "F-statistic: 3.174171131641279\n",
            "p-value: 5.122175658180228e-07\n"
          ]
        },
        {
          "output_type": "display_data",
          "data": {
            "text/plain": [
              "<Figure size 432x288 with 1 Axes>"
            ],
            "image/png": "[encoded data removed]"
          },
          "metadata": {
            "needs_background": "light"
          }
        }
      ]
    },
    {
      "cell_type": "markdown",
      "source": [
        "In this example, we have generated some random data for three related groups (group1, group2, and group3) where the values of group2 and group3 are related to the values of group1 through the addition of some random noise. We reshape the data into a format suitable for a repeated measures ANOVA and perform the test using the f_oneway function from the SciPy library. This function returns the F-statistic and p-value for the test. We print these results to see whether there is a significant difference between the means of the three groups.\n",
        "\n",
        "Finally, we visualize the data for the three groups using a line plot to see how the means compare across the different groups. The visualization helps to demonstrate the underlying mechanism of the repeated measures ANOVA, which is to compare the means of the three groups and estimate the size of the difference.\n",
        "\n",
        "If the p-value is less than the significance level (usually set at 0.05), it indicates that the difference between the means of the groups is significant, and the null hypothesis of equal means is rejected. If the p-value is greater than the significance level, it indicates that the difference between the means of the groups is not significant, and the null hypothesis cannot be rejected.\n",
        "\n",
        "The repeated measures ANOVA is useful when we want to compare the means of three or more related groups, such as repeated measurements on the same subject or different conditions within the same experiment. It helps to control for individual differences and reduce variability between the groups, leading to a more sensitive test."
      ],
      "metadata": {
        "id": "2YCRWI2menWP"
      }
    },
    {
      "cell_type": "markdown",
      "source": [
        "## Why can't I just use a ttest across each group?\n",
        "\n",
        "Using an independent t-test across multiple groups is inappropriate for several reasons.\n",
        "\n",
        "First, an independent t-test assumes that the groups are independent and have equal variances. However, when we have three or more groups, it is unlikely that they will all have equal variances, and violating this assumption can lead to inaccurate results.\n",
        "\n",
        "Second, an independent t-test only compares the means of two groups at a time, and does not account for the variability between all groups simultaneously. This can lead to Type I errors (false positives) or Type II errors (false negatives) in detecting significant differences between groups.\n",
        "\n",
        "Third, performing multiple independent t-tests increases the likelihood of making a Type I error due to multiple comparisons. This can lead to false positives, where significant differences are detected when they do not actually exist.\n",
        "\n",
        "Instead of using an independent t-test across multiple groups, a better approach would be to use an ANOVA (analysis of variance) test. ANOVA is a statistical test that can compare the means of three or more groups simultaneously, taking into account the variability between all groups. ANOVA also allows us to test for interactions between variables and to control for confounding variables.\n",
        "\n",
        "In summary, using an independent t-test across multiple groups is inappropriate because it violates key assumptions of the test, does not account for variability between all groups simultaneously, and increases the likelihood of making a Type I error due to multiple comparisons. Instead, ANOVA should be used to compare the means of three or more groups simultaneously."
      ],
      "metadata": {
        "id": "2cYgA3QWe1pT"
      }
    },
    {
      "cell_type": "code",
      "source": [],
      "metadata": {
        "id": "9SvvNqJSemrW"
      },
      "execution_count": null,
      "outputs": []
    }
  ]
}