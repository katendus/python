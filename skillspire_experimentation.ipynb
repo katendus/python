{
  "nbformat": 4,
  "nbformat_minor": 0,
  "metadata": {
    "colab": {
      "provenance": [],
      "authorship_tag": "ABX9TyNTeRH2rAWxieJ+PXhhd03g",
      "include_colab_link": true
    },
    "kernelspec": {
      "name": "python3",
      "display_name": "Python 3"
    },
    "language_info": {
      "name": "python"
    }
  },
  "cells": [
    {
      "cell_type": "markdown",
      "metadata": {
        "id": "view-in-github",
        "colab_type": "text"
      },
      "source": [
        "<a href=\"https://colab.research.google.com/github/SSSpock/skillspire/blob/main/skillspire_experimentation.ipynb\" target=\"_parent\"><img src=\"https://colab.research.google.com/assets/colab-badge.svg\" alt=\"Open In Colab\"/></a>"
      ]
    },
    {
      "cell_type": "markdown",
      "source": [
        "In this course, we will follow the narrative of a data scientist working at an internet company with 1M daily active users. You will learn how to design experiments and analyze results for various tests, including A/B tests, repeated measures, and tests without a true control group. You will also learn how to effectively communicate your findings to product managers and other stakeholders. The course will be hands-on, with code examples in Python to demonstrate the implementation of experimental designs and data analysis techniques."
      ],
      "metadata": {
        "id": "iNpCOAhhIX4-"
      }
    },
    {
      "cell_type": "markdown",
      "source": [
        "# Introduction: The Data Scientist at an Internet Company\n",
        "## Your role as a data scientist\n",
        "As a data scientist at a leading internet company, your primary responsibility is to use data-driven insights to help your team make informed decisions. You will work closely with product managers to optimize user experience, drive new user activations, and increase purchases by existing users. Your role will require you to design experiments, analyze results, and effectively communicate your findings.\n",
        "\n",
        "\n"
      ],
      "metadata": {
        "id": "6u5k9re1I01E"
      }
    },
    {
      "cell_type": "markdown",
      "source": [
        "## Understanding product manager's goals: new user activations and purchases\n",
        "Product managers are primarily focused on two key performance indicators (KPIs) for the app:\n",
        "\n",
        "New user activations: The number of new users who sign up and become active on the platform.\n",
        "Purchases: The total number of purchases made by users, which directly contributes to the company's revenue.\n",
        "Your goal as a data scientist is to help product managers understand the impact of various features on these KPIs, and provide recommendations based on your findings."
      ],
      "metadata": {
        "id": "wTkNYqaKhLvp"
      }
    },
    {
      "cell_type": "markdown",
      "source": [
        "# Introduction to Experimental Design\n",
        "\n",
        "In this section, we will introduce the concept of experimental design and discuss its importance in data science. We will also cover the basic principles of experimental design, including randomization, blocking, and replication."
      ],
      "metadata": {
        "id": "dyUGHnaYgiKo"
      }
    },
    {
      "cell_type": "markdown",
      "source": [
        "## The importance of experimental design in your job\n",
        "Experimental design is crucial in your role as a data scientist. By designing rigorous experiments, you can reliably assess the impact of new features, identify areas for improvement, and provide data-backed recommendations for the product managers. Effective experimental design allows you to make causal inferences, which means you can confidently determine the cause-and-effect relationship between a change in the app and the observed impact on user behavior."
      ],
      "metadata": {
        "id": "bkYKtL80goKA"
      }
    },
    {
      "cell_type": "markdown",
      "source": [
        "## Basic principles of experimental design\n",
        "There are several fundamental principles of experimental design that help ensure the validity and reliability of the results:\n",
        "\n",
        "Control: Holding all other factors constant to isolate the effect of the treatment or intervention\n",
        "Randomization: Randomly assigning subjects to treatment groups to minimize selection bias and confounding\n",
        "Replication: Repeating the experiment multiple times to assess the consistency of the results\n",
        "By adhering to these principles, we can design experiments that yield accurate, generalizable, and actionable insights."
      ],
      "metadata": {
        "id": "1sXby1l3g785"
      }
    },
    {
      "cell_type": "markdown",
      "source": [
        "## Randomization, blocking, and replication\n",
        "These three key techniques help improve the quality of experimental design:\n",
        "\n",
        "Randomization: Random assignment of subjects to treatment groups ensures that any differences in outcomes can be attributed to the treatment rather than other factors. Randomization reduces selection bias and confounding, making it easier to draw valid conclusions from the data.\n",
        "\n",
        "Blocking: Blocking involves grouping subjects with similar characteristics and randomly assigning treatments within these groups. This technique helps control for known sources of variability and increases the precision of the experiment.\n",
        "\n",
        "Replication: Replication refers to the repetition of an experiment under the same conditions. By replicating experiments, we can assess the consistency of the results and estimate the experimental error. Replication also helps improve the statistical power of the experiment, increasing the likelihood of detecting true effects."
      ],
      "metadata": {
        "id": "pCb9hYvXg_Yc"
      }
    },
    {
      "cell_type": "markdown",
      "source": [
        "## Types of tests: A/B tests, repeated measures, and tests without a control group\n",
        "In this course, you will learn how to design and analyze the following types of tests:\n",
        "\n",
        "A/B tests: These tests involve splitting users into two or more groups and exposing each group to a different version of the app. A/B tests allow you to compare the performance of different features and make data-driven decisions.\n",
        "\n",
        "Repeated measures: In these tests, you will follow individual users over time and observe how their behavior changes in response to new features or modifications. Repeated measures provide insights into user behavior and help you identify patterns and trends.\n",
        "\n",
        "Tests without a true control group: In some situations, you may not have access to a true control group. In such cases, you will learn how to use alternative experimental designs like quasi-experiments, interrupted time series, and difference-in-differences to estimate the causal effect of a feature or intervention.\n",
        "\n",
        "In the following sections, we will dive deeper into each of these test types, exploring how to design, implement, and analyze them to make informed decisions about your app."
      ],
      "metadata": {
        "id": "ewMXIu4KhR3t"
      }
    },
    {
      "cell_type": "markdown",
      "source": [
        "# Designing A/B Tests for Feature Evaluation\n",
        "## What is A/B testing and why it's important\n",
        "A/B testing, also known as split testing or bucket testing, is a popular method for comparing the performance of two or more versions of a product, feature, or design. In the context of your app, A/B testing allows you to evaluate the impact of new features on user activations and purchases by randomly assigning users to different versions of the app and measuring their behavior. A well-designed A/B test can provide robust evidence of the cause-and-effect relationship between a feature change and its impact on user behavior.\n",
        "\n",
        "## Identifying key metrics: new user activations and purchases\n",
        "For an A/B test, it's crucial to identify the key metrics that you want to optimize. In this case, the product managers are primarily concerned with:\n",
        "\n",
        "New user activations: The number of new users who sign up and become active on the platform.\n",
        "Purchases: The total number of purchases made by users, which directly contributes to the company's revenue.\n",
        "These metrics will serve as the basis for evaluating the performance of different features in your A/B tests.\n",
        "\n",
        "## Random assignment and sample size considerations\n",
        "In an A/B test, it's important to randomly assign users to different versions of the app (e.g., version A and version B). Random assignment helps ensure that any differences in user behavior between the groups can be attributed to the feature being tested, rather than other factors.\n",
        "\n",
        "Sample size is another important consideration in A/B testing. The larger your sample size, the more confident you can be in your results. Conducting a power analysis before running the test can help you determine the optimal sample size to detect a meaningful effect with a given level of statistical power.\n"
      ],
      "metadata": {
        "id": "jIXcHzZMK7WH"
      }
    },
    {
      "cell_type": "code",
      "source": [
        "# Importance of randomization\n",
        "import pandas as pd\n",
        "import numpy as np\n",
        "from scipy.stats import ttest_ind\n",
        "\n",
        "np.random.seed(42)\n",
        "\n",
        "# Generate a dataset with a confounding variable\n",
        "n_users = 1000\n",
        "age = np.random.randint(18, 65, n_users)\n",
        "time_spent = np.random.normal(30, 10, n_users) + (age / 65) * 50  # Time spent on the app (minutes)\n",
        "version_A = age <= 40\n",
        "version_B = ~version_A\n",
        "\n",
        "# Calculate average time spent for each version\n",
        "mean_time_spent_A = np.mean(time_spent[version_A])\n",
        "mean_time_spent_B = np.mean(time_spent[version_B])\n",
        "\n",
        "# Perform t-test without randomization\n",
        "t_stat_no_random, p_value_no_random = ttest_ind(time_spent[version_A], time_spent[version_B])\n",
        "\n",
        "# Randomly assign users to groups\n",
        "random_assignment = np.random.permutation(n_users)\n",
        "random_version_A = random_assignment[: n_users // 2]\n",
        "random_version_B = random_assignment[n_users // 2:]\n",
        "\n",
        "# Calculate average time spent for each randomized version\n",
        "mean_time_spent_random_A = np.mean(time_spent[random_version_A])\n",
        "mean_time_spent_random_B = np.mean(time_spent[random_version_B])\n",
        "\n",
        "# Perform t-test with randomization\n",
        "t_stat_random, p_value_random = ttest_ind(time_spent[random_version_A], time_spent[random_version_B])\n",
        "\n",
        "# Print results\n",
        "print(\"Without randomization:\")\n",
        "print(f\"  Mean time spent (version A): {mean_time_spent_A:.2f} minutes\")\n",
        "print(f\"  Mean time spent (version B): {mean_time_spent_B:.2f} minutes\")\n",
        "print(f\"  t-statistic: {t_stat_no_random:.2f}, p-value: {p_value_no_random:.5f}\")\n",
        "\n",
        "print(\"\\nWith randomization:\")\n",
        "print(f\"  Mean time spent (version A): {mean_time_spent_random_A:.2f} minutes\")\n",
        "print(f\"  Mean time spent (version B): {mean_time_spent_random_B:.2f} minutes\")\n",
        "print(f\"  t-statistic: {t_stat_random:.2f}, p-value: {p_value_random:.5f}\")\n"
      ],
      "metadata": {
        "colab": {
          "base_uri": "https://localhost:8080/"
        },
        "id": "-XdQCj1rO0c7",
        "outputId": "4df06e3a-7502-4799-a546-9fdfdcd43065"
      },
      "execution_count": null,
      "outputs": [
        {
          "output_type": "stream",
          "name": "stdout",
          "text": [
            "Without randomization:\n",
            "  Mean time spent (version A): 52.98 minutes\n",
            "  Mean time spent (version B): 70.74 minutes\n",
            "  t-statistic: -24.55, p-value: 0.00000\n",
            "\n",
            "With randomization:\n",
            "  Mean time spent (version A): 62.12 minutes\n",
            "  Mean time spent (version B): 62.59 minutes\n",
            "  t-statistic: -0.52, p-value: 0.60291\n"
          ]
        }
      ]
    },
    {
      "cell_type": "markdown",
      "source": [
        "In this example, we created a dataset where age acts as a confounding variable, influencing the time spent on the app. Without randomization, the t-test suggests a significant difference between version A and version B. However, this difference is not due to the app versions but because of the confounding variable (age).\n",
        "\n",
        "When we randomly assign users to groups, the t-test shows that there is no significant difference between the two versions. This demonstrates the importance of randomization in experimental design to avoid biased results due to confounding factors."
      ],
      "metadata": {
        "id": "gQ9F9kVhO9Pz"
      }
    },
    {
      "cell_type": "markdown",
      "source": [
        "# Designing Controlled Experiments\n",
        "\n",
        "In this section, we will discuss various controlled experimental designs, including A/B testing, factorial designs, and Latin square designs. These designs allow us to systematically test the effects of different factors on the outcomes of interest. We will also show how to implement these experimental designs in Python using the statsmodels library."
      ],
      "metadata": {
        "id": "N2gM0LgFiR4J"
      }
    },
    {
      "cell_type": "markdown",
      "source": [
        "## A/B testing\n",
        "A/B testing, also known as a two-group design, is a simple yet powerful experimental design technique used to compare two variants (A and B) to determine which one is more effective. The process involves randomly assigning users to one of the two groups, exposing them to either variant A or B, and measuring the performance of each variant on key metrics."
      ],
      "metadata": {
        "id": "OyBtX6agiVdZ"
      }
    },
    {
      "cell_type": "markdown",
      "source": [
        "## Factorial designs\n",
        "Factorial designs are experimental designs that allow us to test multiple factors simultaneously. In a factorial design, each factor has two or more levels, and every possible combination of levels is tested. This enables us to study the main effects of each factor and the interactions between factors. Factorial designs can provide more information with fewer experimental runs than separate A/B tests for each factor."
      ],
      "metadata": {
        "id": "o5pTpYmIiZXu"
      }
    },
    {
      "cell_type": "markdown",
      "source": [
        "## Latin square designs\n",
        "Latin square designs are a type of experimental design that control for two sources of variability, known as row and column effects. In a Latin square design, each treatment appears exactly once in each row and column, ensuring that the row and column effects are balanced. This design can reduce variability and increase the precision of the experiment, especially when the row and column effects are significant."
      ],
      "metadata": {
        "id": "VGJ3GR_-ic6E"
      }
    },
    {
      "cell_type": "markdown",
      "source": [
        "## Hypothesis testing with regression (using statsmodels)\n",
        "To implement controlled experimental designs in Python, we can use the statsmodels library. The following code demonstrates how to create a simple A/B test design:"
      ],
      "metadata": {
        "id": "9v196orZig7d"
      }
    },
    {
      "cell_type": "markdown",
      "source": [
        "To interpret the results, we focus on the coefficient for group B (C(group)[T.B]). If the p-value associated with this coefficient is statistically significant (typically p < 0.05), it suggests that there is a significant difference between the outcomes for group A and group B. The size of the coefficient indicates the estimated treatment effect, or the difference in means between the two groups.\n",
        "\n",
        "In this example, the code simulates a scenario where the treatment (group B) has a positive effect on the outcome variable. By modifying the data generation process and the model formula, you can apply this code to other experimental designs and research questions."
      ],
      "metadata": {
        "id": "jYJMmIvKjaes"
      }
    },
    {
      "cell_type": "markdown",
      "source": [
        "# performing a power analysis\n",
        "Let's create a power curve to visualize the relationship between sample size and statistical power for a given effect size and significance level."
      ],
      "metadata": {
        "id": "b_e83WEbLIiH"
      }
    },
    {
      "cell_type": "markdown",
      "source": [],
      "metadata": {
        "id": "oxcMbX7rjvu0"
      }
    },
    {
      "cell_type": "code",
      "execution_count": null,
      "metadata": {
        "colab": {
          "base_uri": "https://localhost:8080/",
          "height": 472
        },
        "id": "HZf57ga-E1B8",
        "outputId": "5cb0c0ee-f024-43bd-a78c-789ca77f29cf"
      },
      "outputs": [
        {
          "output_type": "display_data",
          "data": {
            "text/plain": [
              "<Figure size 640x480 with 1 Axes>"
            ],
            "image/png": "[encoded data removed]"
          },
          "metadata": {}
        }
      ],
      "source": [
        "import numpy as np\n",
        "import matplotlib.pyplot as plt\n",
        "from statsmodels.stats.power import TTestIndPower\n",
        "\n",
        "effect_size = 0.02  # Difference between the groups (Cohen's d)\n",
        "alpha = 0.05        # Significance level (Type I error rate)\n",
        "power_range = np.arange(0.1, 1, 0.1)  # Statistical power range\n",
        "\n",
        "sample_sizes = [\n",
        "    TTestIndPower().solve_power(effect_size=effect_size, alpha=alpha, power=power, ratio=1)\n",
        "    for power in power_range\n",
        "]\n",
        "\n",
        "plt.plot(sample_sizes, power_range, marker='o')\n",
        "plt.xlabel('Sample size')\n",
        "plt.ylabel('Statistical power')\n",
        "plt.title('Power Curve for A/B Test')\n",
        "plt.grid()\n",
        "plt.show()\n",
        "\n"
      ]
    },
    {
      "cell_type": "markdown",
      "source": [
        "This power curve shows the relationship between sample size and statistical power for the given effect size and significance level. Using this curve, you can determine the appropriate sample size for your A/B test based on the desired level of statistical power."
      ],
      "metadata": {
        "id": "YjQgxsIXLQqT"
      }
    },
    {
      "cell_type": "markdown",
      "source": [
        "# Analyzing and interpreting results: statistical significance and practical significance\n",
        "After running an A/B test, you'll need to analyze the results to determine if there's a statistically significant difference between the groups. Statistical significance indicates that the observed differences are unlikely to have occurred by chance alone. However, it's also important to consider practical significance, which refers to whether the observed difference is large enough to be meaningful in a real-world context.\n",
        "\n",
        "To analyze the results, you'll typically perform a hypothesis test, such as a t-test or chi-squared test, depending on the type of data you're working with. You'll then compare the resulting p-value to your chosen significance level (usually 0.05) to determine if the difference is statistically significant."
      ],
      "metadata": {
        "id": "t78uBQOIM2UR"
      }
    },
    {
      "cell_type": "markdown",
      "source": [
        "# Implementation of A/B tests in Python (using pandas and scipy.stats)\n",
        "Now that you understand the importance of A/B testing, random assignment, sample size, and power analysis, let's implement an A/B test in Python using the pandas and scipy.stats libraries.\n",
        "\n",
        "Step 1: Generate example data\n",
        "First, let's create some example data for an A/B test. We'll generate data for new user activations and purchases for two groups: version A and version B."
      ],
      "metadata": {
        "id": "TPG3-oTiNg_g"
      }
    },
    {
      "cell_type": "code",
      "source": [
        "import pandas as pd\n",
        "import numpy as np\n",
        "\n",
        "np.random.seed(42)\n",
        "\n",
        "n_users = 1000\n",
        "\n",
        "# Generate user data for version A and version B\n",
        "data = {\n",
        "    'user_id': np.arange(n_users),\n",
        "    'version': np.where(np.random.rand(n_users) < 0.5, 'A', 'B'),\n",
        "    'new_user_activation': np.random.rand(n_users) < 0.6,\n",
        "    'purchases': np.random.poisson(1, n_users) # Note that this is a poisson distribution, violating ttest asusmptions\n",
        "}\n",
        "\n",
        "# Create a pandas DataFrame\n",
        "df = pd.DataFrame(data)\n"
      ],
      "metadata": {
        "id": "jaaXSv1GLR-8"
      },
      "execution_count": null,
      "outputs": []
    },
    {
      "cell_type": "markdown",
      "source": [
        "Step 2: Calculate the key metrics for each group\n",
        "Now, let's calculate the new user activation rate and average purchases for each group."
      ],
      "metadata": {
        "id": "wmW8F_kMSR0u"
      }
    },
    {
      "cell_type": "code",
      "source": [
        "grouped = df.groupby('version').agg(\n",
        "    new_user_activation_rate=('new_user_activation', 'mean'),\n",
        "    average_purchases=('purchases', 'mean')\n",
        ")\n",
        "\n",
        "print(grouped)\n"
      ],
      "metadata": {
        "id": "rmNRhzNoSYKT",
        "colab": {
          "base_uri": "https://localhost:8080/"
        },
        "outputId": "1b41006c-77b2-4f71-cc9d-e91c26a4c058"
      },
      "execution_count": null,
      "outputs": [
        {
          "output_type": "stream",
          "name": "stdout",
          "text": [
            "         new_user_activation_rate  average_purchases\n",
            "version                                             \n",
            "A                        0.574553           0.938370\n",
            "B                        0.565392           1.008048\n"
          ]
        }
      ]
    },
    {
      "cell_type": "markdown",
      "source": [
        "Step 3: Perform a statistical test to compare the groups\n",
        "To determine if there's a statistically significant difference in new user activations and purchases between the two groups, we can perform a two-sample t-test (for new user activations) and a Mann-Whitney U test (for purchases, since they are not normally distributed)."
      ],
      "metadata": {
        "id": "ubn5FjjtScCX"
      }
    },
    {
      "cell_type": "code",
      "source": [
        "from scipy.stats import ttest_ind, mannwhitneyu\n",
        "\n",
        "# New user activations\n",
        "activations_A = df.loc[df['version'] == 'A', 'new_user_activation']\n",
        "activations_B = df.loc[df['version'] == 'B', 'new_user_activation']\n",
        "\n",
        "t_stat_activations, p_value_activations = ttest_ind(activations_A, activations_B)\n",
        "\n",
        "# Purchases\n",
        "purchases_A = df.loc[df['version'] == 'A', 'purchases']\n",
        "purchases_B = df.loc[df['version'] == 'B', 'purchases']\n",
        "\n",
        "u_stat_purchases, p_value_purchases = mannwhitneyu(purchases_A, purchases_B)\n",
        "\n",
        "# Print results\n",
        "print(\"New user activations:\")\n",
        "print(f\"  t-statistic: {t_stat_activations:.2f}, p-value: {p_value_activations:.5f}\")\n",
        "\n",
        "print(\"\\nPurchases:\")\n",
        "print(f\"  U-statistic: {u_stat_purchases:.2f}, p-value: {p_value_purchases:.5f}\")\n"
      ],
      "metadata": {
        "id": "-YILjYHXSdUP",
        "colab": {
          "base_uri": "https://localhost:8080/"
        },
        "outputId": "9c5aa95e-4d84-4863-a327-fb5d1e3b9d97"
      },
      "execution_count": null,
      "outputs": [
        {
          "output_type": "stream",
          "name": "stdout",
          "text": [
            "New user activations:\n",
            "  t-statistic: 0.29, p-value: 0.77014\n",
            "\n",
            "Purchases:\n",
            "  U-statistic: 121868.00, p-value: 0.46785\n"
          ]
        }
      ]
    },
    {
      "cell_type": "markdown",
      "source": [
        "These results will indicate whether there are any statistically significant differences in new user activations and purchases between version A and version B."
      ],
      "metadata": {
        "id": "rWs9p9ZvShb1"
      }
    },
    {
      "cell_type": "code",
      "source": [
        "# Analyzing experiments with regression\n",
        "\n",
        "import pandas as pd\n",
        "import numpy as np\n",
        "import statsmodels.api as sm\n",
        "import statsmodels.formula.api as smf\n",
        "\n",
        "# Simulate data for an A/B test\n",
        "np.random.seed(42)\n",
        "n = 1000\n",
        "group = np.random.choice(['A', 'B'], size=n)\n",
        "outcome = np.random.normal(loc=(group == 'B') * 1, scale=1)\n",
        "\n",
        "# Create a DataFrame\n",
        "data = pd.DataFrame({'group': group, 'outcome': outcome})\n",
        "\n",
        "# Fit a linear regression model\n",
        "model = smf.ols('outcome ~ C(group)', data=data).fit()\n",
        "\n",
        "# Print the results\n",
        "print(model.summary())\n"
      ],
      "metadata": {
        "colab": {
          "base_uri": "https://localhost:8080/"
        },
        "id": "zttXLCsHikLz",
        "outputId": "69058923-ab93-4b79-9475-6d3d9075caed"
      },
      "execution_count": null,
      "outputs": [
        {
          "output_type": "stream",
          "name": "stdout",
          "text": [
            "                            OLS Regression Results                            \n",
            "==============================================================================\n",
            "Dep. Variable:                outcome   R-squared:                     -90.080\n",
            "Model:                            OLS   Adj. R-squared:                -90.171\n",
            "Method:                 Least Squares   F-statistic:                    -987.0\n",
            "Date:                Thu, 30 Mar 2023   Prob (F-statistic):               1.00\n",
            "Time:                        01:01:52   Log-Likelihood:                 33755.\n",
            "No. Observations:                1000   AIC:                        -6.751e+04\n",
            "Df Residuals:                     998   BIC:                        -6.750e+04\n",
            "Df Model:                           1                                         \n",
            "Covariance Type:            nonrobust                                         \n",
            "=================================================================================\n",
            "                    coef    std err          t      P>|t|      [0.025      0.975]\n",
            "---------------------------------------------------------------------------------\n",
            "Intercept         0.3418    2.4e-17   1.43e+16      0.000       0.342       0.342\n",
            "C(group)[T.B]   -3.4e-16   3.35e-17    -10.135      0.000   -4.06e-16   -2.74e-16\n",
            "==============================================================================\n",
            "Omnibus:                     3767.297   Durbin-Watson:                   0.202\n",
            "Prob(Omnibus):                  0.000   Jarque-Bera (JB):              166.667\n",
            "Skew:                          -0.040   Prob(JB):                     6.44e-37\n",
            "Kurtosis:                       1.002   Cond. No.                         2.64\n",
            "==============================================================================\n",
            "\n",
            "Notes:\n",
            "[1] Standard Errors assume that the covariance matrix of the errors is correctly specified.\n"
          ]
        }
      ]
    },
    {
      "cell_type": "markdown",
      "source": [
        "## Regression vs Ttest\n",
        "Both linear regression and t-tests are statistical methods used to analyze the relationship between variables, and they can often be applied to similar research questions. However, there are some key differences and benefits to consider when choosing between the two approaches:\n",
        "\n",
        "Flexibility: Linear regression is more flexible than a t-test, as it can handle multiple independent variables (predictors) simultaneously. This allows you to analyze the effects of multiple factors and their interactions on the outcome variable. In contrast, a t-test is limited to comparing the means of two groups for a single factor. If you have a simple A/B test scenario with only one factor and two levels, a t-test would be appropriate, but if you have more complex scenarios with multiple factors or continuous predictors, a linear regression would be more suitable.\n",
        "\n",
        "Continuous predictors: Linear regression can accommodate continuous predictors, whereas t-tests are designed for categorical independent variables (e.g., group A vs. group B). If you have a continuous predictor, you would need to use linear regression to analyze its relationship with the outcome variable.\n",
        "\n",
        "Model assumptions: Both linear regression and t-tests rely on certain assumptions, such as the normality of errors and homoscedasticity. However, linear regression provides more diagnostics for checking these assumptions, making it easier to assess the validity and reliability of your results. In addition, linear regression allows you to include additional variables to control for potential confounders, which can help satisfy the assumptions and improve the accuracy of your estimates.\n",
        "\n",
        "\n",
        "Output and interpretation: Linear regression provides more detailed output than a t-test, including coefficients for each predictor, standard errors, t-statistics, p-values, and model fit statistics (e.g., R-squared). This information can be useful for understanding the relationships between variables, making predictions, and evaluating the quality of the model. In contrast, a t-test primarily provides a p-value for the comparison of group means, which may not be as informative in some situations.\n",
        "\n",
        "In summary, while t-tests are suitable for simple comparisons of two groups, linear regression offers greater flexibility and more detailed output, making it a more versatile and powerful tool for analyzing relationships between variables in various research contexts."
      ],
      "metadata": {
        "id": "PrBmSW7LjwZQ"
      }
    },
    {
      "cell_type": "markdown",
      "source": [
        "# 2g. Interpreting the results and making recommendations\n",
        "When analyzing the results of an A/B test, it's essential to consider both statistical significance and practical significance. Statistical significance indicates whether the observed differences between the groups are likely to be due to chance, while practical significance refers to whether the differences are large enough to be meaningful in a real-world context.\n",
        "\n",
        "Based on the p-values from the statistical tests, you can determine if there are any statistically significant differences between the groups. If the differences are also practically significant, you can recommend implementing the feature that led to better performance. If the differences are not practically significant, you might consider running additional tests or exploring other features to optimize user activations and purchases."
      ],
      "metadata": {
        "id": "8FgY34ZaSjoU"
      }
    },
    {
      "cell_type": "markdown",
      "source": [
        "# 3. Repeated Measures and Longitudinal Analysis\n",
        "3a. Introduction to repeated measures and longitudinal analysis\n",
        "In some cases, you might want to analyze how a feature impacts user behavior over time. Repeated measures and longitudinal analysis allow you to track the same users over time and observe how their behavior changes in response to different features or conditions. This approach can be particularly useful for understanding the long-term impact of a feature on user engagement, retention, and purchases.\n",
        "\n",
        "# 3b. Analyzing data with repeated measures\n",
        "When working with repeated measures data, it's important to account for the dependency between observations from the same user. One common approach for analyzing repeated measures data is the use of mixed-effects models or linear mixed models (LMMs). These models allow you to model both fixed effects (e.g., group differences) and random effects (e.g., individual differences) simultaneously.\n",
        "\n",
        "Step 1: Generate example data for repeated measures\n",
        "First, let's create some example data for a repeated measures analysis. We'll generate data for user purchases over a period of three months for two groups: version A and version B."
      ],
      "metadata": {
        "id": "U6gVfTtfU3Ls"
      }
    },
    {
      "cell_type": "code",
      "source": [
        "import pandas as pd\n",
        "import numpy as np\n",
        "\n",
        "np.random.seed(42)\n",
        "\n",
        "n_users = 1000\n",
        "n_months = 6\n",
        "\n",
        "# Generate user data for version A and version B over three months\n",
        "data = {\n",
        "    'user_id': np.repeat(np.arange(n_users), n_months),\n",
        "    'month': np.tile(np.arange(n_months), n_users),\n",
        "    'version': np.repeat(np.where(np.random.rand(n_users) < 0.5, 'A', 'B'), n_months),\n",
        "    'purchases': np.random.poisson(1, n_users * n_months)\n",
        "}\n",
        "\n",
        "# Create a pandas DataFrame\n",
        "df = pd.DataFrame(data)\n"
      ],
      "metadata": {
        "id": "g5vuChdiSidZ"
      },
      "execution_count": null,
      "outputs": []
    },
    {
      "cell_type": "markdown",
      "source": [
        "Step 2: Fit a linear mixed model to the data\n",
        "Next, we'll fit a linear mixed model (LMM) to the data using the statsmodels library. The LMM will allow us to model the fixed effect of the app version and the random effect of individual users on purchases over time."
      ],
      "metadata": {
        "id": "DniEAjZuVBCl"
      }
    },
    {
      "cell_type": "code",
      "source": [
        "import statsmodels.api as sm\n",
        "import statsmodels.formula.api as smf\n",
        "\n",
        "# Fit the linear mixed model\n",
        "model = smf.mixedlm(\"purchases ~ version * month\", df, groups=df['user_id'], re_formula=\"~month\")\n",
        "result = model.fit()\n",
        "\n",
        "# Print the results\n",
        "print(result.summary())\n"
      ],
      "metadata": {
        "colab": {
          "base_uri": "https://localhost:8080/"
        },
        "id": "-Nh0GGqmVEEU",
        "outputId": "5465b783-a91e-41c2-b2f3-e9711c648221"
      },
      "execution_count": null,
      "outputs": [
        {
          "output_type": "stream",
          "name": "stderr",
          "text": [
            "/usr/local/lib/python3.9/dist-packages/statsmodels/base/model.py:604: ConvergenceWarning:\n",
            "\n",
            "Maximum Likelihood optimization failed to converge. Check mle_retvals\n",
            "\n",
            "/usr/local/lib/python3.9/dist-packages/statsmodels/regression/mixed_linear_model.py:2200: ConvergenceWarning:\n",
            "\n",
            "Retrying MixedLM optimization with lbfgs\n",
            "\n",
            "/usr/local/lib/python3.9/dist-packages/statsmodels/regression/mixed_linear_model.py:2237: ConvergenceWarning:\n",
            "\n",
            "The MLE may be on the boundary of the parameter space.\n",
            "\n"
          ]
        },
        {
          "output_type": "stream",
          "name": "stdout",
          "text": [
            "            Mixed Linear Model Regression Results\n",
            "=============================================================\n",
            "Model:               MixedLM  Dependent Variable:  purchases \n",
            "No. Observations:    6000     Method:              REML      \n",
            "No. Groups:          1000     Scale:               0.9498    \n",
            "Min. group size:     6        Log-Likelihood:      -8373.9947\n",
            "Max. group size:     6        Converged:           Yes       \n",
            "Mean group size:     6.0                                     \n",
            "-------------------------------------------------------------\n",
            "                   Coef.  Std.Err.   z    P>|z| [0.025 0.975]\n",
            "-------------------------------------------------------------\n",
            "Intercept           0.989    0.031 31.456 0.000  0.928  1.051\n",
            "version[T.B]       -0.033    0.045 -0.746 0.456 -0.121  0.054\n",
            "month              -0.002    0.010 -0.175 0.861 -0.022  0.019\n",
            "version[T.B]:month  0.012    0.015  0.825 0.410 -0.017  0.041\n",
            "Group Var           0.000    0.029                           \n",
            "Group x month Cov  -0.000    0.009                           \n",
            "month Var           0.000    0.003                           \n",
            "=============================================================\n",
            "\n"
          ]
        }
      ]
    },
    {
      "cell_type": "markdown",
      "source": [
        "3c. Interpreting the results and making recommendations\n",
        "When interpreting the results of a repeated measures analysis, you should focus on the fixed effects for the app version, time, and their interaction. The interaction term helps you understand how the effect of the app version on user behavior changes over time.\n",
        "\n",
        "If the interaction term is statistically significant, it suggests that the effect of the app version on purchases varies over time. In this case, you might consider implementing the feature that leads to better long-term performance, even if it does not have an immediate impact.\n",
        "\n",
        "If the interaction term is not significant, but the main effect of the app version is significant, it suggests that one version consistently performs better than the other. In this case, you can recommend implementing the better-performing version.\n",
        "\n",
        "If neither the interaction nor the main effect of the app version is significant, you might consider running additional tests, exploring other features, or collecting more data to better understand the long-term impact of different features on user behavior.\n"
      ],
      "metadata": {
        "id": "Vt4Py6KmVGiK"
      }
    },
    {
      "cell_type": "markdown",
      "source": [
        "# Repeated Measures: Tracking User Behavior Over Time\n",
        "\n",
        "In this section, we will explore repeated measures designs, which involve tracking the same users over time to understand the impact of a feature or intervention. This approach can provide valuable insights into user behavior and the long-term effects of different features. We will focus on designing and analyzing repeated measures experiments for the same key metrics: new user activations and purchases by all users."
      ],
      "metadata": {
        "id": "Tu38GU2gf6yA"
      }
    },
    {
      "cell_type": "markdown",
      "source": [
        "## Why use repeated measures and its advantages\n",
        "Repeated measures designs involve collecting data from the same users at multiple time points. This type of experimental design is useful for understanding changes in user behavior over time and assessing the long-term impact of features or interventions. Advantages of repeated measures designs include:\n",
        "\n",
        "Increased statistical power due to reduced within-subject variability\n",
        "The ability to study the effects of time and interactions between time and treatment\n",
        "Reduced sample size requirements compared to between-subject designs\n"
      ],
      "metadata": {
        "id": "Qd9sM-90f9c0"
      }
    },
    {
      "cell_type": "markdown",
      "source": [
        "## Identifying key metrics and measures of interest\n",
        "As with A/B testing, it is important to identify the key metrics and measures of interest before designing a repeated measures experiment. In our case, we are primarily interested in new user activations and purchases by all users. However, other relevant measures may include user engagement, retention, and customer lifetime value."
      ],
      "metadata": {
        "id": "CZ880bVRgBg7"
      }
    },
    {
      "cell_type": "markdown",
      "source": [
        "## Dealing with missing data and attrition\n",
        "One of the challenges with repeated measures designs is handling missing data and attrition, which occur when users drop out of the study or fail to provide data at certain time points. Common strategies for dealing with missing data include:\n",
        "\n",
        "Listwise deletion: Exclude users with missing data from the analysis\n",
        "\n",
        "Imputation: Fill in missing values based on other available information\n",
        "\n",
        "Mixed-effects models: Account for missing data by estimating random effects for each user"
      ],
      "metadata": {
        "id": "U1alguVQgEin"
      }
    },
    {
      "cell_type": "markdown",
      "source": [
        "## Analyzing and interpreting results: mixed-effects models, growth curve modeling\n",
        "To analyze data from repeated measures designs, we can use mixed-effects models or growth curve modeling. These techniques account for the within-subject dependency and allow us to estimate the effects of time, treatment, and their interaction. Key considerations when interpreting the results include:\n",
        "\n",
        "The significance of main effects (time, treatment) and interactions (time x treatment)\n",
        "The size and direction of the effects\n",
        "The variability in user responses to the treatment"
      ],
      "metadata": {
        "id": "ZLgPrftpgIRd"
      }
    },
    {
      "cell_type": "markdown",
      "source": [
        "## Implementation of repeated measures analysis in Python (using pandas and statsmodels)\n",
        "To implement repeated measures analysis in Python, we can use the pandas library for data manipulation and the statsmodels library for mixed-effects models and growth curve modeling. The following code demonstrates how to prepare the data and run a mixed-effects model:\n",
        "\n"
      ],
      "metadata": {
        "id": "Ngwgwh9zgLL2"
      }
    },
    {
      "cell_type": "code",
      "source": [
        "import pandas as pd\n",
        "import statsmodels.api as sm\n",
        "import statsmodels.formula.api as smf\n",
        "\n",
        "# Load the data\n",
        "data = pd.read_csv(\"repeated_measures_data.csv\")\n",
        "\n",
        "# Fit a mixed-effects model\n",
        "model = smf.mixedlm(\"metric ~ time * treatment\", data, groups=data[\"user_id\"], re_formula=\"~time\")\n",
        "result = model.fit()\n",
        "\n",
        "# Print the results\n",
        "print(result.summary())\n"
      ],
      "metadata": {
        "id": "vltwGLkcgOZc"
      },
      "execution_count": null,
      "outputs": []
    },
    {
      "cell_type": "markdown",
      "source": [
        "The output of this mixed-effects model provides insights into the relationships between the metric (dependent variable), time, treatment, and their interaction. Here's a breakdown of how to interpret the results:\n",
        "\n",
        "Fixed effects: In the \"Fixed Effects\" section of the output, you will find the estimated coefficients for the main effects and interaction terms. The coefficients represent the estimated effect of each predictor on the dependent variable, holding all other predictors constant. For example, the time coefficient shows the estimated change in the metric for a one-unit increase in time, while the treatment coefficient shows the estimated difference in the metric between the treatment and control groups. The time:treatment interaction term represents the difference in the effect of time on the metric between the treatment and control groups.\n",
        "\n",
        "Statistical significance: The p-values (labeled P>|z| in the output) indicate the statistical significance of the estimated coefficients. A p-value less than 0.05 (or your chosen significance level) suggests that the corresponding effect is statistically significant, meaning there is strong evidence of an association between the predictor and the dependent variable.\n",
        "\n",
        "Random effects: The \"Random Effects\" section of the output shows the estimated variance components for the random intercepts and slopes (time effects) for each user. These estimates quantify the between-user variability in the metric and its change over time. The Group Var row corresponds to the variance of the random intercepts, while the Group x time RE row corresponds to the variance of the random slopes. The covariance between the random intercepts and slopes is reported in the Group x time row.\n",
        "\n",
        "Model fit statistics: The output also includes several model fit statistics, such as the AIC (Akaike Information Criterion) and BIC (Bayesian Information Criterion). These criteria can be used to compare the fit of different models, with lower values indicating better-fitting models.\n",
        "\n",
        "To interpret the results, focus on the estimated coefficients, their statistical significance, and the random effects estimates. These estimates provide insights into the relationships between the metric, time, treatment, and users, and can help you understand the impact of the treatment on the metric over time, accounting for the repeated measures and individual differences between users."
      ],
      "metadata": {
        "id": "EcKbPfVrgSdr"
      }
    },
    {
      "cell_type": "markdown",
      "source": [
        "# Design requirements and considerations for multi-factorial experiments\n",
        "Identify the factors and their levels: Before setting up a multi-factorial experiment, you need to identify the factors you want to test and the levels for each factor. For instance, you might want to test two factors (e.g., app layout and pricing strategy) with three levels each (e.g., three different layouts and three different pricing strategies).\n",
        "\n",
        "Determine the experimental design: You can choose between a full factorial design, which tests all possible combinations of factor levels, or a fractional factorial design, which tests a subset of the combinations. Full factorial designs provide more information but can require a large number of experimental units.\n",
        "\n",
        "Random assignment and blocking: Just like in A/B testing, it's important to randomly assign users to different conditions in multi-factorial experiments. Additionally, you can use blocking or stratification to control for potential confounding variables, such as user demographics or device type.\n",
        "\n",
        "Sample size and power considerations: Multi-factorial experiments often require larger sample sizes due to the increased number of experimental conditions. You should conduct a power analysis to ensure that your experiment has sufficient power to detect meaningful differences between conditions.\n",
        "\n",
        "Analyzing and interpreting results: In multi-factorial experiments, you need to assess the main effects of each factor and their interactions. You can use statistical techniques like ANOVA or multiple regression to analyze the results. It's important to interpret both main effects and interactions to understand how the factors impact your outcome of interest both individually and in combination."
      ],
      "metadata": {
        "id": "5t3stDge0bS-"
      }
    },
    {
      "cell_type": "markdown",
      "source": [
        "Now let's create a Python script for a multi-factorial experimental design using the narrative. We'll test two factors (app layout and pricing strategy) with three levels each (three different layouts and three different pricing strategies)."
      ],
      "metadata": {
        "id": "cm9NDoHL5RWH"
      }
    },
    {
      "cell_type": "code",
      "source": [
        "import pandas as pd\n",
        "import numpy as np\n",
        "import seaborn as sns\n",
        "import matplotlib.pyplot as plt\n",
        "\n",
        "np.random.seed(42)\n",
        "\n",
        "# Generate user data\n",
        "n_users = 1000\n",
        "\n",
        "users = pd.DataFrame({\n",
        "    'user_id': np.arange(n_users),\n",
        "    'device_type': np.random.choice(['mobile', 'tablet', 'desktop'], n_users),\n",
        "    'age_group': np.random.choice(['18-24', '25-34', '35-44', '45-54'], n_users)\n",
        "})\n",
        "\n",
        "# Define factors and levels\n",
        "factors = {\n",
        "    'layout': ['A', 'B', 'C'],\n",
        "    'pricing': ['low', 'medium', 'high']\n",
        "}\n",
        "\n",
        "# Generate all possible combinations of factor levels\n",
        "conditions = pd.DataFrame(list(np.array(np.meshgrid(*factors.values())).T.reshape(-1, len(factors))),\n",
        "                          columns=factors.keys())\n",
        "\n",
        "# Assign users to conditions randomly\n",
        "users['condition'] = np.random.choice(len(conditions), n_users)\n",
        "\n",
        "# Simulate user purchases based on their assigned condition\n",
        "def simulate_purchases(row):\n",
        "    layout_effect = {'A': 0, 'B': 1, 'C': -1}\n",
        "    pricing_effect = {'low': 2, 'medium': 0, 'high': -2}\n",
        "    \n",
        "    condition = conditions.loc[row['condition']]\n",
        "    base_purchase = 10\n",
        "    purchase = base_purchase + layout_effect[condition['layout']] + pricing_effect[condition['pricing']]\n",
        "\n",
        "    # Add some random noise\n",
        "    purchase += np.random.normal(0, 1)\n",
        "\n",
        "    return max(purchase, 0)\n",
        "\n",
        "users['purchases'] = users.apply(simulate_purchases, axis=1)"
      ],
      "metadata": {
        "id": "2C9SQXtX0x05"
      },
      "execution_count": null,
      "outputs": []
    },
    {
      "cell_type": "code",
      "source": [
        "# Merge user data with experimental conditions\n",
        "data = users.merge(conditions, left_on='condition', right_index=True).drop(columns=['condition'])\n",
        "\n",
        "# Analyzing the results using ANOVA\n",
        "import statsmodels.api as sm\n",
        "import statsmodels.formula.api as smf\n",
        "\n",
        "model = smf.ols(\"purchases ~ layout * pricing + device_type + age_group\", data=data).fit()\n",
        "anova_results = sm.stats.anova_lm(model, typ=2)\n",
        "\n",
        "print(anova_results)"
      ],
      "metadata": {
        "colab": {
          "base_uri": "https://localhost:8080/"
        },
        "id": "862G4xriAf_X",
        "outputId": "556041cf-98e8-4c57-b4b0-9723b058344f"
      },
      "execution_count": null,
      "outputs": [
        {
          "output_type": "stream",
          "name": "stdout",
          "text": [
            "                     sum_sq     df            F         PR(>F)\n",
            "layout           644.053305    2.0   330.152730  1.744547e-110\n",
            "pricing         2610.772952    2.0  1338.326831  1.071428e-281\n",
            "device_type        0.519783    2.0     0.266449   7.661499e-01\n",
            "age_group          1.389341    3.0     0.474800   6.998969e-01\n",
            "layout:pricing     1.735409    4.0     0.444800   7.762492e-01\n",
            "Residual         961.731496  986.0          NaN            NaN\n"
          ]
        }
      ]
    },
    {
      "cell_type": "code",
      "source": [
        "# Visualizing the results\n",
        "sns.set(style=\"whitegrid\")\n",
        "\n",
        "g = sns.catplot(x=\"layout\", y=\"purchases\", hue=\"pricing\", data=data,\n",
        "kind=\"bar\", errorbar=None, height=6, aspect=1.5, legend_out=False)\n",
        "g.set_axis_labels(\"App Layout\", \"Purchases\")\n",
        "plt.title(\"Purchases by App Layout and Pricing Strategy\")\n",
        "plt.legend(title=\"Pricing Strategy\")\n",
        "plt.show()"
      ],
      "metadata": {
        "colab": {
          "base_uri": "https://localhost:8080/",
          "height": 712
        },
        "id": "vgtUIMjBAq9g",
        "outputId": "d8c8830c-92af-4a0b-8f2f-f1577288a837"
      },
      "execution_count": null,
      "outputs": [
        {
          "output_type": "stream",
          "name": "stderr",
          "text": [
            "<ipython-input-4-5233d3d8f6a9>:4: FutureWarning: \n",
            "\n",
            "The `ci` parameter is deprecated. Use `errorbar=None` for the same effect.\n",
            "\n",
            "  g = sns.catplot(x=\"layout\", y=\"purchases\", hue=\"pricing\", data=data,\n"
          ]
        },
        {
          "output_type": "display_data",
          "data": {
            "text/plain": [
              "<Figure size 900x600 with 1 Axes>"
            ],
            "image/png": "[encoded data removed]"
          },
          "metadata": {}
        }
      ]
    },
    {
      "cell_type": "markdown",
      "source": [
        "\n",
        "In this example, we generated data for a multi-factorial experiment with two factors (app layout and pricing strategy) and three levels for each factor. We randomly assigned users to the different conditions and simulated their purchases based on their assigned condition. We then analyzed the results using ANOVA and visualized the interaction between app layout and pricing strategy on purchases.\n",
        "\n",
        "When interpreting the results, you should consider both main effects (layout and pricing) and the interaction term (layout x pricing). If the interaction term is significant, it suggests that the effect of one factor depends on the level of the other factor. In such cases, you should carefully examine the interaction plot\n"
      ],
      "metadata": {
        "id": "mhWX_09GAtyo"
      }
    },
    {
      "cell_type": "markdown",
      "source": [
        "# Testing Features Without a True Control Group\n",
        "\n",
        "In this section, we will explore situations where a true control group is not available or feasible, and how to design and analyze experiments in such cases. As a data scientist at an internet company, you might encounter situations where it's not possible to have a control group or to randomly assign users to treatment and control groups. In these cases, alternative experimental designs and statistical techniques can be employed to estimate the causal effects of features on user behavior."
      ],
      "metadata": {
        "id": "sapsPjoZlbnv"
      }
    },
    {
      "cell_type": "markdown",
      "source": [
        "## Situations where a control group is not available or feasible\n",
        "There are several reasons why a control group might not be available or feasible in an experimental setting:\n",
        "\n",
        "Ethical considerations: In some cases, it might be unethical to withhold a potentially beneficial treatment or intervention from a control group.\n",
        "Practical limitations: There might be logistical, financial, or operational constraints that prevent the formation of a true control group.\n",
        "Universal treatment: If a feature is rolled out to all users simultaneously, there might be no way to establish a control group.\n",
        "In these situations, we must rely on alternative experimental designs and statistical techniques to estimate the causal effects of features on user behavior."
      ],
      "metadata": {
        "id": "7g_B9-P8lfl1"
      }
    },
    {
      "cell_type": "markdown",
      "source": [
        "## Alternative experimental designs\n",
        "When a true control group is not available or feasible, the following alternative experimental designs can be employed:\n",
        "\n",
        "Quasi-experiments: In a quasi-experimental design, subjects are not randomly assigned to treatment and control groups, but the researcher attempts to control for potential confounding factors and biases in the analysis.\n",
        "Interrupted time series: In an interrupted time series design, data is collected at multiple time points before and after an intervention, allowing the researcher to assess the immediate and long-term effects of the intervention while accounting for pre-existing trends.\n",
        "Difference-in-differences: In a difference-in-differences design, the researcher compares the changes in outcomes between a treatment group and a comparison group (which serves as a proxy for the control group) before and after an intervention, estimating the causal effect by assuming that the two groups would have followed parallel trends in the absence of the treatment."
      ],
      "metadata": {
        "id": "tp7hxU-qljbu"
      }
    },
    {
      "cell_type": "markdown",
      "source": [
        "## Analyzing and interpreting results: causal inference and treatment effect estimation\n",
        "In the absence of a true control group, the primary challenge is to establish counterfactuals, or what would have happened in the absence of the treatment. The following statistical techniques can be employed to estimate causal effects and treatment effects in these situations:\n",
        "\n",
        "Propensity score matching: This technique involves estimating the probability of receiving the treatment based on observed characteristics and matching treated subjects with similar untreated subjects, thereby reducing selection bias and confounding.\n",
        "Instrumental variables: An instrumental variable is a variable that is correlated with the treatment assignment but not with the outcome, allowing the researcher to isolate the causal effect of the treatment.\n",
        "Regression discontinuity: In a regression discontinuity design, the treatment is assigned based on a threshold or cutoff value of an observed variable, and the causal effect is estimated by comparing the outcomes just above and below the threshold.\n"
      ],
      "metadata": {
        "id": "PcDpuByjlmrq"
      }
    },
    {
      "cell_type": "markdown",
      "source": [
        "## Implementation of quasi-experimental designs in Python\n",
        "To implement quasi-experimental designs in Python, you can use the pandas library for data manipulation and the causalimpact library for causal inference analysis. The causalimpact library implements Bayesian structural time series models to estimate the causal effect of an intervention in an interrupted time series design.\n",
        "\n",
        "The following code demonstrates how to use the causalimpact library to analyze an interrupted time series dataset:"
      ],
      "metadata": {
        "id": "_DZ6IxLWlqj_"
      }
    },
    {
      "cell_type": "code",
      "source": [
        "import pandas as pd\n",
        "import numpy as np\n",
        "# !pip install causalimpact\n",
        "from causalimpact import CausalImpact\n",
        "\n",
        "# Simulate data for an interrupted time series\n",
        "np.random.seed(42)\n",
        "pre_period = [0, 49]\n",
        "post_period = [50, n-1]\n",
        "time = np.arange(n)\n",
        "treatment_effect = 2\n",
        "data = pd.DataFrame({'time': time, 'y': np.random.normal(size=n)})\n",
        "data.loc[post_period[0]:, 'y'] += treatment_effect\n",
        "\n",
        "# Create a covariate (e.g., a marketing campaign) that is correlated with the treatment\n",
        "data['x'] = data['y'] + np.random.normal(size=n)\n",
        "\n",
        "# Apply the CausalImpact package to estimate the causal effect\n",
        "impact = CausalImpact(data, pre_period, post_period)\n",
        "impact.run()\n",
        "print(impact.summary())\n",
        "\n",
        "# Plot the results\n",
        "impact.plot()"
      ],
      "metadata": {
        "id": "1Myf321TluQS"
      },
      "execution_count": null,
      "outputs": []
    },
    {
      "cell_type": "markdown",
      "source": [
        "# Enhancing Experimental Design: Advanced Techniques\n",
        "\n",
        "In this section, we will explore advanced techniques that can be used to enhance experimental design and improve the efficiency and accuracy of your experiments.\n",
        "\n",
        "a. Factorial designs for testing multiple factors simultaneously\n",
        "\n",
        "Factorial designs allow you to test multiple factors at once by creating multiple treatment groups that represent all possible combinations of the factors. This approach can save resources and time compared to running separate experiments for each factor."
      ],
      "metadata": {
        "id": "QzT1LzJZoC3l"
      }
    },
    {
      "cell_type": "code",
      "source": [
        "import numpy as np\n",
        "import pandas as pd\n",
        "import seaborn as sns\n",
        "import matplotlib.pyplot as plt\n",
        "\n",
        "# Simulate a 2x2 factorial experiment\n",
        "np.random.seed(42)\n",
        "n = 100\n",
        "factor_A = np.random.choice([0, 1], n)\n",
        "factor_B = np.random.choice([0, 1], n)\n",
        "response = 1 + 0.5 * factor_A + 0.7 * factor_B + np.random.normal(size=n)\n",
        "\n",
        "# Create a DataFrame with the results\n",
        "data = pd.DataFrame({\"Factor_A\": factor_A, \"Factor_B\": factor_B, \"Response\": response})\n"
      ],
      "metadata": {
        "id": "SRfL73qkoItJ"
      },
      "execution_count": null,
      "outputs": []
    },
    {
      "cell_type": "markdown",
      "source": [
        "b. Blocking and stratification to reduce variability\n",
        "\n",
        "Blocking and stratification are techniques used to control for extraneous variables that may introduce variability and confound your results. Blocking involves grouping subjects based on a characteristic and running the experiment within each group, while stratification involves ensuring that treatment groups are balanced with respect to the characteristic."
      ],
      "metadata": {
        "id": "nk3ceKeNoILE"
      }
    },
    {
      "cell_type": "code",
      "source": [
        "# Simulate a blocked experiment\n",
        "np.random.seed(42)\n",
        "block_var = np.random.choice([\"A\", \"B\"], n)\n",
        "blocked_data = data.copy()\n",
        "blocked_data[\"Block\"] = block_var\n",
        "blocked_data"
      ],
      "metadata": {
        "id": "6GVgB1TloQEY"
      },
      "execution_count": null,
      "outputs": []
    },
    {
      "cell_type": "markdown",
      "source": [
        "## Sequential testing and multi-armed bandit algorithms for adaptive experimentation\n",
        "\n",
        "Sequential testing and multi-armed bandit algorithms are adaptive experimental designs that allow for early stopping and reallocation of resources during the experiment. These approaches can improve the efficiency of your experiments by directing resources to the most promising treatments."
      ],
      "metadata": {
        "id": "Nq_B-gSWodM2"
      }
    },
    {
      "cell_type": "code",
      "source": [
        "# Simulate a multi-armed bandit experiment (using epsilon-greedy algorithm)\n",
        "from contextlib2 import ExitStack\n",
        "from scipy.stats import bernoulli\n",
        "\n",
        "def epsilon_greedy_bandit(epsilon, arms, rewards):\n",
        "    n_arms = len(arms)\n",
        "    counts = np.zeros(n_arms)\n",
        "    values = np.zeros(n_arms)\n",
        "\n",
        "    with ExitStack() as stack:\n",
        "        for t in range(len(rewards)):\n",
        "            if np.random.random() < epsilon:\n",
        "                a = np.random.randint(n_arms)\n",
        "            else:\n",
        "                a = np.argmax(values)\n",
        "            r = rewards[t, a]\n",
        "            counts[a] += 1\n",
        "            values[a] += (r - values[a]) / counts[a]\n",
        "            stack.enter_context(plt.style.context(\"seaborn-whitegrid\"))\n",
        "            plt.plot(values)\n",
        "            plt.ylabel(\"Value\")\n",
        "            plt.xlabel(\"Time\")\n",
        "            plt.legend(arms, loc=\"best\")\n",
        "            plt.title(\"Multi-armed Bandit Experiment\")\n",
        "            plt.show()\n",
        "\n",
        "# Run the epsilon-greedy algorithm on a simulated dataset\n",
        "arms = [\"A\", \"B\", \"C\"]\n",
        "n_trials = 1000\n",
        "epsilon = 0.1\n",
        "true_probs = [0.9, 0.8, 0.7]\n",
        "rewards = bernoulli.rvs(true_probs, size=(n_trials, len(arms)))\n",
        "epsilon_greedy_bandit(epsilon, arms, rewards)\n"
      ],
      "metadata": {
        "id": "oePO8DEpoh5N"
      },
      "execution_count": null,
      "outputs": []
    },
    {
      "cell_type": "markdown",
      "source": [
        "# Communicating Results and Recommendations\n",
        "\n",
        "In this section, we will discuss the importance of effectively communicating your experimental results and recommendations to product managers and other stakeholders. Clear communication is essential for ensuring that your findings are understood and can inform data-driven decisions.\n",
        "\n",
        "a. Creating clear, concise, and compelling reports\n",
        "\n",
        "When presenting your results, focus on clarity, conciseness, and relevance. Start by summarizing your main findings and explaining their implications for the company. Use simple language and avoid jargon when possible. Organize your report into sections and use headings to make it easy to navigate.\n",
        "\n",
        "b. Data visualization for effective communication\n",
        "\n",
        "Data visualizations can help you communicate complex information more effectively. Choose the right type of chart or plot for your data and ensure that it is clear and easy to understand. Use color, labels, and annotations to highlight important features and trends."
      ],
      "metadata": {
        "id": "IkS8o2diqRK9"
      }
    },
    {
      "cell_type": "code",
      "source": [
        "import numpy as np\n",
        "import pandas as pd\n",
        "import seaborn as sns\n",
        "import matplotlib.pyplot as plt\n",
        "\n",
        "# Create a simple line plot\n",
        "x = np.arange(0, 10, 0.1)\n",
        "y = np.sin(x)\n",
        "plt.plot(x, y)\n",
        "plt.title(\"Simple Line Plot\")\n",
        "plt.xlabel(\"x\")\n",
        "plt.ylabel(\"sin(x)\")\n",
        "plt.show()\n",
        "\n",
        "# Convert Factor_A and Factor_B to categorical variables\n",
        "# blocked_data[\"Factor_A\"] = blocked_data[\"Factor_A\"].astype(\"category\")\n",
        "# blocked_data[\"Factor_B\"] = blocked_data[\"Factor_B\"].astype(\"category\")\n",
        "\n",
        "# Create a bar plot using seaborn\n",
        "sns.barplot(data=data, x=\"Factor_A\", y=\"Response\", hue=\"Factor_B\")\n",
        "plt.title(\"Factorial Design Results\")\n",
        "plt.show()\n",
        "\n"
      ],
      "metadata": {
        "colab": {
          "base_uri": "https://localhost:8080/",
          "height": 927
        },
        "id": "UUbSYSA9qVjY",
        "outputId": "c74940a8-3e03-49a0-86c3-850d651d1dc4"
      },
      "execution_count": null,
      "outputs": [
        {
          "output_type": "display_data",
          "data": {
            "text/plain": [
              "<Figure size 640x480 with 1 Axes>"
            ],
            "image/png": "[encoded data removed]"
          },
          "metadata": {}
        },
        {
          "output_type": "display_data",
          "data": {
            "text/plain": [
              "<Figure size 640x480 with 1 Axes>"
            ],
            "image/png": "[encoded data removed]"
          },
          "metadata": {}
        }
      ]
    },
    {
      "cell_type": "markdown",
      "source": [
        "c. Presenting findings to product managers and other stakeholders\n",
        "\n",
        "When presenting your findings, tailor your message to your audience. Focus on the most relevant information and use visuals to support your points. Be prepared to answer questions and provide additional information if needed. Practice your presentation to ensure a smooth delivery.\n",
        "\n",
        "d. Implementation of data visualization in Python (using matplotlib, seaborn, and plotly)\n",
        "\n",
        "There are several libraries available in Python for creating data visualizations, including matplotlib, seaborn, and plotly. Each library offers different features and styles, so choose the one that best fits your needs."
      ],
      "metadata": {
        "id": "6y32M7YhqriH"
      }
    },
    {
      "cell_type": "code",
      "source": [
        "# Using plotly for interactive visualizations\n",
        "import plotly.express as px\n",
        "\n",
        "# Create an interactive scatter plot\n",
        "fig = px.scatter(data, x=\"Factor_A\", y=\"Response\", color=\"Factor_B\", marginal_y=\"violin\", trendline=\"ols\")\n",
        "fig.show()\n"
      ],
      "metadata": {
        "colab": {
          "base_uri": "https://localhost:8080/",
          "height": 542
        },
        "id": "MZrxP6Slqs6f",
        "outputId": "f51b7d12-6b83-49f7-fdb6-77c176a41f88"
      },
      "execution_count": null,
      "outputs": [
        {
          "output_type": "display_data",
          "data": {
            "text/html": [
              "<html>\n",
              "<head><meta charset=\"utf-8\" /></head>\n",
              "<body>\n",
              "    <div>            <script src=\"https://cdnjs.cloudflare.com/ajax/libs/mathjax/2.7.5/MathJax.js?config=TeX-AMS-MML_SVG\"></script><script type=\"text/javascript\">if (window.MathJax && window.MathJax.Hub && window.MathJax.Hub.Config) {window.MathJax.Hub.Config({SVG: {font: \"STIX-Web\"}});}</script>                <script type=\"text/javascript\">window.PlotlyConfig = {MathJaxConfig: 'local'};</script>\n",
              "        <script src=\"https://cdn.plot.ly/plotly-2.18.2.min.js\"></script>                <div id=\"e0c37f26-0846-48c3-b763-1249a3130c0f\" class=\"plotly-graph-div\" style=\"height:525px; width:100%;\"></div>            <script type=\"text/javascript\">                                    window.PLOTLYENV=window.PLOTLYENV || {};                                    if (document.getElementById(\"e0c37f26-0846-48c3-b763-1249a3130c0f\")) {                    Plotly.newPlot(                        \"e0c37f26-0846-48c3-b763-1249a3130c0f\",                        [{\"hovertemplate\":\"Factor_A=%{x}<br>Response=%{y}<br>Factor_B=%{marker.color}<extra></extra>\",\"legendgroup\":\"\",\"marker\":{\"color\":[0,1,1,1,1,1,1,1,1,0,1,0,1,1,0,1,0,1,1,0,1,0,1,0,0,1,1,0,1,1,1,0,0,0,0,0,0,0,0,0,1,0,1,1,1,0,0,0,0,1,0,0,0,0,0,1,0,1,0,1,0,0,1,1,1,0,1,0,0,1,1,0,0,1,1,1,0,0,0,0,0,0,1,0,0,0,1,0,0,1,0,0,0,0,0,1,1,1,0,0],\"coloraxis\":\"coloraxis\",\"symbol\":\"circle\"},\"mode\":\"markers\",\"name\":\"\",\"orientation\":\"v\",\"showlegend\":false,\"x\":[0,1,0,0,0,1,0,0,0,1,0,0,0,0,1,0,1,1,1,0,1,0,1,1,1,1,1,1,1,1,0,0,1,1,1,0,1,0,0,0,0,0,1,1,1,1,1,0,1,1,0,1,0,1,0,1,1,0,0,0,0,0,0,0,0,1,1,0,1,1,1,1,0,1,0,1,1,1,0,1,0,1,0,1,0,0,1,0,1,1,1,1,1,1,1,1,1,1,1,0],\"xaxis\":\"x\",\"y\":[1.0870470682381712,1.9009926495341327,1.7917607765355021,-0.28756891460089284,1.480328112162488,2.5571125715117464,3.177894044741516,1.1817297817263526,0.8915063971068123,0.9982429564154635,2.6154021177020743,1.3287511096596845,1.1702397962329611,2.213267433113356,1.5970775493480405,2.668644990532889,0.7979469061226476,1.872337853402232,1.8078918468678427,-0.4635149481321186,2.496120277064576,1.2610552721798893,2.205113456642461,1.2654128666248532,0.08462925794958576,1.7793546772346411,1.8572854834732306,0.6977227307783811,2.038714288333991,2.6040508568145384,3.58618590121053,1.174577812831839,1.7575503907227643,1.4255540842338328,-0.4187712152990415,0.9734861245507831,1.5602302099410263,3.463242112485286,0.8076390352188775,1.3015473423336124,1.6652882302947567,-0.16867803761953204,3.3428228145150207,2.9519330326867745,2.991031947043047,0.5906125452052611,2.902794310936099,-0.4018510627922809,2.0868570938002704,4.390455625809979,0.009463674869311656,0.9337022703972281,1.0996513650876412,0.9965243458838008,-0.5506634310661327,2.2685629748060276,0.4376962862738951,2.1735924306351815,0.08057576576619685,3.249934405017539,0.21674670766376292,0.6779384837943244,2.5135172173696696,0.46913568356604474,1.9274599346041295,2.8071427542824283,0.5925167654387726,1.1846338585323042,1.7598827942484236,2.9818228717773105,0.9630492891219182,0.1795433869157237,1.5219415656168978,2.4969846732331864,1.9504928503458765,2.546448209496976,0.8199752784215092,1.7322536971610036,1.2930724732986811,0.7856485819736322,2.865774511144757,1.9738329209117875,0.5086965027973513,2.1565536086338297,0.02531832977267856,1.7870846037424521,3.358595579007404,0.17931768164828954,2.4633761292443217,2.6127809269364985,2.32206015999449,3.396792982653947,1.2546118839971294,0.7462638356425104,0.6104855703744767,1.384189715034562,2.122898290585896,2.541151974816644,1.776690799330019,1.8271832490360238],\"yaxis\":\"y\",\"type\":\"scatter\"},{\"alignmentgroup\":\"True\",\"hovertemplate\":\"Response=%{y}<extra></extra>\",\"legendgroup\":\"\",\"marker\":{\"color\":\"#0d0887\",\"symbol\":\"circle\"},\"name\":\"\",\"offsetgroup\":\"\",\"scalegroup\":\"y\",\"showlegend\":false,\"xaxis\":\"x2\",\"y\":[1.0870470682381712,1.9009926495341327,1.7917607765355021,-0.28756891460089284,1.480328112162488,2.5571125715117464,3.177894044741516,1.1817297817263526,0.8915063971068123,0.9982429564154635,2.6154021177020743,1.3287511096596845,1.1702397962329611,2.213267433113356,1.5970775493480405,2.668644990532889,0.7979469061226476,1.872337853402232,1.8078918468678427,-0.4635149481321186,2.496120277064576,1.2610552721798893,2.205113456642461,1.2654128666248532,0.08462925794958576,1.7793546772346411,1.8572854834732306,0.6977227307783811,2.038714288333991,2.6040508568145384,3.58618590121053,1.174577812831839,1.7575503907227643,1.4255540842338328,-0.4187712152990415,0.9734861245507831,1.5602302099410263,3.463242112485286,0.8076390352188775,1.3015473423336124,1.6652882302947567,-0.16867803761953204,3.3428228145150207,2.9519330326867745,2.991031947043047,0.5906125452052611,2.902794310936099,-0.4018510627922809,2.0868570938002704,4.390455625809979,0.009463674869311656,0.9337022703972281,1.0996513650876412,0.9965243458838008,-0.5506634310661327,2.2685629748060276,0.4376962862738951,2.1735924306351815,0.08057576576619685,3.249934405017539,0.21674670766376292,0.6779384837943244,2.5135172173696696,0.46913568356604474,1.9274599346041295,2.8071427542824283,0.5925167654387726,1.1846338585323042,1.7598827942484236,2.9818228717773105,0.9630492891219182,0.1795433869157237,1.5219415656168978,2.4969846732331864,1.9504928503458765,2.546448209496976,0.8199752784215092,1.7322536971610036,1.2930724732986811,0.7856485819736322,2.865774511144757,1.9738329209117875,0.5086965027973513,2.1565536086338297,0.02531832977267856,1.7870846037424521,3.358595579007404,0.17931768164828954,2.4633761292443217,2.6127809269364985,2.32206015999449,3.396792982653947,1.2546118839971294,0.7462638356425104,0.6104855703744767,1.384189715034562,2.122898290585896,2.541151974816644,1.776690799330019,1.8271832490360238],\"yaxis\":\"y2\",\"type\":\"violin\"},{\"hovertemplate\":\"<b>OLS trendline</b><br>Response = 0.49901 * Factor_A + 1.30747<br>R<sup>2</sup>=0.055971<br><br>Factor_A=%{x}<br>Response=%{y} <b>(trend)</b><extra></extra>\",\"legendgroup\":\"\",\"marker\":{\"symbol\":\"circle\"},\"mode\":\"lines\",\"name\":\"\",\"showlegend\":false,\"x\":[0,0,0,0,0,0,0,0,0,0,0,0,0,0,0,0,0,0,0,0,0,0,0,0,0,0,0,0,0,0,0,0,0,0,0,0,0,0,0,0,0,0,0,0,1,1,1,1,1,1,1,1,1,1,1,1,1,1,1,1,1,1,1,1,1,1,1,1,1,1,1,1,1,1,1,1,1,1,1,1,1,1,1,1,1,1,1,1,1,1,1,1,1,1,1,1,1,1,1,1],\"xaxis\":\"x\",\"y\":[1.307473826339899,1.307473826339899,1.307473826339899,1.307473826339899,1.307473826339899,1.307473826339899,1.307473826339899,1.307473826339899,1.307473826339899,1.307473826339899,1.307473826339899,1.307473826339899,1.307473826339899,1.307473826339899,1.307473826339899,1.307473826339899,1.307473826339899,1.307473826339899,1.307473826339899,1.307473826339899,1.307473826339899,1.307473826339899,1.307473826339899,1.307473826339899,1.307473826339899,1.307473826339899,1.307473826339899,1.307473826339899,1.307473826339899,1.307473826339899,1.307473826339899,1.307473826339899,1.307473826339899,1.307473826339899,1.307473826339899,1.307473826339899,1.307473826339899,1.307473826339899,1.307473826339899,1.307473826339899,1.307473826339899,1.307473826339899,1.307473826339899,1.307473826339899,1.806484207576942,1.806484207576942,1.806484207576942,1.806484207576942,1.806484207576942,1.806484207576942,1.806484207576942,1.806484207576942,1.806484207576942,1.806484207576942,1.806484207576942,1.806484207576942,1.806484207576942,1.806484207576942,1.806484207576942,1.806484207576942,1.806484207576942,1.806484207576942,1.806484207576942,1.806484207576942,1.806484207576942,1.806484207576942,1.806484207576942,1.806484207576942,1.806484207576942,1.806484207576942,1.806484207576942,1.806484207576942,1.806484207576942,1.806484207576942,1.806484207576942,1.806484207576942,1.806484207576942,1.806484207576942,1.806484207576942,1.806484207576942,1.806484207576942,1.806484207576942,1.806484207576942,1.806484207576942,1.806484207576942,1.806484207576942,1.806484207576942,1.806484207576942,1.806484207576942,1.806484207576942,1.806484207576942,1.806484207576942,1.806484207576942,1.806484207576942,1.806484207576942,1.806484207576942,1.806484207576942,1.806484207576942,1.806484207576942,1.806484207576942],\"yaxis\":\"y\",\"type\":\"scatter\"}],                        {\"template\":{\"data\":{\"histogram2dcontour\":[{\"type\":\"histogram2dcontour\",\"colorbar\":{\"outlinewidth\":0,\"ticks\":\"\"},\"colorscale\":[[0.0,\"#0d0887\"],[0.1111111111111111,\"#46039f\"],[0.2222222222222222,\"#7201a8\"],[0.3333333333333333,\"#9c179e\"],[0.4444444444444444,\"#bd3786\"],[0.5555555555555556,\"#d8576b\"],[0.6666666666666666,\"#ed7953\"],[0.7777777777777778,\"#fb9f3a\"],[0.8888888888888888,\"#fdca26\"],[1.0,\"#f0f921\"]]}],\"choropleth\":[{\"type\":\"choropleth\",\"colorbar\":{\"outlinewidth\":0,\"ticks\":\"\"}}],\"histogram2d\":[{\"type\":\"histogram2d\",\"colorbar\":{\"outlinewidth\":0,\"ticks\":\"\"},\"colorscale\":[[0.0,\"#0d0887\"],[0.1111111111111111,\"#46039f\"],[0.2222222222222222,\"#7201a8\"],[0.3333333333333333,\"#9c179e\"],[0.4444444444444444,\"#bd3786\"],[0.5555555555555556,\"#d8576b\"],[0.6666666666666666,\"#ed7953\"],[0.7777777777777778,\"#fb9f3a\"],[0.8888888888888888,\"#fdca26\"],[1.0,\"#f0f921\"]]}],\"heatmap\":[{\"type\":\"heatmap\",\"colorbar\":{\"outlinewidth\":0,\"ticks\":\"\"},\"colorscale\":[[0.0,\"#0d0887\"],[0.1111111111111111,\"#46039f\"],[0.2222222222222222,\"#7201a8\"],[0.3333333333333333,\"#9c179e\"],[0.4444444444444444,\"#bd3786\"],[0.5555555555555556,\"#d8576b\"],[0.6666666666666666,\"#ed7953\"],[0.7777777777777778,\"#fb9f3a\"],[0.8888888888888888,\"#fdca26\"],[1.0,\"#f0f921\"]]}],\"heatmapgl\":[{\"type\":\"heatmapgl\",\"colorbar\":{\"outlinewidth\":0,\"ticks\":\"\"},\"colorscale\":[[0.0,\"#0d0887\"],[0.1111111111111111,\"#46039f\"],[0.2222222222222222,\"#7201a8\"],[0.3333333333333333,\"#9c179e\"],[0.4444444444444444,\"#bd3786\"],[0.5555555555555556,\"#d8576b\"],[0.6666666666666666,\"#ed7953\"],[0.7777777777777778,\"#fb9f3a\"],[0.8888888888888888,\"#fdca26\"],[1.0,\"#f0f921\"]]}],\"contourcarpet\":[{\"type\":\"contourcarpet\",\"colorbar\":{\"outlinewidth\":0,\"ticks\":\"\"}}],\"contour\":[{\"type\":\"contour\",\"colorbar\":{\"outlinewidth\":0,\"ticks\":\"\"},\"colorscale\":[[0.0,\"#0d0887\"],[0.1111111111111111,\"#46039f\"],[0.2222222222222222,\"#7201a8\"],[0.3333333333333333,\"#9c179e\"],[0.4444444444444444,\"#bd3786\"],[0.5555555555555556,\"#d8576b\"],[0.6666666666666666,\"#ed7953\"],[0.7777777777777778,\"#fb9f3a\"],[0.8888888888888888,\"#fdca26\"],[1.0,\"#f0f921\"]]}],\"surface\":[{\"type\":\"surface\",\"colorbar\":{\"outlinewidth\":0,\"ticks\":\"\"},\"colorscale\":[[0.0,\"#0d0887\"],[0.1111111111111111,\"#46039f\"],[0.2222222222222222,\"#7201a8\"],[0.3333333333333333,\"#9c179e\"],[0.4444444444444444,\"#bd3786\"],[0.5555555555555556,\"#d8576b\"],[0.6666666666666666,\"#ed7953\"],[0.7777777777777778,\"#fb9f3a\"],[0.8888888888888888,\"#fdca26\"],[1.0,\"#f0f921\"]]}],\"mesh3d\":[{\"type\":\"mesh3d\",\"colorbar\":{\"outlinewidth\":0,\"ticks\":\"\"}}],\"scatter\":[{\"fillpattern\":{\"fillmode\":\"overlay\",\"size\":10,\"solidity\":0.2},\"type\":\"scatter\"}],\"parcoords\":[{\"type\":\"parcoords\",\"line\":{\"colorbar\":{\"outlinewidth\":0,\"ticks\":\"\"}}}],\"scatterpolargl\":[{\"type\":\"scatterpolargl\",\"marker\":{\"colorbar\":{\"outlinewidth\":0,\"ticks\":\"\"}}}],\"bar\":[{\"error_x\":{\"color\":\"#2a3f5f\"},\"error_y\":{\"color\":\"#2a3f5f\"},\"marker\":{\"line\":{\"color\":\"#E5ECF6\",\"width\":0.5},\"pattern\":{\"fillmode\":\"overlay\",\"size\":10,\"solidity\":0.2}},\"type\":\"bar\"}],\"scattergeo\":[{\"type\":\"scattergeo\",\"marker\":{\"colorbar\":{\"outlinewidth\":0,\"ticks\":\"\"}}}],\"scatterpolar\":[{\"type\":\"scatterpolar\",\"marker\":{\"colorbar\":{\"outlinewidth\":0,\"ticks\":\"\"}}}],\"histogram\":[{\"marker\":{\"pattern\":{\"fillmode\":\"overlay\",\"size\":10,\"solidity\":0.2}},\"type\":\"histogram\"}],\"scattergl\":[{\"type\":\"scattergl\",\"marker\":{\"colorbar\":{\"outlinewidth\":0,\"ticks\":\"\"}}}],\"scatter3d\":[{\"type\":\"scatter3d\",\"line\":{\"colorbar\":{\"outlinewidth\":0,\"ticks\":\"\"}},\"marker\":{\"colorbar\":{\"outlinewidth\":0,\"ticks\":\"\"}}}],\"scattermapbox\":[{\"type\":\"scattermapbox\",\"marker\":{\"colorbar\":{\"outlinewidth\":0,\"ticks\":\"\"}}}],\"scatterternary\":[{\"type\":\"scatterternary\",\"marker\":{\"colorbar\":{\"outlinewidth\":0,\"ticks\":\"\"}}}],\"scattercarpet\":[{\"type\":\"scattercarpet\",\"marker\":{\"colorbar\":{\"outlinewidth\":0,\"ticks\":\"\"}}}],\"carpet\":[{\"aaxis\":{\"endlinecolor\":\"#2a3f5f\",\"gridcolor\":\"white\",\"linecolor\":\"white\",\"minorgridcolor\":\"white\",\"startlinecolor\":\"#2a3f5f\"},\"baxis\":{\"endlinecolor\":\"#2a3f5f\",\"gridcolor\":\"white\",\"linecolor\":\"white\",\"minorgridcolor\":\"white\",\"startlinecolor\":\"#2a3f5f\"},\"type\":\"carpet\"}],\"table\":[{\"cells\":{\"fill\":{\"color\":\"#EBF0F8\"},\"line\":{\"color\":\"white\"}},\"header\":{\"fill\":{\"color\":\"#C8D4E3\"},\"line\":{\"color\":\"white\"}},\"type\":\"table\"}],\"barpolar\":[{\"marker\":{\"line\":{\"color\":\"#E5ECF6\",\"width\":0.5},\"pattern\":{\"fillmode\":\"overlay\",\"size\":10,\"solidity\":0.2}},\"type\":\"barpolar\"}],\"pie\":[{\"automargin\":true,\"type\":\"pie\"}]},\"layout\":{\"autotypenumbers\":\"strict\",\"colorway\":[\"#636efa\",\"#EF553B\",\"#00cc96\",\"#ab63fa\",\"#FFA15A\",\"#19d3f3\",\"#FF6692\",\"#B6E880\",\"#FF97FF\",\"#FECB52\"],\"font\":{\"color\":\"#2a3f5f\"},\"hovermode\":\"closest\",\"hoverlabel\":{\"align\":\"left\"},\"paper_bgcolor\":\"white\",\"plot_bgcolor\":\"#E5ECF6\",\"polar\":{\"bgcolor\":\"#E5ECF6\",\"angularaxis\":{\"gridcolor\":\"white\",\"linecolor\":\"white\",\"ticks\":\"\"},\"radialaxis\":{\"gridcolor\":\"white\",\"linecolor\":\"white\",\"ticks\":\"\"}},\"ternary\":{\"bgcolor\":\"#E5ECF6\",\"aaxis\":{\"gridcolor\":\"white\",\"linecolor\":\"white\",\"ticks\":\"\"},\"baxis\":{\"gridcolor\":\"white\",\"linecolor\":\"white\",\"ticks\":\"\"},\"caxis\":{\"gridcolor\":\"white\",\"linecolor\":\"white\",\"ticks\":\"\"}},\"coloraxis\":{\"colorbar\":{\"outlinewidth\":0,\"ticks\":\"\"}},\"colorscale\":{\"sequential\":[[0.0,\"#0d0887\"],[0.1111111111111111,\"#46039f\"],[0.2222222222222222,\"#7201a8\"],[0.3333333333333333,\"#9c179e\"],[0.4444444444444444,\"#bd3786\"],[0.5555555555555556,\"#d8576b\"],[0.6666666666666666,\"#ed7953\"],[0.7777777777777778,\"#fb9f3a\"],[0.8888888888888888,\"#fdca26\"],[1.0,\"#f0f921\"]],\"sequentialminus\":[[0.0,\"#0d0887\"],[0.1111111111111111,\"#46039f\"],[0.2222222222222222,\"#7201a8\"],[0.3333333333333333,\"#9c179e\"],[0.4444444444444444,\"#bd3786\"],[0.5555555555555556,\"#d8576b\"],[0.6666666666666666,\"#ed7953\"],[0.7777777777777778,\"#fb9f3a\"],[0.8888888888888888,\"#fdca26\"],[1.0,\"#f0f921\"]],\"diverging\":[[0,\"#8e0152\"],[0.1,\"#c51b7d\"],[0.2,\"#de77ae\"],[0.3,\"#f1b6da\"],[0.4,\"#fde0ef\"],[0.5,\"#f7f7f7\"],[0.6,\"#e6f5d0\"],[0.7,\"#b8e186\"],[0.8,\"#7fbc41\"],[0.9,\"#4d9221\"],[1,\"#276419\"]]},\"xaxis\":{\"gridcolor\":\"white\",\"linecolor\":\"white\",\"ticks\":\"\",\"title\":{\"standoff\":15},\"zerolinecolor\":\"white\",\"automargin\":true,\"zerolinewidth\":2},\"yaxis\":{\"gridcolor\":\"white\",\"linecolor\":\"white\",\"ticks\":\"\",\"title\":{\"standoff\":15},\"zerolinecolor\":\"white\",\"automargin\":true,\"zerolinewidth\":2},\"scene\":{\"xaxis\":{\"backgroundcolor\":\"#E5ECF6\",\"gridcolor\":\"white\",\"linecolor\":\"white\",\"showbackground\":true,\"ticks\":\"\",\"zerolinecolor\":\"white\",\"gridwidth\":2},\"yaxis\":{\"backgroundcolor\":\"#E5ECF6\",\"gridcolor\":\"white\",\"linecolor\":\"white\",\"showbackground\":true,\"ticks\":\"\",\"zerolinecolor\":\"white\",\"gridwidth\":2},\"zaxis\":{\"backgroundcolor\":\"#E5ECF6\",\"gridcolor\":\"white\",\"linecolor\":\"white\",\"showbackground\":true,\"ticks\":\"\",\"zerolinecolor\":\"white\",\"gridwidth\":2}},\"shapedefaults\":{\"line\":{\"color\":\"#2a3f5f\"}},\"annotationdefaults\":{\"arrowcolor\":\"#2a3f5f\",\"arrowhead\":0,\"arrowwidth\":1},\"geo\":{\"bgcolor\":\"white\",\"landcolor\":\"#E5ECF6\",\"subunitcolor\":\"white\",\"showland\":true,\"showlakes\":true,\"lakecolor\":\"white\"},\"title\":{\"x\":0.05},\"mapbox\":{\"style\":\"light\"}}},\"xaxis\":{\"anchor\":\"y\",\"domain\":[0.0,0.7363],\"title\":{\"text\":\"Factor_A\"}},\"yaxis\":{\"anchor\":\"x\",\"domain\":[0.0,1.0],\"title\":{\"text\":\"Response\"}},\"xaxis2\":{\"anchor\":\"y2\",\"domain\":[0.7413,1.0],\"matches\":\"x2\",\"showticklabels\":false,\"showline\":false,\"ticks\":\"\",\"showgrid\":false},\"yaxis2\":{\"anchor\":\"x2\",\"domain\":[0.0,1.0],\"matches\":\"y\",\"showticklabels\":false,\"showgrid\":true},\"coloraxis\":{\"colorbar\":{\"title\":{\"text\":\"Factor_B\"}},\"colorscale\":[[0.0,\"#0d0887\"],[0.1111111111111111,\"#46039f\"],[0.2222222222222222,\"#7201a8\"],[0.3333333333333333,\"#9c179e\"],[0.4444444444444444,\"#bd3786\"],[0.5555555555555556,\"#d8576b\"],[0.6666666666666666,\"#ed7953\"],[0.7777777777777778,\"#fb9f3a\"],[0.8888888888888888,\"#fdca26\"],[1.0,\"#f0f921\"]]},\"legend\":{\"tracegroupgap\":0},\"margin\":{\"t\":60}},                        {\"responsive\": true}                    ).then(function(){\n",
              "                            \n",
              "var gd = document.getElementById('e0c37f26-0846-48c3-b763-1249a3130c0f');\n",
              "var x = new MutationObserver(function (mutations, observer) {{\n",
              "        var display = window.getComputedStyle(gd).display;\n",
              "        if (!display || display === 'none') {{\n",
              "            console.log([gd, 'removed!']);\n",
              "            Plotly.purge(gd);\n",
              "            observer.disconnect();\n",
              "        }}\n",
              "}});\n",
              "\n",
              "// Listen for the removal of the full notebook cells\n",
              "var notebookContainer = gd.closest('#notebook-container');\n",
              "if (notebookContainer) {{\n",
              "    x.observe(notebookContainer, {childList: true});\n",
              "}}\n",
              "\n",
              "// Listen for the clearing of the current output cell\n",
              "var outputEl = gd.closest('.output');\n",
              "if (outputEl) {{\n",
              "    x.observe(outputEl, {childList: true});\n",
              "}}\n",
              "\n",
              "                        })                };                            </script>        </div>\n",
              "</body>\n",
              "</html>"
            ]
          },
          "metadata": {}
        }
      ]
    },
    {
      "cell_type": "markdown",
      "source": [
        "# Case Study:\n",
        "\n",
        "You are a data scientist at a company that develops mobile gaming apps. Your company recently launched a new game called \"QuestMaster\" which has gained a significant user base. However, the product manager has noticed that user retention rates have been declining over time. The company wants to improve user retention and has identified two possible strategies:\n",
        "\n",
        "Introduce a daily reward system where users can earn in-game currency by logging in every day.\n",
        "Implement a social feature that allows users to invite friends, chat with them, and compete in leaderboards.\n",
        "The company wants to test the effectiveness of these strategies in improving user retention. As a data scientist, your task is to design and analyze an experiment that will help the company decide which strategy to implement.\n",
        "\n",
        "Questions for students to answer:\n",
        "\n",
        "What type of experimental design would you recommend for this case study, and why?\n",
        "How would you define the treatment and control groups for each strategy?\n",
        "\n",
        "What are the key metrics you will use to measure the effectiveness of each strategy?\n",
        "\n",
        "How would you ensure that users are randomly assigned to treatment and control groups?\n",
        "\n",
        "What sample size would you recommend for each strategy, and why?\n",
        "How long should the experiment run to obtain reliable results?\n",
        "How would you analyze the results of the experiment to draw conclusions about the effectiveness of each strategy?\n",
        "\n",
        "What potential biases or confounding factors should be considered when interpreting the results, and how can you mitigate them?"
      ],
      "metadata": {
        "id": "dIsn80ncDrZr"
      }
    },
    {
      "cell_type": "code",
      "source": [
        "import pandas as pd\n",
        "import numpy as np\n",
        "\n",
        "# Set the seed for reproducibility\n",
        "np.random.seed(42)\n",
        "\n",
        "# Number of users and days\n",
        "num_users = 100000\n",
        "num_days = 30\n",
        "\n",
        "# Generate user IDs\n",
        "user_ids = np.arange(1, num_users + 1)\n",
        "\n",
        "# Generate daily login data for control group (no intervention)\n",
        "control_logins = np.random.randint(0, 2, size=(num_users, num_days))\n",
        "\n",
        "# Generate daily login data for daily reward group\n",
        "reward_logins = np.random.randint(0, 3, size=(num_users, num_days))\n",
        "reward_logins[reward_logins == 2] = 1\n",
        "\n",
        "# Generate daily login data for social feature group\n",
        "social_logins = np.random.randint(0, 4, size=(num_users, num_days))\n",
        "social_logins[social_logins >= 2] = 1\n",
        "\n",
        "# Combine data into a single DataFrame\n",
        "data = []\n",
        "for i in range(num_users):\n",
        "    for j in range(num_days):\n",
        "        data.append(\n",
        "            {\n",
        "                \"user_id\": user_ids[i],\n",
        "                \"day\": j + 1,\n",
        "                \"control\": control_logins[i, j],\n",
        "                \"reward\": reward_logins[i, j],\n",
        "                \"social\": social_logins[i, j],\n",
        "            }\n",
        "        )\n",
        "\n",
        "sample_data = pd.DataFrame(data)\n",
        "\n",
        "# Save the sample data to a CSV file\n",
        "sample_data.to_csv(\"questmaster_experiment_data.csv\")\n"
      ],
      "metadata": {
        "id": "LwSvlIXhD-LP"
      },
      "execution_count": null,
      "outputs": []
    },
    {
      "cell_type": "markdown",
      "source": [
        "## Summary and Conclusion\n",
        "\n",
        "a. Recap of experimental design concepts for an internet company\n",
        "\n",
        "\n",
        "In this course, we have covered the following experimental design concepts tailored for an internet company with a focus on new user activations and purchases:\n",
        "\n",
        "\n",
        "Introduction to experimental design: We discussed the importance of experimental design in data science and its basic principles, including randomization, blocking, and replication.\n",
        "\n",
        "\n",
        "Designing controlled experiments: We covered A/B testing, factorial designs, and Latin square designs, along with their implementation in Python using the statsmodels library.\n",
        "\n",
        "\n",
        "Repeated measures: We explored tracking user behavior over time, dealing with missing data and attrition, and implementing mixed-effects models in Python with statsmodels.\n",
        "\n",
        "\n",
        "Testing features without a true control group: We examined alternative experimental designs such as quasi-experiments, interrupted time series, and difference-in-differences, and implemented them in Python using the causalimpact library.\n",
        "\n",
        "\n",
        "Enhancing experimental design: We learned about advanced techniques such as factorial designs, blocking and stratification, sequential testing, and multi-armed bandit algorithms, and implemented them using Python libraries like pandas, scipy.stats, and contextlib2.\n",
        "\n",
        "\n",
        "Communicating results and recommendations: We discussed the importance of clear communication, effective data visualization, and presenting findings to stakeholders. We also demonstrated data visualization techniques in Python using matplotlib, seaborn, and plotly.\n",
        "\n"
      ],
      "metadata": {
        "id": "AskTBK9BsSK-"
      }
    },
    {
      "cell_type": "markdown",
      "source": [
        "## Real-world applications and case studies\n",
        "\n",
        "The experimental design concepts covered in this course have real-world applications in various industries, including technology, marketing, healthcare, and finance. Companies like Google, Facebook, and Amazon routinely use experimental designs to test new features, optimize user experience, and inform data-driven decision-making. By understanding and applying these concepts, you will be better equipped to contribute to your organization's success as a data scientist.\n",
        "\n",
        "## Future directions and further resources\n",
        "\n",
        "To further your knowledge of experimental design, consider exploring the following topics and resources:\n",
        "\n",
        "Advanced statistical methods for experimental data analysis, such as Bayesian statistics, machine learning techniques, and causal inference methods.\n",
        "Additional experimental designs and methodologies, such as response surface methodology, optimal designs, and adaptive designs.\n",
        "Books and online courses on experimental design and data analysis, such as \"Design and Analysis of Experiments\" by Douglas C. Montgomery and Coursera's \"Design of Experiments for Engineers and Scientists\" course.\n",
        "In conclusion, a strong foundation in experimental design is crucial for data scientists working in the dynamic and data-driven environment of an internet company. By mastering the concepts and techniques covered in this course, you will be well-prepared to design and analyze experiments, optimize features, and communicate your findings to inform decision-making at your organization."
      ],
      "metadata": {
        "id": "BQGfSkHVsl70"
      }
    }
  ]
}