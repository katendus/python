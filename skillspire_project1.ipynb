{
  "nbformat": 4,
  "nbformat_minor": 0,
  "metadata": {
    "colab": {
      "provenance": [],
      "collapsed_sections": [
        "qiyJIA5uur3H"
      ],
      "authorship_tag": "ABX9TyMC6QYzZN1e3zFELyiTaK/N",
      "include_colab_link": true
    },
    "kernelspec": {
      "name": "python3",
      "display_name": "Python 3"
    },
    "language_info": {
      "name": "python"
    }
  },
  "cells": [
    {
      "cell_type": "markdown",
      "metadata": {
        "id": "view-in-github",
        "colab_type": "text"
      },
      "source": [
        "<a href=\"https://colab.research.google.com/github/SSSpock/skillspire/blob/main/skillspire_project1.ipynb\" target=\"_parent\"><img src=\"https://colab.research.google.com/assets/colab-badge.svg\" alt=\"Open In Colab\"/></a>"
      ]
    },
    {
      "cell_type": "markdown",
      "source": [
        "# Instructor Only"
      ],
      "metadata": {
        "id": "qiyJIA5uur3H"
      }
    },
    {
      "cell_type": "code",
      "source": [
        "import pandas as pd\n",
        "import numpy as np\n",
        "import random\n",
        "from datetime import date\n",
        "from datetime import datetime\n",
        "from dateutil.relativedelta import relativedelta\n",
        "\n",
        "!pip install faker\n",
        "import faker"
      ],
      "metadata": {
        "colab": {
          "base_uri": "https://localhost:8080/"
        },
        "id": "6n1A4X-DvFzk",
        "outputId": "cacfeb8a-2151-41b9-c16d-84b93918a523"
      },
      "execution_count": null,
      "outputs": [
        {
          "output_type": "stream",
          "name": "stdout",
          "text": [
            "Looking in indexes: https://pypi.org/simple, https://us-python.pkg.dev/colab-wheels/public/simple/\n",
            "Collecting faker\n",
            "  Downloading Faker-17.6.0-py3-none-any.whl (1.7 MB)\n",
            "\u001b[2K     \u001b[90m━━━━━━━━━━━━━━━━━━━━━━━━━━━━━━━━━━━━━━━━\u001b[0m \u001b[32m1.7/1.7 MB\u001b[0m \u001b[31m19.5 MB/s\u001b[0m eta \u001b[36m0:00:00\u001b[0m\n",
            "\u001b[?25hRequirement already satisfied: python-dateutil>=2.4 in /usr/local/lib/python3.9/dist-packages (from faker) (2.8.2)\n",
            "Requirement already satisfied: six>=1.5 in /usr/local/lib/python3.9/dist-packages (from python-dateutil>=2.4->faker) (1.15.0)\n",
            "Installing collected packages: faker\n",
            "Successfully installed faker-17.6.0\n"
          ]
        }
      ]
    },
    {
      "cell_type": "code",
      "execution_count": null,
      "metadata": {
        "colab": {
          "base_uri": "https://localhost:8080/",
          "height": 340
        },
        "id": "bnfqjq92uK03",
        "outputId": "8860d1f7-6827-4293-fecd-b4b7dd9770bd"
      },
      "outputs": [
        {
          "output_type": "execute_result",
          "data": {
            "text/plain": [
              "   customer_id  gender first_name last_name  \\\n",
              "0         1715  Female      Karen   Morales   \n",
              "1        13344  Female      Katie    Wilson   \n",
              "2         1250  Female       Kara    Butler   \n",
              "3        18426  Female     Cassie  Marshall   \n",
              "4         1700    Male       John     Cline   \n",
              "\n",
              "                               email   birthdate creation_date  \\\n",
              "0          Karen.Morales@collins.biz  1985-04-25    2021-08-17   \n",
              "1    Katie.Wilson@dawson-bradley.biz  1982-02-15    2021-09-30   \n",
              "2             Kara.Butler@frank.info  1958-02-18    2022-02-22   \n",
              "3  Cassie.Marshall@evans-watkins.com  1968-07-18    2021-05-31   \n",
              "4      John.Cline@rodriguez-bell.biz  1974-03-08    2022-10-15   \n",
              "\n",
              "  last_purchase_date               city  \n",
              "0               None      South Shannon  \n",
              "1               None      South Shannon  \n",
              "2               None         New Annton  \n",
              "3               None  North Ericchester  \n",
              "4               None        Carriehaven  "
            ],
            "text/html": [
              "\n",
              "  <div id=\"df-0eec1490-6f79-4bb5-8a40-532493f464ed\">\n",
              "    <div class=\"colab-df-container\">\n",
              "      <div>\n",
              "<style scoped>\n",
              "    .dataframe tbody tr th:only-of-type {\n",
              "        vertical-align: middle;\n",
              "    }\n",
              "\n",
              "    .dataframe tbody tr th {\n",
              "        vertical-align: top;\n",
              "    }\n",
              "\n",
              "    .dataframe thead th {\n",
              "        text-align: right;\n",
              "    }\n",
              "</style>\n",
              "<table border=\"1\" class=\"dataframe\">\n",
              "  <thead>\n",
              "    <tr style=\"text-align: right;\">\n",
              "      <th></th>\n",
              "      <th>customer_id</th>\n",
              "      <th>gender</th>\n",
              "      <th>first_name</th>\n",
              "      <th>last_name</th>\n",
              "      <th>email</th>\n",
              "      <th>birthdate</th>\n",
              "      <th>creation_date</th>\n",
              "      <th>last_purchase_date</th>\n",
              "      <th>city</th>\n",
              "    </tr>\n",
              "  </thead>\n",
              "  <tbody>\n",
              "    <tr>\n",
              "      <th>0</th>\n",
              "      <td>1715</td>\n",
              "      <td>Female</td>\n",
              "      <td>Karen</td>\n",
              "      <td>Morales</td>\n",
              "      <td>Karen.Morales@collins.biz</td>\n",
              "      <td>1985-04-25</td>\n",
              "      <td>2021-08-17</td>\n",
              "      <td>None</td>\n",
              "      <td>South Shannon</td>\n",
              "    </tr>\n",
              "    <tr>\n",
              "      <th>1</th>\n",
              "      <td>13344</td>\n",
              "      <td>Female</td>\n",
              "      <td>Katie</td>\n",
              "      <td>Wilson</td>\n",
              "      <td>Katie.Wilson@dawson-bradley.biz</td>\n",
              "      <td>1982-02-15</td>\n",
              "      <td>2021-09-30</td>\n",
              "      <td>None</td>\n",
              "      <td>South Shannon</td>\n",
              "    </tr>\n",
              "    <tr>\n",
              "      <th>2</th>\n",
              "      <td>1250</td>\n",
              "      <td>Female</td>\n",
              "      <td>Kara</td>\n",
              "      <td>Butler</td>\n",
              "      <td>Kara.Butler@frank.info</td>\n",
              "      <td>1958-02-18</td>\n",
              "      <td>2022-02-22</td>\n",
              "      <td>None</td>\n",
              "      <td>New Annton</td>\n",
              "    </tr>\n",
              "    <tr>\n",
              "      <th>3</th>\n",
              "      <td>18426</td>\n",
              "      <td>Female</td>\n",
              "      <td>Cassie</td>\n",
              "      <td>Marshall</td>\n",
              "      <td>Cassie.Marshall@evans-watkins.com</td>\n",
              "      <td>1968-07-18</td>\n",
              "      <td>2021-05-31</td>\n",
              "      <td>None</td>\n",
              "      <td>North Ericchester</td>\n",
              "    </tr>\n",
              "    <tr>\n",
              "      <th>4</th>\n",
              "      <td>1700</td>\n",
              "      <td>Male</td>\n",
              "      <td>John</td>\n",
              "      <td>Cline</td>\n",
              "      <td>John.Cline@rodriguez-bell.biz</td>\n",
              "      <td>1974-03-08</td>\n",
              "      <td>2022-10-15</td>\n",
              "      <td>None</td>\n",
              "      <td>Carriehaven</td>\n",
              "    </tr>\n",
              "  </tbody>\n",
              "</table>\n",
              "</div>\n",
              "      <button class=\"colab-df-convert\" onclick=\"convertToInteractive('df-0eec1490-6f79-4bb5-8a40-532493f464ed')\"\n",
              "              title=\"Convert this dataframe to an interactive table.\"\n",
              "              style=\"display:none;\">\n",
              "        \n",
              "  <svg xmlns=\"http://www.w3.org/2000/svg\" height=\"24px\"viewBox=\"0 0 24 24\"\n",
              "       width=\"24px\">\n",
              "    <path d=\"M0 0h24v24H0V0z\" fill=\"none\"/>\n",
              "    <path d=\"M18.56 5.44l.94 2.06.94-2.06 2.06-.94-2.06-.94-.94-2.06-.94 2.06-2.06.94zm-11 1L8.5 8.5l.94-2.06 2.06-.94-2.06-.94L8.5 2.5l-.94 2.06-2.06.94zm10 10l.94 2.06.94-2.06 2.06-.94-2.06-.94-.94-2.06-.94 2.06-2.06.94z\"/><path d=\"M17.41 7.96l-1.37-1.37c-.4-.4-.92-.59-1.43-.59-.52 0-1.04.2-1.43.59L10.3 9.45l-7.72 7.72c-.78.78-.78 2.05 0 2.83L4 21.41c.39.39.9.59 1.41.59.51 0 1.02-.2 1.41-.59l7.78-7.78 2.81-2.81c.8-.78.8-2.07 0-2.86zM5.41 20L4 18.59l7.72-7.72 1.47 1.35L5.41 20z\"/>\n",
              "  </svg>\n",
              "      </button>\n",
              "      \n",
              "  <style>\n",
              "    .colab-df-container {\n",
              "      display:flex;\n",
              "      flex-wrap:wrap;\n",
              "      gap: 12px;\n",
              "    }\n",
              "\n",
              "    .colab-df-convert {\n",
              "      background-color: #E8F0FE;\n",
              "      border: none;\n",
              "      border-radius: 50%;\n",
              "      cursor: pointer;\n",
              "      display: none;\n",
              "      fill: #1967D2;\n",
              "      height: 32px;\n",
              "      padding: 0 0 0 0;\n",
              "      width: 32px;\n",
              "    }\n",
              "\n",
              "    .colab-df-convert:hover {\n",
              "      background-color: #E2EBFA;\n",
              "      box-shadow: 0px 1px 2px rgba(60, 64, 67, 0.3), 0px 1px 3px 1px rgba(60, 64, 67, 0.15);\n",
              "      fill: #174EA6;\n",
              "    }\n",
              "\n",
              "    [theme=dark] .colab-df-convert {\n",
              "      background-color: #3B4455;\n",
              "      fill: #D2E3FC;\n",
              "    }\n",
              "\n",
              "    [theme=dark] .colab-df-convert:hover {\n",
              "      background-color: #434B5C;\n",
              "      box-shadow: 0px 1px 3px 1px rgba(0, 0, 0, 0.15);\n",
              "      filter: drop-shadow(0px 1px 2px rgba(0, 0, 0, 0.3));\n",
              "      fill: #FFFFFF;\n",
              "    }\n",
              "  </style>\n",
              "\n",
              "      <script>\n",
              "        const buttonEl =\n",
              "          document.querySelector('#df-0eec1490-6f79-4bb5-8a40-532493f464ed button.colab-df-convert');\n",
              "        buttonEl.style.display =\n",
              "          google.colab.kernel.accessAllowed ? 'block' : 'none';\n",
              "\n",
              "        async function convertToInteractive(key) {\n",
              "          const element = document.querySelector('#df-0eec1490-6f79-4bb5-8a40-532493f464ed');\n",
              "          const dataTable =\n",
              "            await google.colab.kernel.invokeFunction('convertToInteractive',\n",
              "                                                     [key], {});\n",
              "          if (!dataTable) return;\n",
              "\n",
              "          const docLinkHtml = 'Like what you see? Visit the ' +\n",
              "            '<a target=\"_blank\" href=https://colab.research.google.com/notebooks/data_table.ipynb>data table notebook</a>'\n",
              "            + ' to learn more about interactive tables.';\n",
              "          element.innerHTML = '';\n",
              "          dataTable['output_type'] = 'display_data';\n",
              "          await google.colab.output.renderOutput(dataTable, element);\n",
              "          const docLink = document.createElement('div');\n",
              "          docLink.innerHTML = docLinkHtml;\n",
              "          element.appendChild(docLink);\n",
              "        }\n",
              "      </script>\n",
              "    </div>\n",
              "  </div>\n",
              "  "
            ]
          },
          "metadata": {},
          "execution_count": 134
        }
      ],
      "source": [
        "# Create Customer Data set\n",
        "\n",
        "# Initialize Faker object\n",
        "fake = faker.Faker()\n",
        "\n",
        "# Set seed for reproducibility\n",
        "random.seed(123)\n",
        "\n",
        "# Set date range for customer creation dates\n",
        "start_date = date.today() + relativedelta(months=-24)\n",
        "\n",
        "# Fake Cities\n",
        "cities = []\n",
        "for _ in range(15):\n",
        "  cities.append(fake.city())\n",
        "\n",
        "# Generate customer information\n",
        "customers = []\n",
        "customer_ids = set()\n",
        "while len(customers) < 500 * 24:\n",
        "  # Generate random customer ID (unique)\n",
        "  customer_id = random.randint(0, 19999)\n",
        "  \n",
        "  while customer_id in customer_ids:\n",
        "    customer_id = random.randint(0, 19999)\n",
        "  \n",
        "  customer_ids.add(customer_id)\n",
        "  \n",
        "  # Generate random gender\n",
        "  gender = random.choice([\"Male\", \"Female\"])\n",
        "\n",
        "  # Generate random first and last name\n",
        "  if gender == \"Male\":\n",
        "      first_name = fake.first_name_male()\n",
        "      last_name = fake.last_name_male()\n",
        "  else:\n",
        "      first_name = fake.first_name_female()\n",
        "      last_name = fake.last_name_female()\n",
        "  \n",
        "  # Generate random email address\n",
        "  email = f\"{first_name}.{last_name}@{fake.domain_name()}\"\n",
        "  \n",
        "  # Generate random birthdate\n",
        "  birthdate = fake.date_of_birth(minimum_age=18, maximum_age=65)\n",
        "  \n",
        "  # Generate random customer creation date\n",
        "  creation_date = fake.date_between(start_date=start_date, end_date=\"today\")\n",
        "\n",
        "  # Generate random last purchase date (Todo)\n",
        "  last_purchase_date = fake.date_between(start_date=start_date, end_date=\"today\")\n",
        "\n",
        "  # Generate City\n",
        "  customer_city = random.choice(cities)\n",
        "\n",
        "  # Append customer information to list\n",
        "  customer_info = {\"customer_id\": customer_id, \"gender\": gender, \"first_name\": first_name, \"last_name\": last_name,\n",
        "                    \"email\": email, \"birthdate\": birthdate, \"creation_date\": creation_date, \"last_purchase_date\": None,\n",
        "                   \"city\":customer_city}\n",
        "  customers.append(customer_info)\n",
        "\n",
        "customer_df = pd.DataFrame(customers)\n",
        "\n",
        "customer_df.head()"
      ]
    },
    {
      "cell_type": "code",
      "source": [
        "# Set seed for reproducibility\n",
        "random.seed(123)\n",
        "\n",
        "# Define product categories and names as dictionary\n",
        "categories = {\n",
        "    \"TVs\": [\n",
        "        \"Samsung 55-Inch 4K UHD Smart TV\",\n",
        "        \"Sony 65-Inch 4K UHD Smart TV\",\n",
        "        \"LG 43-Inch Full HD Smart TV\"\n",
        "    ],\n",
        "    \"Computers\": [\n",
        "        \"Apple MacBook Air 13-Inch Laptop\",\n",
        "        \"Dell XPS 13 Laptop\",\n",
        "        \"HP Pavilion 15-Inch Laptop\"\n",
        "    ],\n",
        "    \"Home Audio\": [\n",
        "        \"Sonos Beam Soundbar\",\n",
        "        \"Bose SoundTouch 300 Soundbar\"\n",
        "    ],\n",
        "    \"Smart Home Devices\": [\n",
        "        \"Amazon Echo Dot (3rd Gen)\",\n",
        "        \"Google Nest Mini\",\n",
        "        \"Ring Video Doorbell\",\n",
        "        \"Nest Hello Video Doorbell\"\n",
        "    ],\n",
        "    \"Phones & Tablets\": [\n",
        "        \"Apple iPhone 12\",\n",
        "        \"Samsung Galaxy S21\",\n",
        "        \"Google Pixel 5\",\n",
        "        \"Apple iPad (8th Gen)\",\n",
        "        \"Samsung Galaxy Tab S7\",\n",
        "        \"Amazon Fire HD 10 Tablet\"\n",
        "    ]\n",
        "}\n",
        "\n",
        "# Generate product information\n",
        "products = []\n",
        "for category, product_names in categories.items():\n",
        "    for product_name in product_names:\n",
        "        # Generate unique 4-digit product ID\n",
        "        product_id = random.randint(1000, 9999)\n",
        "        while product_id in [p[\"product_id\"] for p in products]:\n",
        "            product_id = random.randint(1000, 9999)\n",
        "        \n",
        "        # Generate random gross price and retail price\n",
        "        gross_price = round(random.uniform(50, 1000), 2)\n",
        "        retail_price = round(gross_price * random.uniform(1.1, 1.5), 2)\n",
        "        \n",
        "        # Append product information to list\n",
        "        product_info = {\"product_id\": product_id, \"product_name\": product_name, \"gross_price\": gross_price,\n",
        "                        \"retail_price\": retail_price, \"category\": category}\n",
        "        products.append(product_info)\n",
        "\n",
        "print(products)\n",
        "\n",
        "product_df = pd.DataFrame(products)"
      ],
      "metadata": {
        "colab": {
          "base_uri": "https://localhost:8080/"
        },
        "id": "KHCPFVkv38je",
        "outputId": "b2c67235-1ab3-46c3-97eb-0dc7ce5d4267"
      },
      "execution_count": null,
      "outputs": [
        {
          "output_type": "stream",
          "name": "stdout",
          "text": [
            "[{'product_id': 1857, 'product_name': 'Samsung 55-Inch 4K UHD Smart TV', 'gross_price': 304.29, 'retail_price': 428.31, 'category': 'TVs'}, {'product_id': 5367, 'product_name': 'Sony 65-Inch 4K UHD Smart TV', 'gross_price': 152.32, 'retail_price': 222.46, 'category': 'TVs'}, {'product_id': 1625, 'product_name': 'LG 43-Inch Full HD Smart TV', 'gross_price': 410.17, 'retail_price': 543.45, 'category': 'TVs'}, {'product_id': 6583, 'product_name': 'Apple MacBook Air 13-Inch Laptop', 'gross_price': 859.48, 'retail_price': 1000.32, 'category': 'Computers'}, {'product_id': 6524, 'product_name': 'Dell XPS 13 Laptop', 'gross_price': 582.91, 'retail_price': 804.81, 'category': 'Computers'}, {'product_id': 3683, 'product_name': 'HP Pavilion 15-Inch Laptop', 'gross_price': 51.59, 'retail_price': 65.75, 'category': 'Computers'}, {'product_id': 2435, 'product_name': 'Sonos Beam Soundbar', 'gross_price': 884.7, 'retail_price': 1106.79, 'category': 'Home Audio'}, {'product_id': 1108, 'product_name': 'Bose SoundTouch 300 Soundbar', 'gross_price': 349.69, 'retail_price': 447.37, 'category': 'Home Audio'}, {'product_id': 1719, 'product_name': 'Amazon Echo Dot (3rd Gen)', 'gross_price': 138.13, 'retail_price': 159.8, 'category': 'Smart Home Devices'}, {'product_id': 1347, 'product_name': 'Google Nest Mini', 'gross_price': 327.21, 'retail_price': 416.29, 'category': 'Smart Home Devices'}, {'product_id': 8813, 'product_name': 'Ring Video Doorbell', 'gross_price': 302.06, 'retail_price': 433.5, 'category': 'Smart Home Devices'}, {'product_id': 5998, 'product_name': 'Nest Hello Video Doorbell', 'gross_price': 376.29, 'retail_price': 534.56, 'category': 'Smart Home Devices'}, {'product_id': 4389, 'product_name': 'Apple iPhone 12', 'gross_price': 830.21, 'retail_price': 1125.35, 'category': 'Phones & Tablets'}, {'product_id': 6165, 'product_name': 'Samsung Galaxy S21', 'gross_price': 61.92, 'retail_price': 90.23, 'category': 'Phones & Tablets'}, {'product_id': 9400, 'product_name': 'Google Pixel 5', 'gross_price': 462.67, 'retail_price': 608.6, 'category': 'Phones & Tablets'}, {'product_id': 8964, 'product_name': 'Apple iPad (8th Gen)', 'gross_price': 544.58, 'retail_price': 690.42, 'category': 'Phones & Tablets'}, {'product_id': 9356, 'product_name': 'Samsung Galaxy Tab S7', 'gross_price': 80.25, 'retail_price': 112.48, 'category': 'Phones & Tablets'}, {'product_id': 3973, 'product_name': 'Amazon Fire HD 10 Tablet', 'gross_price': 739.54, 'retail_price': 837.93, 'category': 'Phones & Tablets'}]\n"
          ]
        }
      ]
    },
    {
      "cell_type": "code",
      "source": [
        "# Set seed for reproducibility\n",
        "random.seed(123)\n",
        "\n",
        "# Set popularity probabilities for product categories\n",
        "category_probs = {\n",
        "    \"TVs\": 0.1,\n",
        "    \"Computers\": 0.2,\n",
        "    \"Home Audio\": 0.15,\n",
        "    \"Smart Home Devices\": 0.3,\n",
        "    \"Phones & Tablets\": 0.25\n",
        "}\n",
        "\n",
        "# Generate transaction information\n",
        "transactions = []\n",
        "transaction_id = 10000\n",
        "start_date = date.today() - relativedelta(months=24)\n",
        "end_date = date.today()\n",
        "date_range = pd.date_range(start=start_date, end=end_date, freq=\"D\")\n",
        "for date in date_range:\n",
        "    # Determine number of transactions on this day based on a probability distribution\n",
        "    num_transactions = int(random.normalvariate(200, 50))\n",
        "    if num_transactions < 1:\n",
        "        num_transactions = 1\n",
        "    \n",
        "    # Create a list of customer IDs for this day's transactions (weighted by gender)\n",
        "    customer_ids = []\n",
        "    for customer in customers:\n",
        "        if customer[\"gender\"] == \"Male\":\n",
        "            customer_ids.extend([customer[\"customer_id\"]] * 5)\n",
        "        else:\n",
        "            customer_ids.extend([customer[\"customer_id\"]] * 6)\n",
        "    random.shuffle(customer_ids)\n",
        "    \n",
        "    # Generate transactions for this day\n",
        "    for i in range(num_transactions):\n",
        "        # Generate random transaction ID\n",
        "        transaction_id += 1\n",
        "        transaction_id_str = str(transaction_id).zfill(5)\n",
        "        \n",
        "        # Select a customer ID (with replacement)\n",
        "        customer_id = random.choice(customer_ids)\n",
        "        \n",
        "      # Calculate popularity probabilities for each product\n",
        "        product_probs = [0] * len(products)\n",
        "        for i, product in enumerate(products):\n",
        "            category = product[\"category\"]\n",
        "            num_products_in_category = sum([p[\"category\"] == category for p in products])\n",
        "            product_probs[i] = category_probs[category] / num_products_in_category\n",
        "\n",
        "        # Select a product category (weighted by popularity probability)\n",
        "        category_idx = np.random.choice(len(products), p=product_probs)\n",
        "        category_products = [p for p in products if p[\"category\"] == products[category_idx][\"category\"]]\n",
        "            \n",
        "        # Select number of products purchased in this transaction\n",
        "        num_products = np.random.choice([1, 2, 3], p=[0.7, 0.2, 0.1])\n",
        "          \n",
        "        # Select products purchased (weighted by retail price)\n",
        "        retail_prices = [p[\"retail_price\"] for p in category_products]\n",
        "        \n",
        "        if num_products > len(category_products):\n",
        "          num_products = len(category_products)\n",
        "          product_indices = np.arange(num_products)\n",
        "        else:\n",
        "          product_indices = np.random.choice(len(category_products), size=num_products, replace=False, p=np.array(retail_prices) / sum(retail_prices))\n",
        "        \n",
        "        product_ids = [category_products[i][\"product_id\"] for i in product_indices]\n",
        "        \n",
        "        # Select transaction amount (equal to total retail price of products purchased)\n",
        "        transaction_amount = sum([p[\"retail_price\"] for p in category_products if p[\"product_id\"] in product_ids])\n",
        "        \n",
        "  # Determine transaction seasonality and holidays\n",
        "        month = transaction_date.month\n",
        "        day = transaction_date.day\n",
        "        if month == 12 and day == 25:  # Christmas\n",
        "            transaction_date += pd.Timedelta(days=random.randint(1, 3))\n",
        "        elif month == 11 and day == 26:  # Black Friday\n",
        "            transaction_date += pd.Timedelta(days=random.randint(0, 2))\n",
        "        elif month == 7 and day == 4:  # Fourth of July\n",
        "            transaction_date += pd.Timedelta(days=random.randint(0, 1))\n",
        "        elif month == 5 and day == 31:  # Memorial Day\n",
        "            transaction_date += pd.Timedelta(days=random.randint(0, 1))\n",
        "        else:\n",
        "            pass\n",
        "        \n",
        "        # Check that transaction date is not earlier than customer creation date\n",
        "        creation_date = [c[\"creation_date\"] for c in customers if c[\"customer_id\"] == customer_id][0]\n",
        "        if transaction_date < creation_date:\n",
        "            transaction_date = creation_date\n",
        "        \n",
        "        # Add transaction to list\n",
        "        transaction_info = {\n",
        "            \"transaction_id\": transaction_id_str,\n",
        "            \"transaction_date\": transaction_date,\n",
        "            \"customer_id\": customer_id,\n",
        "            \"product_ids\": product_ids,\n",
        "            \"num_products\": num_products,\n",
        "            \"transaction_amount\": transaction_amount\n",
        "        }\n",
        "        transactions.append(transaction_info)\n",
        "\n",
        "transaction_df = pd.DataFrame(transactions)\n"
      ],
      "metadata": {
        "id": "xoB3x_4EauWv"
      },
      "execution_count": null,
      "outputs": []
    },
    {
      "cell_type": "code",
      "source": [
        "from google.colab import drive\n",
        "drive.mount('drive')"
      ],
      "metadata": {
        "colab": {
          "base_uri": "https://localhost:8080/"
        },
        "id": "_i8MzHOQtiRq",
        "outputId": "6d532426-d9e5-42f0-f038-9e0990bf4041"
      },
      "execution_count": null,
      "outputs": [
        {
          "output_type": "stream",
          "name": "stdout",
          "text": [
            "Mounted at drive\n"
          ]
        }
      ]
    },
    {
      "cell_type": "code",
      "source": [
        "# Export DataFrames\n",
        "transaction_df.to_csv('transactions.csv')\n",
        "product_df.to_csv('products.csv')\n",
        "customer_df.to_csv('customers.csv')\n",
        "\n",
        "# Copy to drive\n",
        "!cp transactions.csv \"drive/My Drive/\"\n",
        "!cp products.csv \"drive/My Drive/\"\n",
        "!cp customers.csv \"drive/My Drive/\""
      ],
      "metadata": {
        "id": "LloPd85HngEm"
      },
      "execution_count": null,
      "outputs": []
    },
    {
      "cell_type": "markdown",
      "source": [
        "# Ecommerce Metric Project"
      ],
      "metadata": {
        "id": "qcbVvEDMzXUm"
      }
    },
    {
      "cell_type": "markdown",
      "source": [
        "In your first project you will act as early career data scientists at a hyper growth ecommerce startup.  The product team has asked you to create a set of metrics that they can use to understand their product funnel performance.  They would also like a high-level summary of which products are performing the best among various groups of customers.\n",
        "\n"
      ],
      "metadata": {
        "id": "_63IlCQ6uOsn"
      }
    },
    {
      "cell_type": "code",
      "source": [
        "# Imports\n",
        "import pandas as pd\n",
        "import io\n",
        "import sqlite3\n",
        "from ast import literal_eval\n",
        "\n",
        "!pip install ipython-sql"
      ],
      "metadata": {
        "id": "mDs0Mw2Tu7hD",
        "colab": {
          "base_uri": "https://localhost:8080/"
        },
        "outputId": "692627d7-60d1-451f-fbf3-e2b8b74abbc3"
      },
      "execution_count": 1,
      "outputs": [
        {
          "output_type": "stream",
          "name": "stdout",
          "text": [
            "Looking in indexes: https://pypi.org/simple, https://us-python.pkg.dev/colab-wheels/public/simple/\n",
            "Requirement already satisfied: ipython-sql in /usr/local/lib/python3.9/dist-packages (0.3.9)\n",
            "Requirement already satisfied: six in /usr/local/lib/python3.9/dist-packages (from ipython-sql) (1.15.0)\n",
            "Requirement already satisfied: prettytable in /usr/local/lib/python3.9/dist-packages (from ipython-sql) (3.6.0)\n",
            "Requirement already satisfied: sqlalchemy>=0.6.7 in /usr/local/lib/python3.9/dist-packages (from ipython-sql) (1.4.46)\n",
            "Requirement already satisfied: sqlparse in /usr/local/lib/python3.9/dist-packages (from ipython-sql) (0.4.3)\n",
            "Requirement already satisfied: ipython>=1.0 in /usr/local/lib/python3.9/dist-packages (from ipython-sql) (7.9.0)\n",
            "Requirement already satisfied: ipython-genutils>=0.1.0 in /usr/local/lib/python3.9/dist-packages (from ipython-sql) (0.2.0)\n",
            "Requirement already satisfied: pexpect in /usr/local/lib/python3.9/dist-packages (from ipython>=1.0->ipython-sql) (4.8.0)\n",
            "Collecting jedi>=0.10\n",
            "  Downloading jedi-0.18.2-py2.py3-none-any.whl (1.6 MB)\n",
            "\u001b[2K     \u001b[90m━━━━━━━━━━━━━━━━━━━━━━━━━━━━━━━━━━━━━━━━\u001b[0m \u001b[32m1.6/1.6 MB\u001b[0m \u001b[31m12.2 MB/s\u001b[0m eta \u001b[36m0:00:00\u001b[0m\n",
            "\u001b[?25hRequirement already satisfied: backcall in /usr/local/lib/python3.9/dist-packages (from ipython>=1.0->ipython-sql) (0.2.0)\n",
            "Requirement already satisfied: decorator in /usr/local/lib/python3.9/dist-packages (from ipython>=1.0->ipython-sql) (4.4.2)\n",
            "Requirement already satisfied: prompt-toolkit<2.1.0,>=2.0.0 in /usr/local/lib/python3.9/dist-packages (from ipython>=1.0->ipython-sql) (2.0.10)\n",
            "Requirement already satisfied: pygments in /usr/local/lib/python3.9/dist-packages (from ipython>=1.0->ipython-sql) (2.6.1)\n",
            "Requirement already satisfied: pickleshare in /usr/local/lib/python3.9/dist-packages (from ipython>=1.0->ipython-sql) (0.7.5)\n",
            "Requirement already satisfied: setuptools>=18.5 in /usr/local/lib/python3.9/dist-packages (from ipython>=1.0->ipython-sql) (63.4.3)\n",
            "Requirement already satisfied: traitlets>=4.2 in /usr/local/lib/python3.9/dist-packages (from ipython>=1.0->ipython-sql) (5.7.1)\n",
            "Requirement already satisfied: greenlet!=0.4.17 in /usr/local/lib/python3.9/dist-packages (from sqlalchemy>=0.6.7->ipython-sql) (2.0.2)\n",
            "Requirement already satisfied: wcwidth in /usr/local/lib/python3.9/dist-packages (from prettytable->ipython-sql) (0.2.6)\n",
            "Requirement already satisfied: parso<0.9.0,>=0.8.0 in /usr/local/lib/python3.9/dist-packages (from jedi>=0.10->ipython>=1.0->ipython-sql) (0.8.3)\n",
            "Requirement already satisfied: ptyprocess>=0.5 in /usr/local/lib/python3.9/dist-packages (from pexpect->ipython>=1.0->ipython-sql) (0.7.0)\n",
            "Installing collected packages: jedi\n",
            "Successfully installed jedi-0.18.2\n"
          ]
        }
      ]
    },
    {
      "cell_type": "code",
      "source": [
        "# customer data\n",
        "url = 'https://raw.githubusercontent.com/SSSpock/skillspire/main/customers.csv'\n",
        "customer_df = pd.read_csv(url, index_col=0)\n",
        "\n",
        "# transactiondata\n",
        "url = 'https://raw.githubusercontent.com/SSSpock/skillspire/main/transactions.csv'\n",
        "transaction_df = pd.read_csv(url, index_col=0)\n",
        "\n",
        "\n",
        "# product data\n",
        "url = 'https://raw.githubusercontent.com/SSSpock/skillspire/main/products.csv'\n",
        "product_df = pd.read_csv(url, index_col=0)"
      ],
      "metadata": {
        "id": "gtzlJS3WVTiK"
      },
      "execution_count": 3,
      "outputs": []
    },
    {
      "cell_type": "code",
      "source": [
        "## Getting the Data\n",
        "\n",
        "#Load the sql module to Python\n",
        "%load_ext sql\n",
        "%sql sqlite:///Run_SQL_Jupyter.db\n",
        "\n",
        "#Use the splite library and create a connection\n",
        "conn = sqlite3.connect(\"Run_SQL_Jupyter.db\")\n",
        "\n",
        "#Add the dataframe df into the sql database\n",
        "transaction_df.to_sql(\"transactions_sql\", conn, if_exists='replace') #<- here people will be the name of the table and cnn is just the variable to hold the connection\n",
        "\n",
        "# Add Customer df to sql\n",
        "customer_df.to_sql(\"customer_sql\", conn, if_exists='replace')\n",
        "\n",
        "# Add product df to sql\n",
        "product_df.to_sql(\"product_sql\", conn, if_exists='replace')"
      ],
      "metadata": {
        "colab": {
          "base_uri": "https://localhost:8080/"
        },
        "id": "_S9YbxXdnsMw",
        "outputId": "c28f0221-4331-4f0d-dfa2-9f2714f96a32"
      },
      "execution_count": 6,
      "outputs": [
        {
          "output_type": "stream",
          "name": "stdout",
          "text": [
            "The sql extension is already loaded. To reload it, use:\n",
            "  %reload_ext sql\n"
          ]
        },
        {
          "output_type": "execute_result",
          "data": {
            "text/plain": [
              "18"
            ]
          },
          "metadata": {},
          "execution_count": 6
        }
      ]
    },
    {
      "cell_type": "markdown",
      "source": [
        "## Task One\n",
        "Your first objective is the use sql to take the raw tables available to you and create two distinct metrics tables.  These tables should show the core business KPI's and outline the drivers that influence them.\n",
        "\n",
        "The first table should be a \"rolling table\" that has each date as the row and the columns as each product.  In the rows should be a count of how many of that product was purchased on that day.  \n",
        "\n",
        "The second table should show customer level engagement and activity.  Create a table at the Month level that shows whether or not a particular customer was active, transacted, or churned, or reactivated."
      ],
      "metadata": {
        "id": "839OQAGsi1Xd"
      }
    },
    {
      "cell_type": "code",
      "source": [
        "#CELL Magic to run SQL Commands in Python\n",
        "%%sql \n",
        "\n",
        "SELECT DISTINCT\n",
        "  STRFTIME(\"%m-%Y\", t.transaction_date) AS transaction_month\n",
        "  , t.customer_id\n",
        "  , CASE WHEN sq.transaction_count > 0 THEN 1 ELSE 0 END AS transacting\n",
        "\n",
        "  , CASE \n",
        "    WHEN sq.transaction_amount BETWEEN 1000 AND 500 THEN '100-500'\n",
        "    WHEN sq.transaction_amount BETWEEN 501 AND 1000 THEN '500-1000'\n",
        "    WHEN sq.transaction_amount BETWEEN 1001 AND 2000 THEN '1K-2K'\n",
        "    WHEN sq.transaction_amount > 200 THEN '>2K' \n",
        "    ELSE NULL END AS transacting_amount\n",
        "FROM transactions_sql AS t\n",
        "\n",
        "JOIN (\n",
        "  SELECT\n",
        "  STRFTIME(\"%m-%Y\", transaction_date) AS transaction_month\n",
        "    , customer_id\n",
        "    , COUNT(DISTINCT transaction_id) AS transaction_count\n",
        "    , SUM(DISTINCT transaction_amount) as transaction_amount\n",
        "  FROM transactions_sql \n",
        "  GROUP BY 1, 2\n",
        ") AS sq\n",
        "\n",
        "ON sq.customer_id = t.customer_id AND sq.transaction_month = STRFTIME(\"%m-%Y\", t.transaction_date)\n",
        "ORDER BY t.customer_id, STRFTIME(\"%m-%Y\", t.transaction_date)\n"
      ],
      "metadata": {
        "id": "7-wQElV6vYcT"
      },
      "execution_count": null,
      "outputs": []
    },
    {
      "cell_type": "code",
      "source": [
        "%%sql\n",
        "\n",
        "SELECT DISTINCT\n",
        "  t.transaction_id\n",
        "  , t.transaction_date\n",
        "  , md.creation_date\n",
        "  , t.customer_id\n",
        "  , t.transaction_amount\n",
        "FROM transactions_sql AS t\n",
        "JOIN \n",
        "(\n",
        "  SELECT\n",
        "    customer_id\n",
        "    , MIN(transaction_date) as creation_date\n",
        "   FROM transactions_sql\n",
        "   GROUP BY 1\n",
        ") md\n",
        "ON t.customer_id = md.customer_id\n",
        "ORDER BY t.customer_id\n"
      ],
      "metadata": {
        "id": "kmPYFwBx64e6"
      },
      "execution_count": null,
      "outputs": []
    },
    {
      "cell_type": "markdown",
      "source": [
        "Metric table one\n",
        "rows are the date and columns are product"
      ],
      "metadata": {
        "id": "bwYMXo9yiahu"
      }
    },
    {
      "cell_type": "markdown",
      "source": [
        "## Task Two\n",
        "Import the sql tables you created as dataframes.\n",
        "\n",
        "Go to work generating summary statistics using the pivot table and group by methods that you learned.  Your goal is to roughly be able to describe customer behavior given a set of summary tables.  For example, what is the average number of products purchased at a given time? What is the lifetime value of a customer?  How long before the average customer churns?  \n",
        "Get a general feel for how the business is doing."
      ],
      "metadata": {
        "id": "TZNmTcHOk0RS"
      }
    },
    {
      "cell_type": "code",
      "source": [
        "%%sql"
      ],
      "metadata": {
        "colab": {
          "base_uri": "https://localhost:8080/"
        },
        "id": "jxaoyb7bjPVP",
        "outputId": "aa83d5c9-9b29-4a43-d374-55e06fbfa925"
      },
      "execution_count": 28,
      "outputs": [
        {
          "output_type": "stream",
          "name": "stdout",
          "text": [
            " * sqlite:///Run_SQL_Jupyter.db\n",
            "(sqlite3.OperationalError) near \"pd\": syntax error\n",
            "[SQL: pd.read_sql(customer_final)]\n",
            "(Background on this error at: https://sqlalche.me/e/14/e3q8)\n"
          ]
        }
      ]
    },
    {
      "cell_type": "code",
      "source": [
        "transaction_df.merge(product_df, left_on='product_id', right_on='product_id', validate=False)"
      ],
      "metadata": {
        "id": "Kc7ui4Q1m3g6",
        "outputId": "ecd7cc70-5a65-4621-ace3-3431b302889e",
        "colab": {
          "base_uri": "https://localhost:8080/",
          "height": 316
        }
      },
      "execution_count": 72,
      "outputs": [
        {
          "output_type": "error",
          "ename": "KeyError",
          "evalue": "ignored",
          "traceback": [
            "\u001b[0;31m---------------------------------------------------------------------------\u001b[0m",
            "\u001b[0;31mKeyError\u001b[0m                                  Traceback (most recent call last)",
            "\u001b[0;32m<ipython-input-72-58d96d3bd007>\u001b[0m in \u001b[0;36m<module>\u001b[0;34m\u001b[0m\n\u001b[0;32m----> 1\u001b[0;31m \u001b[0mtransaction_df\u001b[0m\u001b[0;34m.\u001b[0m\u001b[0mmerge\u001b[0m\u001b[0;34m(\u001b[0m\u001b[0mproduct_df\u001b[0m\u001b[0;34m,\u001b[0m \u001b[0mleft_on\u001b[0m\u001b[0;34m=\u001b[0m\u001b[0;34m'product_id'\u001b[0m\u001b[0;34m,\u001b[0m \u001b[0mright_on\u001b[0m\u001b[0;34m=\u001b[0m\u001b[0;34m'product_id'\u001b[0m\u001b[0;34m,\u001b[0m \u001b[0mvalidate\u001b[0m\u001b[0;34m=\u001b[0m\u001b[0;32mFalse\u001b[0m\u001b[0;34m)\u001b[0m\u001b[0;34m\u001b[0m\u001b[0;34m\u001b[0m\u001b[0m\n\u001b[0m",
            "\u001b[0;32m/usr/local/lib/python3.9/dist-packages/pandas/core/frame.py\u001b[0m in \u001b[0;36mmerge\u001b[0;34m(self, right, how, on, left_on, right_on, left_index, right_index, sort, suffixes, copy, indicator, validate)\u001b[0m\n\u001b[1;32m   9352\u001b[0m         \u001b[0;32mfrom\u001b[0m \u001b[0mpandas\u001b[0m\u001b[0;34m.\u001b[0m\u001b[0mcore\u001b[0m\u001b[0;34m.\u001b[0m\u001b[0mreshape\u001b[0m\u001b[0;34m.\u001b[0m\u001b[0mmerge\u001b[0m \u001b[0;32mimport\u001b[0m \u001b[0mmerge\u001b[0m\u001b[0;34m\u001b[0m\u001b[0;34m\u001b[0m\u001b[0m\n\u001b[1;32m   9353\u001b[0m \u001b[0;34m\u001b[0m\u001b[0m\n\u001b[0;32m-> 9354\u001b[0;31m         return merge(\n\u001b[0m\u001b[1;32m   9355\u001b[0m             \u001b[0mself\u001b[0m\u001b[0;34m,\u001b[0m\u001b[0;34m\u001b[0m\u001b[0;34m\u001b[0m\u001b[0m\n\u001b[1;32m   9356\u001b[0m             \u001b[0mright\u001b[0m\u001b[0;34m,\u001b[0m\u001b[0;34m\u001b[0m\u001b[0;34m\u001b[0m\u001b[0m\n",
            "\u001b[0;32m/usr/local/lib/python3.9/dist-packages/pandas/core/reshape/merge.py\u001b[0m in \u001b[0;36mmerge\u001b[0;34m(left, right, how, on, left_on, right_on, left_index, right_index, sort, suffixes, copy, indicator, validate)\u001b[0m\n\u001b[1;32m    105\u001b[0m     \u001b[0mvalidate\u001b[0m\u001b[0;34m:\u001b[0m \u001b[0mstr\u001b[0m \u001b[0;34m|\u001b[0m \u001b[0;32mNone\u001b[0m \u001b[0;34m=\u001b[0m \u001b[0;32mNone\u001b[0m\u001b[0;34m,\u001b[0m\u001b[0;34m\u001b[0m\u001b[0;34m\u001b[0m\u001b[0m\n\u001b[1;32m    106\u001b[0m ) -> DataFrame:\n\u001b[0;32m--> 107\u001b[0;31m     op = _MergeOperation(\n\u001b[0m\u001b[1;32m    108\u001b[0m         \u001b[0mleft\u001b[0m\u001b[0;34m,\u001b[0m\u001b[0;34m\u001b[0m\u001b[0;34m\u001b[0m\u001b[0m\n\u001b[1;32m    109\u001b[0m         \u001b[0mright\u001b[0m\u001b[0;34m,\u001b[0m\u001b[0;34m\u001b[0m\u001b[0;34m\u001b[0m\u001b[0m\n",
            "\u001b[0;32m/usr/local/lib/python3.9/dist-packages/pandas/core/reshape/merge.py\u001b[0m in \u001b[0;36m__init__\u001b[0;34m(self, left, right, how, on, left_on, right_on, axis, left_index, right_index, sort, suffixes, copy, indicator, validate)\u001b[0m\n\u001b[1;32m    698\u001b[0m             \u001b[0mself\u001b[0m\u001b[0;34m.\u001b[0m\u001b[0mright_join_keys\u001b[0m\u001b[0;34m,\u001b[0m\u001b[0;34m\u001b[0m\u001b[0;34m\u001b[0m\u001b[0m\n\u001b[1;32m    699\u001b[0m             \u001b[0mself\u001b[0m\u001b[0;34m.\u001b[0m\u001b[0mjoin_names\u001b[0m\u001b[0;34m,\u001b[0m\u001b[0;34m\u001b[0m\u001b[0;34m\u001b[0m\u001b[0m\n\u001b[0;32m--> 700\u001b[0;31m         ) = self._get_merge_keys()\n\u001b[0m\u001b[1;32m    701\u001b[0m \u001b[0;34m\u001b[0m\u001b[0m\n\u001b[1;32m    702\u001b[0m         \u001b[0;31m# validate the merge keys dtypes. We may need to coerce\u001b[0m\u001b[0;34m\u001b[0m\u001b[0;34m\u001b[0m\u001b[0m\n",
            "\u001b[0;32m/usr/local/lib/python3.9/dist-packages/pandas/core/reshape/merge.py\u001b[0m in \u001b[0;36m_get_merge_keys\u001b[0;34m(self)\u001b[0m\n\u001b[1;32m   1108\u001b[0m                         \u001b[0mright_keys\u001b[0m\u001b[0;34m.\u001b[0m\u001b[0mappend\u001b[0m\u001b[0;34m(\u001b[0m\u001b[0mrk\u001b[0m\u001b[0;34m)\u001b[0m\u001b[0;34m\u001b[0m\u001b[0;34m\u001b[0m\u001b[0m\n\u001b[1;32m   1109\u001b[0m                     \u001b[0;32mif\u001b[0m \u001b[0mlk\u001b[0m \u001b[0;32mis\u001b[0m \u001b[0;32mnot\u001b[0m \u001b[0;32mNone\u001b[0m\u001b[0;34m:\u001b[0m\u001b[0;34m\u001b[0m\u001b[0;34m\u001b[0m\u001b[0m\n\u001b[0;32m-> 1110\u001b[0;31m                         \u001b[0mleft_keys\u001b[0m\u001b[0;34m.\u001b[0m\u001b[0mappend\u001b[0m\u001b[0;34m(\u001b[0m\u001b[0mleft\u001b[0m\u001b[0;34m.\u001b[0m\u001b[0m_get_label_or_level_values\u001b[0m\u001b[0;34m(\u001b[0m\u001b[0mlk\u001b[0m\u001b[0;34m)\u001b[0m\u001b[0;34m)\u001b[0m\u001b[0;34m\u001b[0m\u001b[0;34m\u001b[0m\u001b[0m\n\u001b[0m\u001b[1;32m   1111\u001b[0m                         \u001b[0mjoin_names\u001b[0m\u001b[0;34m.\u001b[0m\u001b[0mappend\u001b[0m\u001b[0;34m(\u001b[0m\u001b[0mlk\u001b[0m\u001b[0;34m)\u001b[0m\u001b[0;34m\u001b[0m\u001b[0;34m\u001b[0m\u001b[0m\n\u001b[1;32m   1112\u001b[0m                     \u001b[0;32melse\u001b[0m\u001b[0;34m:\u001b[0m\u001b[0;34m\u001b[0m\u001b[0;34m\u001b[0m\u001b[0m\n",
            "\u001b[0;32m/usr/local/lib/python3.9/dist-packages/pandas/core/generic.py\u001b[0m in \u001b[0;36m_get_label_or_level_values\u001b[0;34m(self, key, axis)\u001b[0m\n\u001b[1;32m   1838\u001b[0m             \u001b[0mvalues\u001b[0m \u001b[0;34m=\u001b[0m \u001b[0mself\u001b[0m\u001b[0;34m.\u001b[0m\u001b[0maxes\u001b[0m\u001b[0;34m[\u001b[0m\u001b[0maxis\u001b[0m\u001b[0;34m]\u001b[0m\u001b[0;34m.\u001b[0m\u001b[0mget_level_values\u001b[0m\u001b[0;34m(\u001b[0m\u001b[0mkey\u001b[0m\u001b[0;34m)\u001b[0m\u001b[0;34m.\u001b[0m\u001b[0m_values\u001b[0m\u001b[0;34m\u001b[0m\u001b[0;34m\u001b[0m\u001b[0m\n\u001b[1;32m   1839\u001b[0m         \u001b[0;32melse\u001b[0m\u001b[0;34m:\u001b[0m\u001b[0;34m\u001b[0m\u001b[0;34m\u001b[0m\u001b[0m\n\u001b[0;32m-> 1840\u001b[0;31m             \u001b[0;32mraise\u001b[0m \u001b[0mKeyError\u001b[0m\u001b[0;34m(\u001b[0m\u001b[0mkey\u001b[0m\u001b[0;34m)\u001b[0m\u001b[0;34m\u001b[0m\u001b[0;34m\u001b[0m\u001b[0m\n\u001b[0m\u001b[1;32m   1841\u001b[0m \u001b[0;34m\u001b[0m\u001b[0m\n\u001b[1;32m   1842\u001b[0m         \u001b[0;31m# Check for duplicates\u001b[0m\u001b[0;34m\u001b[0m\u001b[0;34m\u001b[0m\u001b[0m\n",
            "\u001b[0;31mKeyError\u001b[0m: 'product_id'"
          ]
        }
      ]
    },
    {
      "cell_type": "code",
      "source": [
        "transaction_df.groupby(pd.Grouper(key='transaction_date', freq='M'))"
      ],
      "metadata": {
        "id": "OQAj0WGOo977",
        "outputId": "34fa7d83-c86a-47c8-81fb-e54e14bccbac",
        "colab": {
          "base_uri": "https://localhost:8080/",
          "height": 316
        }
      },
      "execution_count": 71,
      "outputs": [
        {
          "output_type": "error",
          "ename": "TypeError",
          "evalue": "ignored",
          "traceback": [
            "\u001b[0;31m---------------------------------------------------------------------------\u001b[0m",
            "\u001b[0;31mTypeError\u001b[0m                                 Traceback (most recent call last)",
            "\u001b[0;32m<ipython-input-71-15ab3aeffaab>\u001b[0m in \u001b[0;36m<module>\u001b[0;34m\u001b[0m\n\u001b[0;32m----> 1\u001b[0;31m \u001b[0mtransaction_df\u001b[0m\u001b[0;34m.\u001b[0m\u001b[0mgroupby\u001b[0m\u001b[0;34m(\u001b[0m\u001b[0mpd\u001b[0m\u001b[0;34m.\u001b[0m\u001b[0mGrouper\u001b[0m\u001b[0;34m(\u001b[0m\u001b[0mkey\u001b[0m\u001b[0;34m=\u001b[0m\u001b[0;34m'transaction_date'\u001b[0m\u001b[0;34m,\u001b[0m \u001b[0mfreq\u001b[0m\u001b[0;34m=\u001b[0m\u001b[0;34m'M'\u001b[0m\u001b[0;34m)\u001b[0m\u001b[0;34m)\u001b[0m\u001b[0;34m.\u001b[0m\u001b[0msum\u001b[0m\u001b[0;34m(\u001b[0m\u001b[0;34m)\u001b[0m\u001b[0;34m\u001b[0m\u001b[0;34m\u001b[0m\u001b[0m\n\u001b[0m",
            "\u001b[0;32m/usr/local/lib/python3.9/dist-packages/pandas/core/frame.py\u001b[0m in \u001b[0;36mgroupby\u001b[0;34m(self, by, axis, level, as_index, sort, group_keys, squeeze, observed, dropna)\u001b[0m\n\u001b[1;32m   7719\u001b[0m         \u001b[0;31m# error: Argument \"squeeze\" to \"DataFrameGroupBy\" has incompatible type\u001b[0m\u001b[0;34m\u001b[0m\u001b[0;34m\u001b[0m\u001b[0m\n\u001b[1;32m   7720\u001b[0m         \u001b[0;31m# \"Union[bool, NoDefault]\"; expected \"bool\"\u001b[0m\u001b[0;34m\u001b[0m\u001b[0;34m\u001b[0m\u001b[0m\n\u001b[0;32m-> 7721\u001b[0;31m         return DataFrameGroupBy(\n\u001b[0m\u001b[1;32m   7722\u001b[0m             \u001b[0mobj\u001b[0m\u001b[0;34m=\u001b[0m\u001b[0mself\u001b[0m\u001b[0;34m,\u001b[0m\u001b[0;34m\u001b[0m\u001b[0;34m\u001b[0m\u001b[0m\n\u001b[1;32m   7723\u001b[0m             \u001b[0mkeys\u001b[0m\u001b[0;34m=\u001b[0m\u001b[0mby\u001b[0m\u001b[0;34m,\u001b[0m\u001b[0;34m\u001b[0m\u001b[0;34m\u001b[0m\u001b[0m\n",
            "\u001b[0;32m/usr/local/lib/python3.9/dist-packages/pandas/core/groupby/groupby.py\u001b[0m in \u001b[0;36m__init__\u001b[0;34m(self, obj, keys, axis, level, grouper, exclusions, selection, as_index, sort, group_keys, squeeze, observed, mutated, dropna)\u001b[0m\n\u001b[1;32m    880\u001b[0m             \u001b[0;32mfrom\u001b[0m \u001b[0mpandas\u001b[0m\u001b[0;34m.\u001b[0m\u001b[0mcore\u001b[0m\u001b[0;34m.\u001b[0m\u001b[0mgroupby\u001b[0m\u001b[0;34m.\u001b[0m\u001b[0mgrouper\u001b[0m \u001b[0;32mimport\u001b[0m \u001b[0mget_grouper\u001b[0m\u001b[0;34m\u001b[0m\u001b[0;34m\u001b[0m\u001b[0m\n\u001b[1;32m    881\u001b[0m \u001b[0;34m\u001b[0m\u001b[0m\n\u001b[0;32m--> 882\u001b[0;31m             grouper, exclusions, obj = get_grouper(\n\u001b[0m\u001b[1;32m    883\u001b[0m                 \u001b[0mobj\u001b[0m\u001b[0;34m,\u001b[0m\u001b[0;34m\u001b[0m\u001b[0;34m\u001b[0m\u001b[0m\n\u001b[1;32m    884\u001b[0m                 \u001b[0mkeys\u001b[0m\u001b[0;34m,\u001b[0m\u001b[0;34m\u001b[0m\u001b[0;34m\u001b[0m\u001b[0m\n",
            "\u001b[0;32m/usr/local/lib/python3.9/dist-packages/pandas/core/groupby/grouper.py\u001b[0m in \u001b[0;36mget_grouper\u001b[0;34m(obj, key, axis, level, sort, observed, mutated, validate, dropna)\u001b[0m\n\u001b[1;32m    782\u001b[0m     \u001b[0;31m# a passed-in Grouper, directly convert\u001b[0m\u001b[0;34m\u001b[0m\u001b[0;34m\u001b[0m\u001b[0m\n\u001b[1;32m    783\u001b[0m     \u001b[0;32mif\u001b[0m \u001b[0misinstance\u001b[0m\u001b[0;34m(\u001b[0m\u001b[0mkey\u001b[0m\u001b[0;34m,\u001b[0m \u001b[0mGrouper\u001b[0m\u001b[0;34m)\u001b[0m\u001b[0;34m:\u001b[0m\u001b[0;34m\u001b[0m\u001b[0;34m\u001b[0m\u001b[0m\n\u001b[0;32m--> 784\u001b[0;31m         \u001b[0mbinner\u001b[0m\u001b[0;34m,\u001b[0m \u001b[0mgrouper\u001b[0m\u001b[0;34m,\u001b[0m \u001b[0mobj\u001b[0m \u001b[0;34m=\u001b[0m \u001b[0mkey\u001b[0m\u001b[0;34m.\u001b[0m\u001b[0m_get_grouper\u001b[0m\u001b[0;34m(\u001b[0m\u001b[0mobj\u001b[0m\u001b[0;34m,\u001b[0m \u001b[0mvalidate\u001b[0m\u001b[0;34m=\u001b[0m\u001b[0;32mFalse\u001b[0m\u001b[0;34m)\u001b[0m\u001b[0;34m\u001b[0m\u001b[0;34m\u001b[0m\u001b[0m\n\u001b[0m\u001b[1;32m    785\u001b[0m         \u001b[0;32mif\u001b[0m \u001b[0mkey\u001b[0m\u001b[0;34m.\u001b[0m\u001b[0mkey\u001b[0m \u001b[0;32mis\u001b[0m \u001b[0;32mNone\u001b[0m\u001b[0;34m:\u001b[0m\u001b[0;34m\u001b[0m\u001b[0;34m\u001b[0m\u001b[0m\n\u001b[1;32m    786\u001b[0m             \u001b[0;32mreturn\u001b[0m \u001b[0mgrouper\u001b[0m\u001b[0;34m,\u001b[0m \u001b[0mfrozenset\u001b[0m\u001b[0;34m(\u001b[0m\u001b[0;34m)\u001b[0m\u001b[0;34m,\u001b[0m \u001b[0mobj\u001b[0m\u001b[0;34m\u001b[0m\u001b[0;34m\u001b[0m\u001b[0m\n",
            "\u001b[0;32m/usr/local/lib/python3.9/dist-packages/pandas/core/resample.py\u001b[0m in \u001b[0;36m_get_grouper\u001b[0;34m(self, obj, validate)\u001b[0m\n\u001b[1;32m   1605\u001b[0m     \u001b[0;32mdef\u001b[0m \u001b[0m_get_grouper\u001b[0m\u001b[0;34m(\u001b[0m\u001b[0mself\u001b[0m\u001b[0;34m,\u001b[0m \u001b[0mobj\u001b[0m\u001b[0;34m,\u001b[0m \u001b[0mvalidate\u001b[0m\u001b[0;34m:\u001b[0m \u001b[0mbool\u001b[0m \u001b[0;34m=\u001b[0m \u001b[0;32mTrue\u001b[0m\u001b[0;34m)\u001b[0m\u001b[0;34m:\u001b[0m\u001b[0;34m\u001b[0m\u001b[0;34m\u001b[0m\u001b[0m\n\u001b[1;32m   1606\u001b[0m         \u001b[0;31m# create the resampler and return our binner\u001b[0m\u001b[0;34m\u001b[0m\u001b[0;34m\u001b[0m\u001b[0m\n\u001b[0;32m-> 1607\u001b[0;31m         \u001b[0mr\u001b[0m \u001b[0;34m=\u001b[0m \u001b[0mself\u001b[0m\u001b[0;34m.\u001b[0m\u001b[0m_get_resampler\u001b[0m\u001b[0;34m(\u001b[0m\u001b[0mobj\u001b[0m\u001b[0;34m)\u001b[0m\u001b[0;34m\u001b[0m\u001b[0;34m\u001b[0m\u001b[0m\n\u001b[0m\u001b[1;32m   1608\u001b[0m         \u001b[0;32mreturn\u001b[0m \u001b[0mr\u001b[0m\u001b[0;34m.\u001b[0m\u001b[0mbinner\u001b[0m\u001b[0;34m,\u001b[0m \u001b[0mr\u001b[0m\u001b[0;34m.\u001b[0m\u001b[0mgrouper\u001b[0m\u001b[0;34m,\u001b[0m \u001b[0mr\u001b[0m\u001b[0;34m.\u001b[0m\u001b[0mobj\u001b[0m\u001b[0;34m\u001b[0m\u001b[0;34m\u001b[0m\u001b[0m\n\u001b[1;32m   1609\u001b[0m \u001b[0;34m\u001b[0m\u001b[0m\n",
            "\u001b[0;32m/usr/local/lib/python3.9/dist-packages/pandas/core/resample.py\u001b[0m in \u001b[0;36m_get_resampler\u001b[0;34m(self, obj, kind)\u001b[0m\n\u001b[1;32m   1597\u001b[0m             \u001b[0;32mreturn\u001b[0m \u001b[0mTimedeltaIndexResampler\u001b[0m\u001b[0;34m(\u001b[0m\u001b[0mobj\u001b[0m\u001b[0;34m,\u001b[0m \u001b[0mgroupby\u001b[0m\u001b[0;34m=\u001b[0m\u001b[0mself\u001b[0m\u001b[0;34m,\u001b[0m \u001b[0maxis\u001b[0m\u001b[0;34m=\u001b[0m\u001b[0mself\u001b[0m\u001b[0;34m.\u001b[0m\u001b[0maxis\u001b[0m\u001b[0;34m)\u001b[0m\u001b[0;34m\u001b[0m\u001b[0;34m\u001b[0m\u001b[0m\n\u001b[1;32m   1598\u001b[0m \u001b[0;34m\u001b[0m\u001b[0m\n\u001b[0;32m-> 1599\u001b[0;31m         raise TypeError(\n\u001b[0m\u001b[1;32m   1600\u001b[0m             \u001b[0;34m\"Only valid with DatetimeIndex, \"\u001b[0m\u001b[0;34m\u001b[0m\u001b[0;34m\u001b[0m\u001b[0m\n\u001b[1;32m   1601\u001b[0m             \u001b[0;34m\"TimedeltaIndex or PeriodIndex, \"\u001b[0m\u001b[0;34m\u001b[0m\u001b[0;34m\u001b[0m\u001b[0m\n",
            "\u001b[0;31mTypeError\u001b[0m: Only valid with DatetimeIndex, TimedeltaIndex or PeriodIndex, but got an instance of 'Index'"
          ]
        }
      ]
    },
    {
      "cell_type": "code",
      "source": [
        "prod_cols = product_df[['product_id', 'product_name', 'retail_price']]\n",
        "\n",
        "prod_trans = transaction_df.merge(prod_cols, how='inner', left_on='product_ids', right_on='product_id', validate='many_to_one')"
      ],
      "metadata": {
        "id": "9mSiYKlBpAqH"
      },
      "execution_count": 69,
      "outputs": []
    },
    {
      "cell_type": "code",
      "source": [
        "prod_trans['transaction_date'] = pd.to_datetime(prod_trans['transaction_date'])\n",
        "\n",
        "prod_trans.groupby(pd.Grouper(key='transaction_date', freq='M'))[['num_products', 'transaction_amount']].agg(['sum', 'mean'])"
      ],
      "metadata": {
        "id": "zdv3Y7VqqJTu",
        "outputId": "69205bc9-a81c-4fa1-98f1-a7b849f12d3f",
        "colab": {
          "base_uri": "https://localhost:8080/",
          "height": 864
        }
      },
      "execution_count": 78,
      "outputs": [
        {
          "output_type": "execute_result",
          "data": {
            "text/plain": [
              "                  num_products  transaction_amount\n",
              "transaction_date                                  \n",
              "2021-03-31                   1        8.379300e+02\n",
              "2021-04-30                   0        0.000000e+00\n",
              "2021-05-31                  20        1.207122e+04\n",
              "2021-06-30                   8        6.163970e+03\n",
              "2021-07-31                  55        3.633429e+04\n",
              "2021-08-31                  57        3.926637e+04\n",
              "2021-09-30                  27        1.874059e+04\n",
              "2021-10-31                  58        3.554175e+04\n",
              "2021-11-30                  76        4.574280e+04\n",
              "2021-12-31                 114        7.295313e+04\n",
              "2022-01-31                 156        9.164932e+04\n",
              "2022-02-28                 139        8.979358e+04\n",
              "2022-03-31                 241        1.684102e+05\n",
              "2022-04-30                 321        2.079528e+05\n",
              "2022-05-31                 345        2.193573e+05\n",
              "2022-06-30                 381        2.530819e+05\n",
              "2022-07-31                 568        3.627448e+05\n",
              "2022-08-31                 793        5.164473e+05\n",
              "2022-09-30                1054        6.606608e+05\n",
              "2022-10-31                1802        1.188876e+06\n",
              "2022-11-30                2988        1.931818e+06\n",
              "2022-12-31                5010        3.270244e+06\n",
              "2023-01-31               11552        7.503826e+06\n",
              "2023-02-28               52050        3.358054e+07\n",
              "2023-03-31              255631        1.648122e+08"
            ],
            "text/html": [
              "\n",
              "  <div id=\"df-84e94f02-4fad-4838-8741-4b7d7fa58db2\">\n",
              "    <div class=\"colab-df-container\">\n",
              "      <div>\n",
              "<style scoped>\n",
              "    .dataframe tbody tr th:only-of-type {\n",
              "        vertical-align: middle;\n",
              "    }\n",
              "\n",
              "    .dataframe tbody tr th {\n",
              "        vertical-align: top;\n",
              "    }\n",
              "\n",
              "    .dataframe thead th {\n",
              "        text-align: right;\n",
              "    }\n",
              "</style>\n",
              "<table border=\"1\" class=\"dataframe\">\n",
              "  <thead>\n",
              "    <tr style=\"text-align: right;\">\n",
              "      <th></th>\n",
              "      <th>num_products</th>\n",
              "      <th>transaction_amount</th>\n",
              "    </tr>\n",
              "    <tr>\n",
              "      <th>transaction_date</th>\n",
              "      <th></th>\n",
              "      <th></th>\n",
              "    </tr>\n",
              "  </thead>\n",
              "  <tbody>\n",
              "    <tr>\n",
              "      <th>2021-03-31</th>\n",
              "      <td>1</td>\n",
              "      <td>8.379300e+02</td>\n",
              "    </tr>\n",
              "    <tr>\n",
              "      <th>2021-04-30</th>\n",
              "      <td>0</td>\n",
              "      <td>0.000000e+00</td>\n",
              "    </tr>\n",
              "    <tr>\n",
              "      <th>2021-05-31</th>\n",
              "      <td>20</td>\n",
              "      <td>1.207122e+04</td>\n",
              "    </tr>\n",
              "    <tr>\n",
              "      <th>2021-06-30</th>\n",
              "      <td>8</td>\n",
              "      <td>6.163970e+03</td>\n",
              "    </tr>\n",
              "    <tr>\n",
              "      <th>2021-07-31</th>\n",
              "      <td>55</td>\n",
              "      <td>3.633429e+04</td>\n",
              "    </tr>\n",
              "    <tr>\n",
              "      <th>2021-08-31</th>\n",
              "      <td>57</td>\n",
              "      <td>3.926637e+04</td>\n",
              "    </tr>\n",
              "    <tr>\n",
              "      <th>2021-09-30</th>\n",
              "      <td>27</td>\n",
              "      <td>1.874059e+04</td>\n",
              "    </tr>\n",
              "    <tr>\n",
              "      <th>2021-10-31</th>\n",
              "      <td>58</td>\n",
              "      <td>3.554175e+04</td>\n",
              "    </tr>\n",
              "    <tr>\n",
              "      <th>2021-11-30</th>\n",
              "      <td>76</td>\n",
              "      <td>4.574280e+04</td>\n",
              "    </tr>\n",
              "    <tr>\n",
              "      <th>2021-12-31</th>\n",
              "      <td>114</td>\n",
              "      <td>7.295313e+04</td>\n",
              "    </tr>\n",
              "    <tr>\n",
              "      <th>2022-01-31</th>\n",
              "      <td>156</td>\n",
              "      <td>9.164932e+04</td>\n",
              "    </tr>\n",
              "    <tr>\n",
              "      <th>2022-02-28</th>\n",
              "      <td>139</td>\n",
              "      <td>8.979358e+04</td>\n",
              "    </tr>\n",
              "    <tr>\n",
              "      <th>2022-03-31</th>\n",
              "      <td>241</td>\n",
              "      <td>1.684102e+05</td>\n",
              "    </tr>\n",
              "    <tr>\n",
              "      <th>2022-04-30</th>\n",
              "      <td>321</td>\n",
              "      <td>2.079528e+05</td>\n",
              "    </tr>\n",
              "    <tr>\n",
              "      <th>2022-05-31</th>\n",
              "      <td>345</td>\n",
              "      <td>2.193573e+05</td>\n",
              "    </tr>\n",
              "    <tr>\n",
              "      <th>2022-06-30</th>\n",
              "      <td>381</td>\n",
              "      <td>2.530819e+05</td>\n",
              "    </tr>\n",
              "    <tr>\n",
              "      <th>2022-07-31</th>\n",
              "      <td>568</td>\n",
              "      <td>3.627448e+05</td>\n",
              "    </tr>\n",
              "    <tr>\n",
              "      <th>2022-08-31</th>\n",
              "      <td>793</td>\n",
              "      <td>5.164473e+05</td>\n",
              "    </tr>\n",
              "    <tr>\n",
              "      <th>2022-09-30</th>\n",
              "      <td>1054</td>\n",
              "      <td>6.606608e+05</td>\n",
              "    </tr>\n",
              "    <tr>\n",
              "      <th>2022-10-31</th>\n",
              "      <td>1802</td>\n",
              "      <td>1.188876e+06</td>\n",
              "    </tr>\n",
              "    <tr>\n",
              "      <th>2022-11-30</th>\n",
              "      <td>2988</td>\n",
              "      <td>1.931818e+06</td>\n",
              "    </tr>\n",
              "    <tr>\n",
              "      <th>2022-12-31</th>\n",
              "      <td>5010</td>\n",
              "      <td>3.270244e+06</td>\n",
              "    </tr>\n",
              "    <tr>\n",
              "      <th>2023-01-31</th>\n",
              "      <td>11552</td>\n",
              "      <td>7.503826e+06</td>\n",
              "    </tr>\n",
              "    <tr>\n",
              "      <th>2023-02-28</th>\n",
              "      <td>52050</td>\n",
              "      <td>3.358054e+07</td>\n",
              "    </tr>\n",
              "    <tr>\n",
              "      <th>2023-03-31</th>\n",
              "      <td>255631</td>\n",
              "      <td>1.648122e+08</td>\n",
              "    </tr>\n",
              "  </tbody>\n",
              "</table>\n",
              "</div>\n",
              "      <button class=\"colab-df-convert\" onclick=\"convertToInteractive('df-84e94f02-4fad-4838-8741-4b7d7fa58db2')\"\n",
              "              title=\"Convert this dataframe to an interactive table.\"\n",
              "              style=\"display:none;\">\n",
              "        \n",
              "  <svg xmlns=\"http://www.w3.org/2000/svg\" height=\"24px\"viewBox=\"0 0 24 24\"\n",
              "       width=\"24px\">\n",
              "    <path d=\"M0 0h24v24H0V0z\" fill=\"none\"/>\n",
              "    <path d=\"M18.56 5.44l.94 2.06.94-2.06 2.06-.94-2.06-.94-.94-2.06-.94 2.06-2.06.94zm-11 1L8.5 8.5l.94-2.06 2.06-.94-2.06-.94L8.5 2.5l-.94 2.06-2.06.94zm10 10l.94 2.06.94-2.06 2.06-.94-2.06-.94-.94-2.06-.94 2.06-2.06.94z\"/><path d=\"M17.41 7.96l-1.37-1.37c-.4-.4-.92-.59-1.43-.59-.52 0-1.04.2-1.43.59L10.3 9.45l-7.72 7.72c-.78.78-.78 2.05 0 2.83L4 21.41c.39.39.9.59 1.41.59.51 0 1.02-.2 1.41-.59l7.78-7.78 2.81-2.81c.8-.78.8-2.07 0-2.86zM5.41 20L4 18.59l7.72-7.72 1.47 1.35L5.41 20z\"/>\n",
              "  </svg>\n",
              "      </button>\n",
              "      \n",
              "  <style>\n",
              "    .colab-df-container {\n",
              "      display:flex;\n",
              "      flex-wrap:wrap;\n",
              "      gap: 12px;\n",
              "    }\n",
              "\n",
              "    .colab-df-convert {\n",
              "      background-color: #E8F0FE;\n",
              "      border: none;\n",
              "      border-radius: 50%;\n",
              "      cursor: pointer;\n",
              "      display: none;\n",
              "      fill: #1967D2;\n",
              "      height: 32px;\n",
              "      padding: 0 0 0 0;\n",
              "      width: 32px;\n",
              "    }\n",
              "\n",
              "    .colab-df-convert:hover {\n",
              "      background-color: #E2EBFA;\n",
              "      box-shadow: 0px 1px 2px rgba(60, 64, 67, 0.3), 0px 1px 3px 1px rgba(60, 64, 67, 0.15);\n",
              "      fill: #174EA6;\n",
              "    }\n",
              "\n",
              "    [theme=dark] .colab-df-convert {\n",
              "      background-color: #3B4455;\n",
              "      fill: #D2E3FC;\n",
              "    }\n",
              "\n",
              "    [theme=dark] .colab-df-convert:hover {\n",
              "      background-color: #434B5C;\n",
              "      box-shadow: 0px 1px 3px 1px rgba(0, 0, 0, 0.15);\n",
              "      filter: drop-shadow(0px 1px 2px rgba(0, 0, 0, 0.3));\n",
              "      fill: #FFFFFF;\n",
              "    }\n",
              "  </style>\n",
              "\n",
              "      <script>\n",
              "        const buttonEl =\n",
              "          document.querySelector('#df-84e94f02-4fad-4838-8741-4b7d7fa58db2 button.colab-df-convert');\n",
              "        buttonEl.style.display =\n",
              "          google.colab.kernel.accessAllowed ? 'block' : 'none';\n",
              "\n",
              "        async function convertToInteractive(key) {\n",
              "          const element = document.querySelector('#df-84e94f02-4fad-4838-8741-4b7d7fa58db2');\n",
              "          const dataTable =\n",
              "            await google.colab.kernel.invokeFunction('convertToInteractive',\n",
              "                                                     [key], {});\n",
              "          if (!dataTable) return;\n",
              "\n",
              "          const docLinkHtml = 'Like what you see? Visit the ' +\n",
              "            '<a target=\"_blank\" href=https://colab.research.google.com/notebooks/data_table.ipynb>data table notebook</a>'\n",
              "            + ' to learn more about interactive tables.';\n",
              "          element.innerHTML = '';\n",
              "          dataTable['output_type'] = 'display_data';\n",
              "          await google.colab.output.renderOutput(dataTable, element);\n",
              "          const docLink = document.createElement('div');\n",
              "          docLink.innerHTML = docLinkHtml;\n",
              "          element.appendChild(docLink);\n",
              "        }\n",
              "      </script>\n",
              "    </div>\n",
              "  </div>\n",
              "  "
            ]
          },
          "metadata": {},
          "execution_count": 78
        }
      ]
    },
    {
      "cell_type": "code",
      "source": [
        "prod_trans.info()"
      ],
      "metadata": {
        "id": "bzUsxbXFxWeG",
        "outputId": "749d682a-8d7d-44be-cc87-c03160cfa802",
        "colab": {
          "base_uri": "https://localhost:8080/"
        }
      },
      "execution_count": 76,
      "outputs": [
        {
          "output_type": "stream",
          "name": "stdout",
          "text": [
            "<class 'pandas.core.frame.DataFrame'>\n",
            "Int64Index: 198815 entries, 0 to 198814\n",
            "Data columns (total 9 columns):\n",
            " #   Column              Non-Null Count   Dtype  \n",
            "---  ------              --------------   -----  \n",
            " 0   transaction_id      198815 non-null  int64  \n",
            " 1   transaction_date    198815 non-null  object \n",
            " 2   customer_id         198815 non-null  int64  \n",
            " 3   product_ids         198815 non-null  int64  \n",
            " 4   num_products        198815 non-null  int64  \n",
            " 5   transaction_amount  198815 non-null  float64\n",
            " 6   product_id          198815 non-null  int64  \n",
            " 7   product_name        198815 non-null  object \n",
            " 8   retail_price        198815 non-null  float64\n",
            "dtypes: float64(2), int64(5), object(2)\n",
            "memory usage: 15.2+ MB\n"
          ]
        }
      ]
    },
    {
      "cell_type": "markdown",
      "source": [
        "## Task Three\n",
        "Create a powerpoint where are you explaining to the leaders of the business anything you have found that can help drive sales.  This could be popular products, a potential marketing stratgegy targeting a certain group (age, sex, location).  Use real examples from the data and estimate how much your strategy might drive sales."
      ],
      "metadata": {
        "id": "L4spDucclgiX"
      }
    }
  ]
}